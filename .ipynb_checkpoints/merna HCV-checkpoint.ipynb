{
 "cells": [
  {
   "cell_type": "markdown",
   "metadata": {},
   "source": [
    "# Imports"
   ]
  },
  {
   "cell_type": "code",
   "execution_count": 416,
   "metadata": {
    "ExecuteTime": {
     "end_time": "2020-05-26T00:32:37.072345Z",
     "start_time": "2020-05-26T00:32:37.056823Z"
    }
   },
   "outputs": [],
   "source": [
    "import pandas as pd\n",
    "import seaborn as sns\n",
    "import matplotlib.pyplot as plt\n",
    "from sklearn.metrics import accuracy_score\n",
    "from sklearn.model_selection import train_test_split, GridSearchCV\n",
    "from sklearn import metrics\n",
    "from sklearn.ensemble import RandomForestClassifier\n",
    "from sklearn.ensemble import ExtraTreesClassifier\n",
    "from sklearn.feature_selection import SelectFromModel\n",
    "from sklearn.neighbors import KNeighborsClassifier\n",
    "import numpy as np\n",
    "from sklearn.svm import SVC\n",
    "from sklearn.ensemble import BaggingClassifier"
   ]
  },
  {
   "cell_type": "markdown",
   "metadata": {},
   "source": [
    "# Read Data"
   ]
  },
  {
   "cell_type": "code",
   "execution_count": 15,
   "metadata": {
    "ExecuteTime": {
     "end_time": "2020-05-25T21:00:38.087236Z",
     "start_time": "2020-05-25T21:00:38.040317Z"
    }
   },
   "outputs": [],
   "source": [
    "data = pd.read_csv('HCV-Egy-Data.csv')"
   ]
  },
  {
   "cell_type": "code",
   "execution_count": 8,
   "metadata": {
    "ExecuteTime": {
     "end_time": "2020-05-25T20:52:40.468007Z",
     "start_time": "2020-05-25T20:52:40.203166Z"
    }
   },
   "outputs": [
    {
     "data": {
      "text/html": [
       "<div>\n",
       "<style scoped>\n",
       "    .dataframe tbody tr th:only-of-type {\n",
       "        vertical-align: middle;\n",
       "    }\n",
       "\n",
       "    .dataframe tbody tr th {\n",
       "        vertical-align: top;\n",
       "    }\n",
       "\n",
       "    .dataframe thead th {\n",
       "        text-align: right;\n",
       "    }\n",
       "</style>\n",
       "<table border=\"1\" class=\"dataframe\">\n",
       "  <thead>\n",
       "    <tr style=\"text-align: right;\">\n",
       "      <th></th>\n",
       "      <th>Age</th>\n",
       "      <th>Gender</th>\n",
       "      <th>BMI</th>\n",
       "      <th>Fever</th>\n",
       "      <th>Nausea/Vomting</th>\n",
       "      <th>Headache</th>\n",
       "      <th>Diarrhea</th>\n",
       "      <th>Fatigue &amp; generalized bone ache</th>\n",
       "      <th>Jaundice</th>\n",
       "      <th>Epigastric pain</th>\n",
       "      <th>...</th>\n",
       "      <th>ALT 36</th>\n",
       "      <th>ALT 48</th>\n",
       "      <th>ALT after 24 w</th>\n",
       "      <th>RNA Base</th>\n",
       "      <th>RNA 4</th>\n",
       "      <th>RNA 12</th>\n",
       "      <th>RNA EOT</th>\n",
       "      <th>RNA EF</th>\n",
       "      <th>Baseline histological Grading</th>\n",
       "      <th>Baselinehistological staging</th>\n",
       "    </tr>\n",
       "  </thead>\n",
       "  <tbody>\n",
       "    <tr>\n",
       "      <th>count</th>\n",
       "      <td>1385.000000</td>\n",
       "      <td>1385.000000</td>\n",
       "      <td>1385.000000</td>\n",
       "      <td>1385.000000</td>\n",
       "      <td>1385.000000</td>\n",
       "      <td>1385.000000</td>\n",
       "      <td>1385.000000</td>\n",
       "      <td>1385.000000</td>\n",
       "      <td>1385.000000</td>\n",
       "      <td>1385.000000</td>\n",
       "      <td>...</td>\n",
       "      <td>1385.000000</td>\n",
       "      <td>1385.000000</td>\n",
       "      <td>1385.000000</td>\n",
       "      <td>1.385000e+03</td>\n",
       "      <td>1.385000e+03</td>\n",
       "      <td>1.385000e+03</td>\n",
       "      <td>1385.000000</td>\n",
       "      <td>1385.000000</td>\n",
       "      <td>1385.000000</td>\n",
       "      <td>1385.000000</td>\n",
       "    </tr>\n",
       "    <tr>\n",
       "      <th>mean</th>\n",
       "      <td>46.319134</td>\n",
       "      <td>1.489531</td>\n",
       "      <td>28.608664</td>\n",
       "      <td>1.515523</td>\n",
       "      <td>1.502527</td>\n",
       "      <td>1.496029</td>\n",
       "      <td>1.502527</td>\n",
       "      <td>1.498917</td>\n",
       "      <td>1.501083</td>\n",
       "      <td>1.503971</td>\n",
       "      <td>...</td>\n",
       "      <td>83.117690</td>\n",
       "      <td>83.629603</td>\n",
       "      <td>33.438267</td>\n",
       "      <td>5.909512e+05</td>\n",
       "      <td>6.008956e+05</td>\n",
       "      <td>2.887536e+05</td>\n",
       "      <td>287660.336462</td>\n",
       "      <td>291378.290975</td>\n",
       "      <td>9.761733</td>\n",
       "      <td>2.536462</td>\n",
       "    </tr>\n",
       "    <tr>\n",
       "      <th>std</th>\n",
       "      <td>8.781506</td>\n",
       "      <td>0.500071</td>\n",
       "      <td>4.076215</td>\n",
       "      <td>0.499939</td>\n",
       "      <td>0.500174</td>\n",
       "      <td>0.500165</td>\n",
       "      <td>0.500174</td>\n",
       "      <td>0.500179</td>\n",
       "      <td>0.500179</td>\n",
       "      <td>0.500165</td>\n",
       "      <td>...</td>\n",
       "      <td>26.399031</td>\n",
       "      <td>26.223955</td>\n",
       "      <td>7.073569</td>\n",
       "      <td>3.539354e+05</td>\n",
       "      <td>3.623151e+05</td>\n",
       "      <td>2.853507e+05</td>\n",
       "      <td>264559.525070</td>\n",
       "      <td>267700.691713</td>\n",
       "      <td>4.023896</td>\n",
       "      <td>1.121392</td>\n",
       "    </tr>\n",
       "    <tr>\n",
       "      <th>min</th>\n",
       "      <td>32.000000</td>\n",
       "      <td>1.000000</td>\n",
       "      <td>22.000000</td>\n",
       "      <td>1.000000</td>\n",
       "      <td>1.000000</td>\n",
       "      <td>1.000000</td>\n",
       "      <td>1.000000</td>\n",
       "      <td>1.000000</td>\n",
       "      <td>1.000000</td>\n",
       "      <td>1.000000</td>\n",
       "      <td>...</td>\n",
       "      <td>5.000000</td>\n",
       "      <td>5.000000</td>\n",
       "      <td>5.000000</td>\n",
       "      <td>1.100000e+01</td>\n",
       "      <td>5.000000e+00</td>\n",
       "      <td>5.000000e+00</td>\n",
       "      <td>5.000000</td>\n",
       "      <td>5.000000</td>\n",
       "      <td>3.000000</td>\n",
       "      <td>1.000000</td>\n",
       "    </tr>\n",
       "    <tr>\n",
       "      <th>25%</th>\n",
       "      <td>39.000000</td>\n",
       "      <td>1.000000</td>\n",
       "      <td>25.000000</td>\n",
       "      <td>1.000000</td>\n",
       "      <td>1.000000</td>\n",
       "      <td>1.000000</td>\n",
       "      <td>1.000000</td>\n",
       "      <td>1.000000</td>\n",
       "      <td>1.000000</td>\n",
       "      <td>1.000000</td>\n",
       "      <td>...</td>\n",
       "      <td>61.000000</td>\n",
       "      <td>61.000000</td>\n",
       "      <td>28.000000</td>\n",
       "      <td>2.692530e+05</td>\n",
       "      <td>2.708930e+05</td>\n",
       "      <td>5.000000e+00</td>\n",
       "      <td>5.000000</td>\n",
       "      <td>5.000000</td>\n",
       "      <td>6.000000</td>\n",
       "      <td>2.000000</td>\n",
       "    </tr>\n",
       "    <tr>\n",
       "      <th>50%</th>\n",
       "      <td>46.000000</td>\n",
       "      <td>1.000000</td>\n",
       "      <td>29.000000</td>\n",
       "      <td>2.000000</td>\n",
       "      <td>2.000000</td>\n",
       "      <td>1.000000</td>\n",
       "      <td>2.000000</td>\n",
       "      <td>1.000000</td>\n",
       "      <td>2.000000</td>\n",
       "      <td>2.000000</td>\n",
       "      <td>...</td>\n",
       "      <td>84.000000</td>\n",
       "      <td>83.000000</td>\n",
       "      <td>34.000000</td>\n",
       "      <td>5.931030e+05</td>\n",
       "      <td>5.978690e+05</td>\n",
       "      <td>2.343590e+05</td>\n",
       "      <td>251376.000000</td>\n",
       "      <td>244049.000000</td>\n",
       "      <td>10.000000</td>\n",
       "      <td>3.000000</td>\n",
       "    </tr>\n",
       "    <tr>\n",
       "      <th>75%</th>\n",
       "      <td>54.000000</td>\n",
       "      <td>2.000000</td>\n",
       "      <td>32.000000</td>\n",
       "      <td>2.000000</td>\n",
       "      <td>2.000000</td>\n",
       "      <td>2.000000</td>\n",
       "      <td>2.000000</td>\n",
       "      <td>2.000000</td>\n",
       "      <td>2.000000</td>\n",
       "      <td>2.000000</td>\n",
       "      <td>...</td>\n",
       "      <td>106.000000</td>\n",
       "      <td>106.000000</td>\n",
       "      <td>40.000000</td>\n",
       "      <td>8.867910e+05</td>\n",
       "      <td>9.090930e+05</td>\n",
       "      <td>5.248190e+05</td>\n",
       "      <td>517806.000000</td>\n",
       "      <td>527864.000000</td>\n",
       "      <td>13.000000</td>\n",
       "      <td>4.000000</td>\n",
       "    </tr>\n",
       "    <tr>\n",
       "      <th>max</th>\n",
       "      <td>61.000000</td>\n",
       "      <td>2.000000</td>\n",
       "      <td>35.000000</td>\n",
       "      <td>2.000000</td>\n",
       "      <td>2.000000</td>\n",
       "      <td>2.000000</td>\n",
       "      <td>2.000000</td>\n",
       "      <td>2.000000</td>\n",
       "      <td>2.000000</td>\n",
       "      <td>2.000000</td>\n",
       "      <td>...</td>\n",
       "      <td>128.000000</td>\n",
       "      <td>128.000000</td>\n",
       "      <td>45.000000</td>\n",
       "      <td>1.201086e+06</td>\n",
       "      <td>1.201715e+06</td>\n",
       "      <td>3.731527e+06</td>\n",
       "      <td>808450.000000</td>\n",
       "      <td>810333.000000</td>\n",
       "      <td>16.000000</td>\n",
       "      <td>4.000000</td>\n",
       "    </tr>\n",
       "  </tbody>\n",
       "</table>\n",
       "<p>8 rows × 29 columns</p>\n",
       "</div>"
      ],
      "text/plain": [
       "               Age       Gender          BMI        Fever  Nausea/Vomting  \\\n",
       "count  1385.000000  1385.000000  1385.000000  1385.000000     1385.000000   \n",
       "mean     46.319134     1.489531    28.608664     1.515523        1.502527   \n",
       "std       8.781506     0.500071     4.076215     0.499939        0.500174   \n",
       "min      32.000000     1.000000    22.000000     1.000000        1.000000   \n",
       "25%      39.000000     1.000000    25.000000     1.000000        1.000000   \n",
       "50%      46.000000     1.000000    29.000000     2.000000        2.000000   \n",
       "75%      54.000000     2.000000    32.000000     2.000000        2.000000   \n",
       "max      61.000000     2.000000    35.000000     2.000000        2.000000   \n",
       "\n",
       "         Headache     Diarrhea   Fatigue & generalized bone ache   \\\n",
       "count  1385.000000  1385.000000                       1385.000000   \n",
       "mean      1.496029     1.502527                          1.498917   \n",
       "std       0.500165     0.500174                          0.500179   \n",
       "min       1.000000     1.000000                          1.000000   \n",
       "25%       1.000000     1.000000                          1.000000   \n",
       "50%       1.000000     2.000000                          1.000000   \n",
       "75%       2.000000     2.000000                          2.000000   \n",
       "max       2.000000     2.000000                          2.000000   \n",
       "\n",
       "         Jaundice   Epigastric pain   ...       ALT 36       ALT 48  \\\n",
       "count  1385.000000       1385.000000  ...  1385.000000  1385.000000   \n",
       "mean      1.501083          1.503971  ...    83.117690    83.629603   \n",
       "std       0.500179          0.500165  ...    26.399031    26.223955   \n",
       "min       1.000000          1.000000  ...     5.000000     5.000000   \n",
       "25%       1.000000          1.000000  ...    61.000000    61.000000   \n",
       "50%       2.000000          2.000000  ...    84.000000    83.000000   \n",
       "75%       2.000000          2.000000  ...   106.000000   106.000000   \n",
       "max       2.000000          2.000000  ...   128.000000   128.000000   \n",
       "\n",
       "       ALT after 24 w      RNA Base         RNA 4        RNA 12  \\\n",
       "count     1385.000000  1.385000e+03  1.385000e+03  1.385000e+03   \n",
       "mean        33.438267  5.909512e+05  6.008956e+05  2.887536e+05   \n",
       "std          7.073569  3.539354e+05  3.623151e+05  2.853507e+05   \n",
       "min          5.000000  1.100000e+01  5.000000e+00  5.000000e+00   \n",
       "25%         28.000000  2.692530e+05  2.708930e+05  5.000000e+00   \n",
       "50%         34.000000  5.931030e+05  5.978690e+05  2.343590e+05   \n",
       "75%         40.000000  8.867910e+05  9.090930e+05  5.248190e+05   \n",
       "max         45.000000  1.201086e+06  1.201715e+06  3.731527e+06   \n",
       "\n",
       "             RNA EOT         RNA EF  Baseline histological Grading  \\\n",
       "count    1385.000000    1385.000000                    1385.000000   \n",
       "mean   287660.336462  291378.290975                       9.761733   \n",
       "std    264559.525070  267700.691713                       4.023896   \n",
       "min         5.000000       5.000000                       3.000000   \n",
       "25%         5.000000       5.000000                       6.000000   \n",
       "50%    251376.000000  244049.000000                      10.000000   \n",
       "75%    517806.000000  527864.000000                      13.000000   \n",
       "max    808450.000000  810333.000000                      16.000000   \n",
       "\n",
       "       Baselinehistological staging  \n",
       "count                   1385.000000  \n",
       "mean                       2.536462  \n",
       "std                        1.121392  \n",
       "min                        1.000000  \n",
       "25%                        2.000000  \n",
       "50%                        3.000000  \n",
       "75%                        4.000000  \n",
       "max                        4.000000  \n",
       "\n",
       "[8 rows x 29 columns]"
      ]
     },
     "execution_count": 8,
     "metadata": {},
     "output_type": "execute_result"
    }
   ],
   "source": [
    "data.describe()"
   ]
  },
  {
   "cell_type": "code",
   "execution_count": 29,
   "metadata": {
    "ExecuteTime": {
     "end_time": "2020-05-25T21:09:13.822697Z",
     "start_time": "2020-05-25T21:09:13.765848Z"
    }
   },
   "outputs": [
    {
     "data": {
      "text/plain": [
       "BMI                                -0.057259\n",
       "Epigastric pain                    -0.052110\n",
       "Baseline histological Grading      -0.047072\n",
       "RNA 4                              -0.032946\n",
       "Fever                              -0.030975\n",
       "AST 1                              -0.025126\n",
       "RNA EOT                            -0.017486\n",
       "Plat                               -0.017284\n",
       "ALT4                               -0.014997\n",
       "ALT 48                             -0.013533\n",
       "ALT 36                             -0.006430\n",
       "Diarrhea                           -0.005639\n",
       "ALT 24                             -0.004888\n",
       "Headache                           -0.001996\n",
       "ALT 12                              0.000809\n",
       "HGB                                 0.002752\n",
       "RBC                                 0.009623\n",
       "Gender                              0.011955\n",
       "Fatigue & generalized bone ache     0.014563\n",
       "WBC                                 0.017945\n",
       "Jaundice                            0.020219\n",
       "RNA Base                            0.029411\n",
       "RNA EF                              0.030519\n",
       "ALT after 24 w                      0.033919\n",
       "RNA 12                              0.034449\n",
       "ALT 1                               0.036867\n",
       "Nausea/Vomting                      0.054906\n",
       "Baselinehistological staging        1.000000\n",
       "Name: Baselinehistological staging, dtype: float64"
      ]
     },
     "execution_count": 29,
     "metadata": {},
     "output_type": "execute_result"
    }
   ],
   "source": [
    "data[data.columns[1:]].corr()['Baselinehistological staging'][:].sort_values()"
   ]
  },
  {
   "cell_type": "markdown",
   "metadata": {},
   "source": [
    "**Correlation isnt helping**"
   ]
  },
  {
   "cell_type": "markdown",
   "metadata": {},
   "source": [
    "# Trial 1"
   ]
  },
  {
   "cell_type": "markdown",
   "metadata": {},
   "source": [
    "## Discretize all features"
   ]
  },
  {
   "cell_type": "code",
   "execution_count": 319,
   "metadata": {
    "ExecuteTime": {
     "end_time": "2020-05-25T23:53:34.662016Z",
     "start_time": "2020-05-25T23:53:34.617086Z"
    }
   },
   "outputs": [],
   "source": [
    "trial1 = pd.read_csv('HCV-Egy-Data.csv')"
   ]
  },
  {
   "cell_type": "code",
   "execution_count": 320,
   "metadata": {
    "ExecuteTime": {
     "end_time": "2020-05-25T23:54:58.221090Z",
     "start_time": "2020-05-25T23:54:58.165521Z"
    }
   },
   "outputs": [],
   "source": [
    "trial1[\"Age\"] = np.where(trial1[\"Age\"] <= 32,0,trial1[\"Age\"])\n",
    "trial1[\"Age\"] = np.where(trial1[\"Age\"].between(32,37),1,trial1[\"Age\"])\n",
    "trial1[\"Age\"] = np.where(trial1[\"Age\"].between(37,42),2,trial1[\"Age\"])\n",
    "trial1[\"Age\"] = np.where(trial1[\"Age\"].between(42,47),3,trial1[\"Age\"])\n",
    "trial1[\"Age\"] = np.where(trial1[\"Age\"].between(47,52),4,trial1[\"Age\"])\n",
    "trial1[\"Age\"] = np.where(trial1[\"Age\"].between(52,57),5,trial1[\"Age\"])\n",
    "trial1[\"Age\"] = np.where(trial1[\"Age\"].between(57,62),6,trial1[\"Age\"])"
   ]
  },
  {
   "cell_type": "code",
   "execution_count": 321,
   "metadata": {
    "ExecuteTime": {
     "end_time": "2020-05-25T23:54:59.373458Z",
     "start_time": "2020-05-25T23:54:59.332528Z"
    }
   },
   "outputs": [],
   "source": [
    "trial1[\"BMI\"] = np.where(trial1[\"BMI\"].between(-1,18.5, inclusive = False),0,trial1[\"BMI\"])\n",
    "trial1[\"BMI\"] = np.where(trial1[\"BMI\"].between(18.5,24),1,trial1[\"BMI\"])\n",
    "trial1[\"BMI\"] = np.where(trial1[\"BMI\"].between(25,29),2,trial1[\"BMI\"])\n",
    "trial1[\"BMI\"] = np.where(trial1[\"BMI\"].between(30,34),3,trial1[\"BMI\"])\n",
    "trial1[\"BMI\"] = np.where(trial1[\"BMI\"].between(35,40),4,trial1[\"BMI\"])"
   ]
  },
  {
   "cell_type": "code",
   "execution_count": 322,
   "metadata": {
    "ExecuteTime": {
     "end_time": "2020-05-25T23:55:02.571970Z",
     "start_time": "2020-05-25T23:55:02.538049Z"
    }
   },
   "outputs": [],
   "source": [
    "trial1[\"WBC\"] = np.where(trial1[\"WBC\"].between(0,3981),0,trial1[\"WBC\"])\n",
    "trial1[\"WBC\"] = np.where(trial1[\"WBC\"].between(4000,10987),1,trial1[\"WBC\"])\n",
    "trial1[\"WBC\"] = np.where(trial1[\"WBC\"].between(11000,12101),2,trial1[\"WBC\"])"
   ]
  },
  {
   "cell_type": "code",
   "execution_count": 323,
   "metadata": {
    "ExecuteTime": {
     "end_time": "2020-05-25T23:55:03.979453Z",
     "start_time": "2020-05-25T23:55:03.949531Z"
    }
   },
   "outputs": [],
   "source": [
    "trial1[\"RBC\"] = np.where(trial1[\"RBC\"].between(0,3e+06),0,trial1[\"RBC\"])\n",
    "trial1[\"RBC\"] = np.where(trial1[\"RBC\"].between(3e+06,5e+06),1,trial1[\"RBC\"])\n",
    "trial1[\"RBC\"] = np.where(trial1[\"RBC\"] >= 5e+06,2,trial1[\"RBC\"])"
   ]
  },
  {
   "cell_type": "code",
   "execution_count": 325,
   "metadata": {
    "ExecuteTime": {
     "end_time": "2020-05-25T23:55:09.466474Z",
     "start_time": "2020-05-25T23:55:09.383637Z"
    }
   },
   "outputs": [],
   "source": [
    "trial1['HGB'].loc[(trial1['HGB'] <= 13) & (trial1['Gender']==1)]= 0\n",
    "trial1['HGB'].loc[(trial1['HGB'] <= 17.5) & (trial1['HGB'] != 0) & (trial1['Gender']==1)]= 1\n",
    "trial1['HGB'].loc[(trial1['HGB'] > 17.5) & (trial1['HGB']!=1) & (trial1['Gender']==1)]= 2\n",
    "trial1['HGB'].loc[(trial1['HGB'] < 12.3) & (trial1['Gender']==2)]= 0\n",
    "trial1['HGB'].loc[(trial1['HGB'] < 15.3) & (trial1['HGB']!=0) & (trial1['Gender']==2)]= 1\n",
    "trial1['HGB'].loc[(trial1['HGB'] >= 15.3) & (trial1['HGB']!=1) & (trial1['Gender']==2)]= 2"
   ]
  },
  {
   "cell_type": "code",
   "execution_count": 326,
   "metadata": {
    "ExecuteTime": {
     "end_time": "2020-05-25T23:55:10.481488Z",
     "start_time": "2020-05-25T23:55:10.440592Z"
    }
   },
   "outputs": [],
   "source": [
    "trial1['Plat'].loc[(trial1['Plat'] >= 93013) & (trial1['Plat']<100000)]= 0\n",
    "trial1['Plat'].loc[(trial1['Plat'] >= 100000) & (trial1['Plat']< 255000)]= 1\n",
    "trial1['Plat'].loc[(trial1['Plat'] >= 255000)]= 2"
   ]
  },
  {
   "cell_type": "code",
   "execution_count": 327,
   "metadata": {
    "ExecuteTime": {
     "end_time": "2020-05-25T23:55:13.171733Z",
     "start_time": "2020-05-25T23:55:13.137818Z"
    }
   },
   "outputs": [],
   "source": [
    "trial1['AST 1'].loc[(trial1['AST 1']<20)]= 0\n",
    "trial1['AST 1'].loc[(trial1['AST 1']>=20) & (trial1['AST 1'] < 40)]= 1\n",
    "trial1['AST 1'].loc[(trial1['AST 1']>=40)]= 2"
   ]
  },
  {
   "cell_type": "code",
   "execution_count": 328,
   "metadata": {
    "ExecuteTime": {
     "end_time": "2020-05-25T23:55:14.838289Z",
     "start_time": "2020-05-25T23:55:14.795358Z"
    }
   },
   "outputs": [],
   "source": [
    "trial1['ALT 1'].loc[(trial1['ALT 1']>=0) & (trial1['ALT 1']<20)]= 0\n",
    "trial1['ALT 1'].loc[(trial1['ALT 1']>=20) & (trial1['ALT 1']<40)]= 1\n",
    "trial1['ALT 1'].loc[(trial1['ALT 1']>=40)]= 2"
   ]
  },
  {
   "cell_type": "code",
   "execution_count": 335,
   "metadata": {
    "ExecuteTime": {
     "end_time": "2020-05-25T23:57:31.221664Z",
     "start_time": "2020-05-25T23:57:31.175787Z"
    }
   },
   "outputs": [],
   "source": [
    "trial1['ALT4'].loc[(trial1['ALT4']>=0) & (trial1['ALT4']<20)]= 0\n",
    "trial1['ALT4'].loc[(trial1['ALT4']>=20) & (trial1['ALT4']<40)]= 1\n",
    "trial1['ALT4'].loc[(trial1['ALT4']>=40)]= 2"
   ]
  },
  {
   "cell_type": "code",
   "execution_count": 337,
   "metadata": {
    "ExecuteTime": {
     "end_time": "2020-05-25T23:58:25.771521Z",
     "start_time": "2020-05-25T23:58:25.755551Z"
    }
   },
   "outputs": [],
   "source": [
    "trial1['ALT 12'].loc[(trial1['ALT 12']>=0) & (trial1['ALT 12']<20)]= 0\n",
    "trial1['ALT 12'].loc[(trial1['ALT 12']>=20) & (trial1['ALT 12']<40)]= 1\n",
    "trial1['ALT 12'].loc[(trial1['ALT 12']>=40)]= 2"
   ]
  },
  {
   "cell_type": "code",
   "execution_count": 339,
   "metadata": {
    "ExecuteTime": {
     "end_time": "2020-05-25T23:59:10.490207Z",
     "start_time": "2020-05-25T23:59:10.447320Z"
    }
   },
   "outputs": [],
   "source": [
    "trial1['ALT 24'].loc[(trial1['ALT 24']>=0) & (trial1['ALT 24']<20)]= 0\n",
    "trial1['ALT 24'].loc[(trial1['ALT 24']>=20) & (trial1['ALT 24']<40)]= 1\n",
    "trial1['ALT 24'].loc[(trial1['ALT 24']>=40)]= 2"
   ]
  },
  {
   "cell_type": "code",
   "execution_count": 341,
   "metadata": {
    "ExecuteTime": {
     "end_time": "2020-05-26T00:00:02.650092Z",
     "start_time": "2020-05-26T00:00:02.612190Z"
    }
   },
   "outputs": [],
   "source": [
    "trial1['ALT 36'].loc[(trial1['ALT 36']>=0) & (trial1['ALT 36']<20)]= 0\n",
    "trial1['ALT 36'].loc[(trial1['ALT 36']>=20) & (trial1['ALT 36']<40)]= 1\n",
    "trial1['ALT 36'].loc[(trial1['ALT 36']>=40)]= 2"
   ]
  },
  {
   "cell_type": "code",
   "execution_count": 343,
   "metadata": {
    "ExecuteTime": {
     "end_time": "2020-05-26T00:03:05.133865Z",
     "start_time": "2020-05-26T00:03:05.098442Z"
    }
   },
   "outputs": [],
   "source": [
    "trial1['ALT 48'].loc[(trial1['ALT 48']>=0) & (trial1['ALT 48']<20)]= 0\n",
    "trial1['ALT 48'].loc[(trial1['ALT 48']>=20) & (trial1['ALT 48']<40)]= 1\n",
    "trial1['ALT 48'].loc[(trial1['ALT 48']>=40)]= 2"
   ]
  },
  {
   "cell_type": "code",
   "execution_count": 345,
   "metadata": {
    "ExecuteTime": {
     "end_time": "2020-05-26T00:03:05.133865Z",
     "start_time": "2020-05-26T00:03:05.098442Z"
    }
   },
   "outputs": [],
   "source": [
    "trial1['ALT after 24 w'].loc[(trial1['ALT after 24 w']>=0) & (trial1['ALT after 24 w']<20)]= 0\n",
    "trial1['ALT after 24 w'].loc[(trial1['ALT after 24 w']>=20) & (trial1['ALT after 24 w']<40)]= 1\n",
    "trial1['ALT after 24 w'].loc[(trial1['ALT after 24 w']>=40)]= 2"
   ]
  },
  {
   "cell_type": "code",
   "execution_count": 348,
   "metadata": {
    "ExecuteTime": {
     "end_time": "2020-05-26T00:03:05.133865Z",
     "start_time": "2020-05-26T00:03:05.098442Z"
    }
   },
   "outputs": [],
   "source": [
    "trial1['RNA Base'].loc[(trial1['RNA Base']<=5)]= 0\n",
    "trial1['RNA Base'].loc[(trial1['RNA Base']>5)]= 1"
   ]
  },
  {
   "cell_type": "code",
   "execution_count": 350,
   "metadata": {
    "ExecuteTime": {
     "end_time": "2020-05-26T00:05:43.043986Z",
     "start_time": "2020-05-26T00:05:43.014067Z"
    }
   },
   "outputs": [],
   "source": [
    "trial1['RNA 4'].loc[(trial1['RNA 4']<=5)]= 0\n",
    "trial1['RNA 4'].loc[(trial1['RNA 4']>5)]= 1"
   ]
  },
  {
   "cell_type": "code",
   "execution_count": 352,
   "metadata": {
    "ExecuteTime": {
     "end_time": "2020-05-26T00:05:43.043986Z",
     "start_time": "2020-05-26T00:05:43.014067Z"
    }
   },
   "outputs": [],
   "source": [
    "trial1['RNA 12'].loc[(trial1['RNA 12']<=5)]= 0\n",
    "trial1['RNA 12'].loc[(trial1['RNA 12']>5)]= 1"
   ]
  },
  {
   "cell_type": "code",
   "execution_count": 354,
   "metadata": {
    "ExecuteTime": {
     "end_time": "2020-05-26T00:05:43.043986Z",
     "start_time": "2020-05-26T00:05:43.014067Z"
    }
   },
   "outputs": [],
   "source": [
    "trial1['RNA EOT'].loc[(trial1['RNA EOT']<=5)]= 0\n",
    "trial1['RNA EOT'].loc[(trial1['RNA EOT']>5)]= 1"
   ]
  },
  {
   "cell_type": "code",
   "execution_count": 357,
   "metadata": {
    "ExecuteTime": {
     "end_time": "2020-05-26T00:05:43.043986Z",
     "start_time": "2020-05-26T00:05:43.014067Z"
    }
   },
   "outputs": [],
   "source": [
    "trial1['RNA EF'].loc[(trial1['RNA EF']<=5)]= 0\n",
    "trial1['RNA EF'].loc[(trial1['RNA EF']>5)]= 1"
   ]
  },
  {
   "cell_type": "code",
   "execution_count": 358,
   "metadata": {
    "ExecuteTime": {
     "end_time": "2020-05-26T00:05:48.726875Z",
     "start_time": "2020-05-26T00:05:48.708917Z"
    }
   },
   "outputs": [
    {
     "data": {
      "text/plain": [
       "1    1003\n",
       "0     382\n",
       "Name: RNA EF, dtype: int64"
      ]
     },
     "execution_count": 358,
     "metadata": {},
     "output_type": "execute_result"
    }
   ],
   "source": [
    "trial1['RNA EF'].value_counts()"
   ]
  },
  {
   "cell_type": "code",
   "execution_count": 334,
   "metadata": {
    "ExecuteTime": {
     "end_time": "2020-05-25T23:57:05.711712Z",
     "start_time": "2020-05-25T23:57:05.693755Z"
    }
   },
   "outputs": [
    {
     "data": {
      "text/plain": [
       "Index(['Age', 'Gender', 'BMI', 'Fever', 'Nausea/Vomting', 'Headache ',\n",
       "       'Diarrhea ', 'Fatigue & generalized bone ache ', 'Jaundice ',\n",
       "       'Epigastric pain ', 'WBC', 'RBC', 'HGB', 'Plat', 'AST 1', 'ALT 1',\n",
       "       'ALT4', 'ALT 12', 'ALT 24', 'ALT 36', 'ALT 48', 'ALT after 24 w',\n",
       "       'RNA Base', 'RNA 4', 'RNA 12', 'RNA EOT', 'RNA EF',\n",
       "       'Baseline histological Grading', 'Baselinehistological staging'],\n",
       "      dtype='object')"
      ]
     },
     "execution_count": 334,
     "metadata": {},
     "output_type": "execute_result"
    }
   ],
   "source": [
    "trial1.columns"
   ]
  },
  {
   "cell_type": "markdown",
   "metadata": {},
   "source": [
    "## Model trials"
   ]
  },
  {
   "cell_type": "code",
   "execution_count": 359,
   "metadata": {
    "ExecuteTime": {
     "end_time": "2020-05-26T00:07:35.578982Z",
     "start_time": "2020-05-26T00:07:35.562025Z"
    }
   },
   "outputs": [],
   "source": [
    "random_state = 44\n",
    "y = trial1.iloc[:,-1]\n",
    "X = trial1.iloc[:,0:len(trial1.columns)-1]"
   ]
  },
  {
   "cell_type": "code",
   "execution_count": 465,
   "metadata": {
    "ExecuteTime": {
     "end_time": "2020-05-26T00:50:35.774579Z",
     "start_time": "2020-05-26T00:50:35.735055Z"
    }
   },
   "outputs": [],
   "source": [
    "X_train, X_test, y_train, y_test = train_test_split(X, y, test_size=0.2, random_state = random_state,stratify=y)\n",
    "\n",
    "# X_train, X_val, y_train, y_val = train_test_split(X_train, y_train, test_size=0.25, random_state = random_state) # 0.25 x 0.8 = 0.2"
   ]
  },
  {
   "cell_type": "code",
   "execution_count": 466,
   "metadata": {
    "ExecuteTime": {
     "end_time": "2020-05-26T00:50:41.092990Z",
     "start_time": "2020-05-26T00:50:41.005218Z"
    }
   },
   "outputs": [
    {
     "data": {
      "text/plain": [
       "ExtraTreesClassifier(bootstrap=False, ccp_alpha=0.0, class_weight=None,\n",
       "                     criterion='gini', max_depth=2, max_features='auto',\n",
       "                     max_leaf_nodes=None, max_samples=None,\n",
       "                     min_impurity_decrease=0.0, min_impurity_split=None,\n",
       "                     min_samples_leaf=1, min_samples_split=2,\n",
       "                     min_weight_fraction_leaf=0.0, n_estimators=10, n_jobs=None,\n",
       "                     oob_score=False, random_state=44, verbose=0,\n",
       "                     warm_start=False)"
      ]
     },
     "execution_count": 466,
     "metadata": {},
     "output_type": "execute_result"
    }
   ],
   "source": [
    "clf = ExtraTreesClassifier(max_depth=2, random_state=random_state,n_estimators=10)\n",
    "clf.fit(X_train, y_train)"
   ]
  },
  {
   "cell_type": "code",
   "execution_count": 467,
   "metadata": {
    "ExecuteTime": {
     "end_time": "2020-05-26T00:50:43.453900Z",
     "start_time": "2020-05-26T00:50:43.422308Z"
    }
   },
   "outputs": [
    {
     "data": {
      "text/plain": [
       "0.23826714801444043"
      ]
     },
     "execution_count": 467,
     "metadata": {},
     "output_type": "execute_result"
    }
   ],
   "source": [
    "y_pred = clf.predict(X_test)\n",
    "accuracy_score(y_test, y_pred)"
   ]
  },
  {
   "cell_type": "code",
   "execution_count": 395,
   "metadata": {
    "ExecuteTime": {
     "end_time": "2020-05-26T00:23:55.375980Z",
     "start_time": "2020-05-26T00:23:55.351046Z"
    },
    "collapsed": true
   },
   "outputs": [
    {
     "data": {
      "text/plain": [
       "array([0.021853  , 0.0252032 , 0.09025034, 0.        , 0.03885283,\n",
       "       0.        , 0.        , 0.        , 0.10561975, 0.12435131,\n",
       "       0.05983479, 0.06870539, 0.        , 0.04124402, 0.05892947,\n",
       "       0.05172653, 0.        , 0.        , 0.        , 0.09152551,\n",
       "       0.09049892, 0.        , 0.        , 0.        , 0.05009959,\n",
       "       0.        , 0.05324349, 0.02806187])"
      ]
     },
     "execution_count": 395,
     "metadata": {},
     "output_type": "execute_result"
    }
   ],
   "source": [
    "clf.feature_importances_ "
   ]
  },
  {
   "cell_type": "code",
   "execution_count": 468,
   "metadata": {
    "ExecuteTime": {
     "end_time": "2020-05-26T00:50:46.315614Z",
     "start_time": "2020-05-26T00:50:46.281713Z"
    }
   },
   "outputs": [],
   "source": [
    "model = SelectFromModel(clf, prefit=True)\n",
    "X_train_new = model.transform(X_train)\n",
    "X_test_new = model.transform(X_test)"
   ]
  },
  {
   "cell_type": "code",
   "execution_count": 469,
   "metadata": {
    "ExecuteTime": {
     "end_time": "2020-05-26T00:50:48.794166Z",
     "start_time": "2020-05-26T00:50:48.700449Z"
    }
   },
   "outputs": [
    {
     "data": {
      "text/plain": [
       "ExtraTreesClassifier(bootstrap=False, ccp_alpha=0.0, class_weight=None,\n",
       "                     criterion='gini', max_depth=2, max_features='auto',\n",
       "                     max_leaf_nodes=None, max_samples=None,\n",
       "                     min_impurity_decrease=0.0, min_impurity_split=None,\n",
       "                     min_samples_leaf=1, min_samples_split=2,\n",
       "                     min_weight_fraction_leaf=0.0, n_estimators=10, n_jobs=None,\n",
       "                     oob_score=False, random_state=44, verbose=0,\n",
       "                     warm_start=False)"
      ]
     },
     "execution_count": 469,
     "metadata": {},
     "output_type": "execute_result"
    }
   ],
   "source": [
    "clf.fit(X_train_new, y_train)"
   ]
  },
  {
   "cell_type": "code",
   "execution_count": 470,
   "metadata": {
    "ExecuteTime": {
     "end_time": "2020-05-26T00:50:50.848023Z",
     "start_time": "2020-05-26T00:50:50.817112Z"
    }
   },
   "outputs": [
    {
     "data": {
      "text/plain": [
       "0.2815884476534296"
      ]
     },
     "execution_count": 470,
     "metadata": {},
     "output_type": "execute_result"
    }
   ],
   "source": [
    "y_pred = clf.predict(X_test_new)\n",
    "accuracy_score(y_test, y_pred)"
   ]
  },
  {
   "cell_type": "code",
   "execution_count": 494,
   "metadata": {
    "ExecuteTime": {
     "end_time": "2020-05-26T00:52:50.594905Z",
     "start_time": "2020-05-26T00:52:50.545036Z"
    }
   },
   "outputs": [
    {
     "data": {
      "text/plain": [
       "KNeighborsClassifier(algorithm='auto', leaf_size=30, metric='minkowski',\n",
       "                     metric_params=None, n_jobs=None, n_neighbors=5, p=2,\n",
       "                     weights='uniform')"
      ]
     },
     "execution_count": 494,
     "metadata": {},
     "output_type": "execute_result"
    }
   ],
   "source": [
    "neigh = KNeighborsClassifier(n_neighbors=5)\n",
    "neigh.fit(X_train, y_train)"
   ]
  },
  {
   "cell_type": "code",
   "execution_count": 495,
   "metadata": {
    "ExecuteTime": {
     "end_time": "2020-05-26T00:52:52.367583Z",
     "start_time": "2020-05-26T00:52:52.291744Z"
    }
   },
   "outputs": [
    {
     "data": {
      "text/plain": [
       "0.2527075812274368"
      ]
     },
     "execution_count": 495,
     "metadata": {},
     "output_type": "execute_result"
    }
   ],
   "source": [
    "y_pred = neigh.predict(X_test)\n",
    "accuracy_score(y_test, y_pred)"
   ]
  },
  {
   "cell_type": "code",
   "execution_count": 504,
   "metadata": {
    "ExecuteTime": {
     "end_time": "2020-05-26T00:53:42.907301Z",
     "start_time": "2020-05-26T00:53:42.179536Z"
    }
   },
   "outputs": [],
   "source": [
    "clf = BaggingClassifier(base_estimator=KNeighborsClassifier(n_neighbors=5),\n",
    "...                         n_estimators=100, random_state=random_state).fit(X_train, y_train)"
   ]
  },
  {
   "cell_type": "code",
   "execution_count": 505,
   "metadata": {
    "ExecuteTime": {
     "end_time": "2020-05-26T00:53:44.335559Z",
     "start_time": "2020-05-26T00:53:43.653552Z"
    }
   },
   "outputs": [
    {
     "data": {
      "text/plain": [
       "0.23104693140794225"
      ]
     },
     "execution_count": 505,
     "metadata": {},
     "output_type": "execute_result"
    }
   ],
   "source": [
    "y_pred = clf.predict(X_test)\n",
    "accuracy_score(y_test, y_pred)"
   ]
  },
  {
   "cell_type": "code",
   "execution_count": 476,
   "metadata": {
    "ExecuteTime": {
     "end_time": "2020-05-26T00:51:04.453179Z",
     "start_time": "2020-05-26T00:51:04.187989Z"
    }
   },
   "outputs": [
    {
     "data": {
      "text/plain": [
       "RandomForestClassifier(bootstrap=True, ccp_alpha=0.0, class_weight=None,\n",
       "                       criterion='entropy', max_depth=2, max_features='auto',\n",
       "                       max_leaf_nodes=None, max_samples=0.8,\n",
       "                       min_impurity_decrease=0.0, min_impurity_split=None,\n",
       "                       min_samples_leaf=1, min_samples_split=2,\n",
       "                       min_weight_fraction_leaf=0.0, n_estimators=100,\n",
       "                       n_jobs=None, oob_score=False, random_state=44, verbose=0,\n",
       "                       warm_start=False)"
      ]
     },
     "execution_count": 476,
     "metadata": {},
     "output_type": "execute_result"
    }
   ],
   "source": [
    "clf = RandomForestClassifier(max_depth=2, criterion='entropy',random_state=random_state,max_samples=0.8)\n",
    "clf.fit(X_train, y_train)"
   ]
  },
  {
   "cell_type": "code",
   "execution_count": 477,
   "metadata": {
    "ExecuteTime": {
     "end_time": "2020-05-26T00:51:09.001739Z",
     "start_time": "2020-05-26T00:51:08.904035Z"
    }
   },
   "outputs": [
    {
     "data": {
      "text/plain": [
       "0.23826714801444043"
      ]
     },
     "execution_count": 477,
     "metadata": {},
     "output_type": "execute_result"
    }
   ],
   "source": [
    "y_pred = clf.predict(X_test)\n",
    "accuracy_score(y_test, y_pred)"
   ]
  },
  {
   "cell_type": "code",
   "execution_count": 478,
   "metadata": {
    "ExecuteTime": {
     "end_time": "2020-05-26T00:51:12.189622Z",
     "start_time": "2020-05-26T00:51:12.108346Z"
    }
   },
   "outputs": [
    {
     "data": {
      "text/plain": [
       "0.3546931407942238"
      ]
     },
     "execution_count": 478,
     "metadata": {},
     "output_type": "execute_result"
    }
   ],
   "source": [
    "y_pred = clf.predict(X_train)\n",
    "accuracy_score(y_train, y_pred)"
   ]
  },
  {
   "cell_type": "code",
   "execution_count": 479,
   "metadata": {
    "ExecuteTime": {
     "end_time": "2020-05-26T00:51:15.516401Z",
     "start_time": "2020-05-26T00:51:15.411683Z"
    }
   },
   "outputs": [],
   "source": [
    "model = SelectFromModel(clf, prefit=True)\n",
    "X_train_new = model.transform(X_train)\n",
    "X_test_new = model.transform(X_test)"
   ]
  },
  {
   "cell_type": "code",
   "execution_count": 480,
   "metadata": {
    "ExecuteTime": {
     "end_time": "2020-05-26T00:51:21.888906Z",
     "start_time": "2020-05-26T00:51:21.578746Z"
    }
   },
   "outputs": [
    {
     "data": {
      "text/plain": [
       "0.26714801444043323"
      ]
     },
     "execution_count": 480,
     "metadata": {},
     "output_type": "execute_result"
    }
   ],
   "source": [
    "clf.fit(X_train_new, y_train)\n",
    "y_pred = clf.predict(X_test_new)\n",
    "accuracy_score(y_test, y_pred)"
   ]
  },
  {
   "cell_type": "code",
   "execution_count": 481,
   "metadata": {
    "ExecuteTime": {
     "end_time": "2020-05-26T00:51:23.462727Z",
     "start_time": "2020-05-26T00:51:23.351022Z"
    }
   },
   "outputs": [
    {
     "data": {
      "text/plain": [
       "0.3231046931407942"
      ]
     },
     "execution_count": 481,
     "metadata": {},
     "output_type": "execute_result"
    }
   ],
   "source": [
    "y_pred = clf.predict(X_train_new)\n",
    "accuracy_score(y_train, y_pred)"
   ]
  }
 ],
 "metadata": {
  "kernelspec": {
   "display_name": "Python 3.7.0 64-bit",
   "language": "python",
   "name": "python37064bit04d4a3fe81cb4e7ea7a8694e6783e152"
  },
  "language_info": {
   "codemirror_mode": {
    "name": "ipython",
    "version": 3
   },
   "file_extension": ".py",
   "mimetype": "text/x-python",
   "name": "python",
   "nbconvert_exporter": "python",
   "pygments_lexer": "ipython3",
   "version": "3.7.0"
  },
  "toc": {
   "base_numbering": 1,
   "nav_menu": {
    "height": "170px",
    "width": "204px"
   },
   "number_sections": true,
   "sideBar": true,
   "skip_h1_title": false,
   "title_cell": "Table of Contents",
   "title_sidebar": "Contents",
   "toc_cell": false,
   "toc_position": {},
   "toc_section_display": true,
   "toc_window_display": false
  }
 },
 "nbformat": 4,
 "nbformat_minor": 4
}
