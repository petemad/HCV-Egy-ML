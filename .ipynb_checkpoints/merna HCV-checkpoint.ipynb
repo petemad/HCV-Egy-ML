{
 "cells": [
  {
   "cell_type": "markdown",
   "metadata": {},
   "source": [
    "# Imports"
   ]
  },
  {
   "cell_type": "code",
   "execution_count": 57,
   "metadata": {
    "ExecuteTime": {
     "end_time": "2020-05-27T12:48:41.648868Z",
     "start_time": "2020-05-27T12:48:41.619069Z"
    }
   },
   "outputs": [],
   "source": [
    "import pandas as pd\n",
    "import seaborn as sns\n",
    "import matplotlib.pyplot as plt\n",
    "from sklearn.metrics import accuracy_score\n",
    "from sklearn.model_selection import train_test_split, GridSearchCV\n",
    "from sklearn import metrics\n",
    "from sklearn.ensemble import RandomForestClassifier\n",
    "from sklearn.ensemble import ExtraTreesClassifier\n",
    "from sklearn.feature_selection import SelectFromModel\n",
    "from sklearn.neighbors import KNeighborsClassifier\n",
    "import numpy as np\n",
    "from sklearn.svm import SVC\n",
    "from sklearn.ensemble import BaggingClassifier\n",
    "from sklearn import preprocessing\n",
    "from sklearn.model_selection import GridSearchCV\n",
    "from sklearn.model_selection import StratifiedShuffleSplit\n",
    "from sklearn.preprocessing import MinMaxScaler"
   ]
  },
  {
   "cell_type": "markdown",
   "metadata": {},
   "source": [
    "# Read Data"
   ]
  },
  {
   "cell_type": "code",
   "execution_count": 5,
   "metadata": {
    "ExecuteTime": {
     "end_time": "2020-05-26T17:36:29.836580Z",
     "start_time": "2020-05-26T17:36:29.750809Z"
    }
   },
   "outputs": [],
   "source": [
    "data = pd.read_csv('HCV-Egy-Data.csv')"
   ]
  },
  {
   "cell_type": "code",
   "execution_count": 6,
   "metadata": {
    "ExecuteTime": {
     "end_time": "2020-05-26T17:36:30.002129Z",
     "start_time": "2020-05-26T17:36:29.843556Z"
    }
   },
   "outputs": [
    {
     "data": {
      "text/html": [
       "<div>\n",
       "<style scoped>\n",
       "    .dataframe tbody tr th:only-of-type {\n",
       "        vertical-align: middle;\n",
       "    }\n",
       "\n",
       "    .dataframe tbody tr th {\n",
       "        vertical-align: top;\n",
       "    }\n",
       "\n",
       "    .dataframe thead th {\n",
       "        text-align: right;\n",
       "    }\n",
       "</style>\n",
       "<table border=\"1\" class=\"dataframe\">\n",
       "  <thead>\n",
       "    <tr style=\"text-align: right;\">\n",
       "      <th></th>\n",
       "      <th>Age</th>\n",
       "      <th>Gender</th>\n",
       "      <th>BMI</th>\n",
       "      <th>Fever</th>\n",
       "      <th>Nausea/Vomting</th>\n",
       "      <th>Headache</th>\n",
       "      <th>Diarrhea</th>\n",
       "      <th>Fatigue &amp; generalized bone ache</th>\n",
       "      <th>Jaundice</th>\n",
       "      <th>Epigastric pain</th>\n",
       "      <th>...</th>\n",
       "      <th>ALT 36</th>\n",
       "      <th>ALT 48</th>\n",
       "      <th>ALT after 24 w</th>\n",
       "      <th>RNA Base</th>\n",
       "      <th>RNA 4</th>\n",
       "      <th>RNA 12</th>\n",
       "      <th>RNA EOT</th>\n",
       "      <th>RNA EF</th>\n",
       "      <th>Baseline histological Grading</th>\n",
       "      <th>Baselinehistological staging</th>\n",
       "    </tr>\n",
       "  </thead>\n",
       "  <tbody>\n",
       "    <tr>\n",
       "      <th>count</th>\n",
       "      <td>1385.000000</td>\n",
       "      <td>1385.000000</td>\n",
       "      <td>1385.000000</td>\n",
       "      <td>1385.000000</td>\n",
       "      <td>1385.000000</td>\n",
       "      <td>1385.000000</td>\n",
       "      <td>1385.000000</td>\n",
       "      <td>1385.000000</td>\n",
       "      <td>1385.000000</td>\n",
       "      <td>1385.000000</td>\n",
       "      <td>...</td>\n",
       "      <td>1385.000000</td>\n",
       "      <td>1385.000000</td>\n",
       "      <td>1385.000000</td>\n",
       "      <td>1.385000e+03</td>\n",
       "      <td>1.385000e+03</td>\n",
       "      <td>1.385000e+03</td>\n",
       "      <td>1385.000000</td>\n",
       "      <td>1385.000000</td>\n",
       "      <td>1385.000000</td>\n",
       "      <td>1385.000000</td>\n",
       "    </tr>\n",
       "    <tr>\n",
       "      <th>mean</th>\n",
       "      <td>46.319134</td>\n",
       "      <td>1.489531</td>\n",
       "      <td>28.608664</td>\n",
       "      <td>1.515523</td>\n",
       "      <td>1.502527</td>\n",
       "      <td>1.496029</td>\n",
       "      <td>1.502527</td>\n",
       "      <td>1.498917</td>\n",
       "      <td>1.501083</td>\n",
       "      <td>1.503971</td>\n",
       "      <td>...</td>\n",
       "      <td>83.117690</td>\n",
       "      <td>83.629603</td>\n",
       "      <td>33.438267</td>\n",
       "      <td>5.909512e+05</td>\n",
       "      <td>6.008956e+05</td>\n",
       "      <td>2.887536e+05</td>\n",
       "      <td>287660.336462</td>\n",
       "      <td>291378.290975</td>\n",
       "      <td>9.761733</td>\n",
       "      <td>2.536462</td>\n",
       "    </tr>\n",
       "    <tr>\n",
       "      <th>std</th>\n",
       "      <td>8.781506</td>\n",
       "      <td>0.500071</td>\n",
       "      <td>4.076215</td>\n",
       "      <td>0.499939</td>\n",
       "      <td>0.500174</td>\n",
       "      <td>0.500165</td>\n",
       "      <td>0.500174</td>\n",
       "      <td>0.500179</td>\n",
       "      <td>0.500179</td>\n",
       "      <td>0.500165</td>\n",
       "      <td>...</td>\n",
       "      <td>26.399031</td>\n",
       "      <td>26.223955</td>\n",
       "      <td>7.073569</td>\n",
       "      <td>3.539354e+05</td>\n",
       "      <td>3.623151e+05</td>\n",
       "      <td>2.853507e+05</td>\n",
       "      <td>264559.525070</td>\n",
       "      <td>267700.691713</td>\n",
       "      <td>4.023896</td>\n",
       "      <td>1.121392</td>\n",
       "    </tr>\n",
       "    <tr>\n",
       "      <th>min</th>\n",
       "      <td>32.000000</td>\n",
       "      <td>1.000000</td>\n",
       "      <td>22.000000</td>\n",
       "      <td>1.000000</td>\n",
       "      <td>1.000000</td>\n",
       "      <td>1.000000</td>\n",
       "      <td>1.000000</td>\n",
       "      <td>1.000000</td>\n",
       "      <td>1.000000</td>\n",
       "      <td>1.000000</td>\n",
       "      <td>...</td>\n",
       "      <td>5.000000</td>\n",
       "      <td>5.000000</td>\n",
       "      <td>5.000000</td>\n",
       "      <td>1.100000e+01</td>\n",
       "      <td>5.000000e+00</td>\n",
       "      <td>5.000000e+00</td>\n",
       "      <td>5.000000</td>\n",
       "      <td>5.000000</td>\n",
       "      <td>3.000000</td>\n",
       "      <td>1.000000</td>\n",
       "    </tr>\n",
       "    <tr>\n",
       "      <th>25%</th>\n",
       "      <td>39.000000</td>\n",
       "      <td>1.000000</td>\n",
       "      <td>25.000000</td>\n",
       "      <td>1.000000</td>\n",
       "      <td>1.000000</td>\n",
       "      <td>1.000000</td>\n",
       "      <td>1.000000</td>\n",
       "      <td>1.000000</td>\n",
       "      <td>1.000000</td>\n",
       "      <td>1.000000</td>\n",
       "      <td>...</td>\n",
       "      <td>61.000000</td>\n",
       "      <td>61.000000</td>\n",
       "      <td>28.000000</td>\n",
       "      <td>2.692530e+05</td>\n",
       "      <td>2.708930e+05</td>\n",
       "      <td>5.000000e+00</td>\n",
       "      <td>5.000000</td>\n",
       "      <td>5.000000</td>\n",
       "      <td>6.000000</td>\n",
       "      <td>2.000000</td>\n",
       "    </tr>\n",
       "    <tr>\n",
       "      <th>50%</th>\n",
       "      <td>46.000000</td>\n",
       "      <td>1.000000</td>\n",
       "      <td>29.000000</td>\n",
       "      <td>2.000000</td>\n",
       "      <td>2.000000</td>\n",
       "      <td>1.000000</td>\n",
       "      <td>2.000000</td>\n",
       "      <td>1.000000</td>\n",
       "      <td>2.000000</td>\n",
       "      <td>2.000000</td>\n",
       "      <td>...</td>\n",
       "      <td>84.000000</td>\n",
       "      <td>83.000000</td>\n",
       "      <td>34.000000</td>\n",
       "      <td>5.931030e+05</td>\n",
       "      <td>5.978690e+05</td>\n",
       "      <td>2.343590e+05</td>\n",
       "      <td>251376.000000</td>\n",
       "      <td>244049.000000</td>\n",
       "      <td>10.000000</td>\n",
       "      <td>3.000000</td>\n",
       "    </tr>\n",
       "    <tr>\n",
       "      <th>75%</th>\n",
       "      <td>54.000000</td>\n",
       "      <td>2.000000</td>\n",
       "      <td>32.000000</td>\n",
       "      <td>2.000000</td>\n",
       "      <td>2.000000</td>\n",
       "      <td>2.000000</td>\n",
       "      <td>2.000000</td>\n",
       "      <td>2.000000</td>\n",
       "      <td>2.000000</td>\n",
       "      <td>2.000000</td>\n",
       "      <td>...</td>\n",
       "      <td>106.000000</td>\n",
       "      <td>106.000000</td>\n",
       "      <td>40.000000</td>\n",
       "      <td>8.867910e+05</td>\n",
       "      <td>9.090930e+05</td>\n",
       "      <td>5.248190e+05</td>\n",
       "      <td>517806.000000</td>\n",
       "      <td>527864.000000</td>\n",
       "      <td>13.000000</td>\n",
       "      <td>4.000000</td>\n",
       "    </tr>\n",
       "    <tr>\n",
       "      <th>max</th>\n",
       "      <td>61.000000</td>\n",
       "      <td>2.000000</td>\n",
       "      <td>35.000000</td>\n",
       "      <td>2.000000</td>\n",
       "      <td>2.000000</td>\n",
       "      <td>2.000000</td>\n",
       "      <td>2.000000</td>\n",
       "      <td>2.000000</td>\n",
       "      <td>2.000000</td>\n",
       "      <td>2.000000</td>\n",
       "      <td>...</td>\n",
       "      <td>128.000000</td>\n",
       "      <td>128.000000</td>\n",
       "      <td>45.000000</td>\n",
       "      <td>1.201086e+06</td>\n",
       "      <td>1.201715e+06</td>\n",
       "      <td>3.731527e+06</td>\n",
       "      <td>808450.000000</td>\n",
       "      <td>810333.000000</td>\n",
       "      <td>16.000000</td>\n",
       "      <td>4.000000</td>\n",
       "    </tr>\n",
       "  </tbody>\n",
       "</table>\n",
       "<p>8 rows × 29 columns</p>\n",
       "</div>"
      ],
      "text/plain": [
       "               Age       Gender          BMI        Fever  Nausea/Vomting  \\\n",
       "count  1385.000000  1385.000000  1385.000000  1385.000000     1385.000000   \n",
       "mean     46.319134     1.489531    28.608664     1.515523        1.502527   \n",
       "std       8.781506     0.500071     4.076215     0.499939        0.500174   \n",
       "min      32.000000     1.000000    22.000000     1.000000        1.000000   \n",
       "25%      39.000000     1.000000    25.000000     1.000000        1.000000   \n",
       "50%      46.000000     1.000000    29.000000     2.000000        2.000000   \n",
       "75%      54.000000     2.000000    32.000000     2.000000        2.000000   \n",
       "max      61.000000     2.000000    35.000000     2.000000        2.000000   \n",
       "\n",
       "         Headache     Diarrhea   Fatigue & generalized bone ache   \\\n",
       "count  1385.000000  1385.000000                       1385.000000   \n",
       "mean      1.496029     1.502527                          1.498917   \n",
       "std       0.500165     0.500174                          0.500179   \n",
       "min       1.000000     1.000000                          1.000000   \n",
       "25%       1.000000     1.000000                          1.000000   \n",
       "50%       1.000000     2.000000                          1.000000   \n",
       "75%       2.000000     2.000000                          2.000000   \n",
       "max       2.000000     2.000000                          2.000000   \n",
       "\n",
       "         Jaundice   Epigastric pain   ...       ALT 36       ALT 48  \\\n",
       "count  1385.000000       1385.000000  ...  1385.000000  1385.000000   \n",
       "mean      1.501083          1.503971  ...    83.117690    83.629603   \n",
       "std       0.500179          0.500165  ...    26.399031    26.223955   \n",
       "min       1.000000          1.000000  ...     5.000000     5.000000   \n",
       "25%       1.000000          1.000000  ...    61.000000    61.000000   \n",
       "50%       2.000000          2.000000  ...    84.000000    83.000000   \n",
       "75%       2.000000          2.000000  ...   106.000000   106.000000   \n",
       "max       2.000000          2.000000  ...   128.000000   128.000000   \n",
       "\n",
       "       ALT after 24 w      RNA Base         RNA 4        RNA 12  \\\n",
       "count     1385.000000  1.385000e+03  1.385000e+03  1.385000e+03   \n",
       "mean        33.438267  5.909512e+05  6.008956e+05  2.887536e+05   \n",
       "std          7.073569  3.539354e+05  3.623151e+05  2.853507e+05   \n",
       "min          5.000000  1.100000e+01  5.000000e+00  5.000000e+00   \n",
       "25%         28.000000  2.692530e+05  2.708930e+05  5.000000e+00   \n",
       "50%         34.000000  5.931030e+05  5.978690e+05  2.343590e+05   \n",
       "75%         40.000000  8.867910e+05  9.090930e+05  5.248190e+05   \n",
       "max         45.000000  1.201086e+06  1.201715e+06  3.731527e+06   \n",
       "\n",
       "             RNA EOT         RNA EF  Baseline histological Grading  \\\n",
       "count    1385.000000    1385.000000                    1385.000000   \n",
       "mean   287660.336462  291378.290975                       9.761733   \n",
       "std    264559.525070  267700.691713                       4.023896   \n",
       "min         5.000000       5.000000                       3.000000   \n",
       "25%         5.000000       5.000000                       6.000000   \n",
       "50%    251376.000000  244049.000000                      10.000000   \n",
       "75%    517806.000000  527864.000000                      13.000000   \n",
       "max    808450.000000  810333.000000                      16.000000   \n",
       "\n",
       "       Baselinehistological staging  \n",
       "count                   1385.000000  \n",
       "mean                       2.536462  \n",
       "std                        1.121392  \n",
       "min                        1.000000  \n",
       "25%                        2.000000  \n",
       "50%                        3.000000  \n",
       "75%                        4.000000  \n",
       "max                        4.000000  \n",
       "\n",
       "[8 rows x 29 columns]"
      ]
     },
     "execution_count": 6,
     "metadata": {},
     "output_type": "execute_result"
    }
   ],
   "source": [
    "data.describe()"
   ]
  },
  {
   "cell_type": "code",
   "execution_count": 7,
   "metadata": {
    "ExecuteTime": {
     "end_time": "2020-05-26T17:36:30.021079Z",
     "start_time": "2020-05-26T17:36:30.005121Z"
    },
    "scrolled": true
   },
   "outputs": [
    {
     "data": {
      "text/plain": [
       "BMI                                -0.057259\n",
       "Epigastric pain                    -0.052110\n",
       "Baseline histological Grading      -0.047072\n",
       "RNA 4                              -0.032946\n",
       "Fever                              -0.030975\n",
       "AST 1                              -0.025126\n",
       "RNA EOT                            -0.017486\n",
       "Plat                               -0.017284\n",
       "ALT4                               -0.014997\n",
       "ALT 48                             -0.013533\n",
       "ALT 36                             -0.006430\n",
       "Diarrhea                           -0.005639\n",
       "ALT 24                             -0.004888\n",
       "Headache                           -0.001996\n",
       "ALT 12                              0.000809\n",
       "HGB                                 0.002752\n",
       "RBC                                 0.009623\n",
       "Gender                              0.011955\n",
       "Fatigue & generalized bone ache     0.014563\n",
       "WBC                                 0.017945\n",
       "Jaundice                            0.020219\n",
       "RNA Base                            0.029411\n",
       "RNA EF                              0.030519\n",
       "ALT after 24 w                      0.033919\n",
       "RNA 12                              0.034449\n",
       "ALT 1                               0.036867\n",
       "Nausea/Vomting                      0.054906\n",
       "Baselinehistological staging        1.000000\n",
       "Name: Baselinehistological staging, dtype: float64"
      ]
     },
     "execution_count": 7,
     "metadata": {},
     "output_type": "execute_result"
    }
   ],
   "source": [
    "data[data.columns[1:]].corr()['Baselinehistological staging'][:].sort_values()"
   ]
  },
  {
   "cell_type": "markdown",
   "metadata": {},
   "source": [
    "**Correlation isnt helping**"
   ]
  },
  {
   "cell_type": "markdown",
   "metadata": {},
   "source": [
    "# Trial 1"
   ]
  },
  {
   "cell_type": "markdown",
   "metadata": {
    "heading_collapsed": true
   },
   "source": [
    "## Discretize all features"
   ]
  },
  {
   "cell_type": "code",
   "execution_count": 8,
   "metadata": {
    "ExecuteTime": {
     "end_time": "2020-05-26T17:36:30.039031Z",
     "start_time": "2020-05-26T17:36:30.023073Z"
    },
    "hidden": true
   },
   "outputs": [],
   "source": [
    "trial1 = pd.read_csv('HCV-Egy-Data.csv')"
   ]
  },
  {
   "cell_type": "code",
   "execution_count": 9,
   "metadata": {
    "ExecuteTime": {
     "end_time": "2020-05-26T17:36:30.055985Z",
     "start_time": "2020-05-26T17:36:30.041026Z"
    },
    "hidden": true
   },
   "outputs": [],
   "source": [
    "trial1[\"Age\"] = np.where(trial1[\"Age\"] <= 32,0,trial1[\"Age\"])\n",
    "trial1[\"Age\"] = np.where(trial1[\"Age\"].between(32,37),1,trial1[\"Age\"])\n",
    "trial1[\"Age\"] = np.where(trial1[\"Age\"].between(37,42),2,trial1[\"Age\"])\n",
    "trial1[\"Age\"] = np.where(trial1[\"Age\"].between(42,47),3,trial1[\"Age\"])\n",
    "trial1[\"Age\"] = np.where(trial1[\"Age\"].between(47,52),4,trial1[\"Age\"])\n",
    "trial1[\"Age\"] = np.where(trial1[\"Age\"].between(52,57),5,trial1[\"Age\"])\n",
    "trial1[\"Age\"] = np.where(trial1[\"Age\"].between(57,62),6,trial1[\"Age\"])"
   ]
  },
  {
   "cell_type": "code",
   "execution_count": 10,
   "metadata": {
    "ExecuteTime": {
     "end_time": "2020-05-26T17:36:30.093883Z",
     "start_time": "2020-05-26T17:36:30.058977Z"
    },
    "hidden": true
   },
   "outputs": [],
   "source": [
    "trial1[\"BMI\"] = np.where(trial1[\"BMI\"].between(-1,18.5, inclusive = False),0,trial1[\"BMI\"])\n",
    "trial1[\"BMI\"] = np.where(trial1[\"BMI\"].between(18.5,24),1,trial1[\"BMI\"])\n",
    "trial1[\"BMI\"] = np.where(trial1[\"BMI\"].between(25,29),2,trial1[\"BMI\"])\n",
    "trial1[\"BMI\"] = np.where(trial1[\"BMI\"].between(30,34),3,trial1[\"BMI\"])\n",
    "trial1[\"BMI\"] = np.where(trial1[\"BMI\"].between(35,40),4,trial1[\"BMI\"])"
   ]
  },
  {
   "cell_type": "code",
   "execution_count": 11,
   "metadata": {
    "ExecuteTime": {
     "end_time": "2020-05-26T17:36:30.136773Z",
     "start_time": "2020-05-26T17:36:30.110840Z"
    },
    "hidden": true
   },
   "outputs": [],
   "source": [
    "trial1[\"WBC\"] = np.where(trial1[\"WBC\"].between(0,3981),0,trial1[\"WBC\"])\n",
    "trial1[\"WBC\"] = np.where(trial1[\"WBC\"].between(4000,10987),1,trial1[\"WBC\"])\n",
    "trial1[\"WBC\"] = np.where(trial1[\"WBC\"].between(11000,12101),2,trial1[\"WBC\"])"
   ]
  },
  {
   "cell_type": "code",
   "execution_count": 12,
   "metadata": {
    "ExecuteTime": {
     "end_time": "2020-05-26T17:36:30.152727Z",
     "start_time": "2020-05-26T17:36:30.139761Z"
    },
    "hidden": true
   },
   "outputs": [],
   "source": [
    "trial1[\"RBC\"] = np.where(trial1[\"RBC\"].between(0,3e+06),0,trial1[\"RBC\"])\n",
    "trial1[\"RBC\"] = np.where(trial1[\"RBC\"].between(3e+06,5e+06),1,trial1[\"RBC\"])\n",
    "trial1[\"RBC\"] = np.where(trial1[\"RBC\"] >= 5e+06,2,trial1[\"RBC\"])"
   ]
  },
  {
   "cell_type": "code",
   "execution_count": 13,
   "metadata": {
    "ExecuteTime": {
     "end_time": "2020-05-26T17:36:30.179654Z",
     "start_time": "2020-05-26T17:36:30.154723Z"
    },
    "hidden": true
   },
   "outputs": [],
   "source": [
    "trial1['HGB'].loc[(trial1['HGB'] <= 13) & (trial1['Gender']==1)]= 0\n",
    "trial1['HGB'].loc[(trial1['HGB'] <= 17.5) & (trial1['HGB'] != 0) & (trial1['Gender']==1)]= 1\n",
    "trial1['HGB'].loc[(trial1['HGB'] > 17.5) & (trial1['HGB']!=1) & (trial1['Gender']==1)]= 2\n",
    "trial1['HGB'].loc[(trial1['HGB'] < 12.3) & (trial1['Gender']==2)]= 0\n",
    "trial1['HGB'].loc[(trial1['HGB'] < 15.3) & (trial1['HGB']!=0) & (trial1['Gender']==2)]= 1\n",
    "trial1['HGB'].loc[(trial1['HGB'] >= 15.3) & (trial1['HGB']!=1) & (trial1['Gender']==2)]= 2"
   ]
  },
  {
   "cell_type": "code",
   "execution_count": 14,
   "metadata": {
    "ExecuteTime": {
     "end_time": "2020-05-26T17:36:30.194615Z",
     "start_time": "2020-05-26T17:36:30.181649Z"
    },
    "hidden": true
   },
   "outputs": [],
   "source": [
    "trial1['Plat'].loc[(trial1['Plat'] >= 93013) & (trial1['Plat']<100000)]= 0\n",
    "trial1['Plat'].loc[(trial1['Plat'] >= 100000) & (trial1['Plat']< 255000)]= 1\n",
    "trial1['Plat'].loc[(trial1['Plat'] >= 255000)]= 2"
   ]
  },
  {
   "cell_type": "code",
   "execution_count": 15,
   "metadata": {
    "ExecuteTime": {
     "end_time": "2020-05-26T17:36:30.212377Z",
     "start_time": "2020-05-26T17:36:30.196609Z"
    },
    "hidden": true
   },
   "outputs": [],
   "source": [
    "trial1['AST 1'].loc[(trial1['AST 1']<20)]= 0\n",
    "trial1['AST 1'].loc[(trial1['AST 1']>=20) & (trial1['AST 1'] < 40)]= 1\n",
    "trial1['AST 1'].loc[(trial1['AST 1']>=40)]= 2"
   ]
  },
  {
   "cell_type": "code",
   "execution_count": 16,
   "metadata": {
    "ExecuteTime": {
     "end_time": "2020-05-26T17:36:30.235032Z",
     "start_time": "2020-05-26T17:36:30.212377Z"
    },
    "hidden": true
   },
   "outputs": [],
   "source": [
    "trial1['ALT 1'].loc[(trial1['ALT 1']>=0) & (trial1['ALT 1']<20)]= 0\n",
    "trial1['ALT 1'].loc[(trial1['ALT 1']>=20) & (trial1['ALT 1']<40)]= 1\n",
    "trial1['ALT 1'].loc[(trial1['ALT 1']>=40)]= 2"
   ]
  },
  {
   "cell_type": "code",
   "execution_count": 17,
   "metadata": {
    "ExecuteTime": {
     "end_time": "2020-05-26T17:36:30.251987Z",
     "start_time": "2020-05-26T17:36:30.237025Z"
    },
    "hidden": true
   },
   "outputs": [],
   "source": [
    "trial1['ALT4'].loc[(trial1['ALT4']>=0) & (trial1['ALT4']<20)]= 0\n",
    "trial1['ALT4'].loc[(trial1['ALT4']>=20) & (trial1['ALT4']<40)]= 1\n",
    "trial1['ALT4'].loc[(trial1['ALT4']>=40)]= 2"
   ]
  },
  {
   "cell_type": "code",
   "execution_count": 18,
   "metadata": {
    "ExecuteTime": {
     "end_time": "2020-05-26T17:36:30.268941Z",
     "start_time": "2020-05-26T17:36:30.253980Z"
    },
    "hidden": true
   },
   "outputs": [],
   "source": [
    "trial1['ALT 12'].loc[(trial1['ALT 12']>=0) & (trial1['ALT 12']<20)]= 0\n",
    "trial1['ALT 12'].loc[(trial1['ALT 12']>=20) & (trial1['ALT 12']<40)]= 1\n",
    "trial1['ALT 12'].loc[(trial1['ALT 12']>=40)]= 2"
   ]
  },
  {
   "cell_type": "code",
   "execution_count": 19,
   "metadata": {
    "ExecuteTime": {
     "end_time": "2020-05-26T17:36:30.297864Z",
     "start_time": "2020-05-26T17:36:30.271934Z"
    },
    "hidden": true
   },
   "outputs": [],
   "source": [
    "trial1['ALT 24'].loc[(trial1['ALT 24']>=0) & (trial1['ALT 24']<20)]= 0\n",
    "trial1['ALT 24'].loc[(trial1['ALT 24']>=20) & (trial1['ALT 24']<40)]= 1\n",
    "trial1['ALT 24'].loc[(trial1['ALT 24']>=40)]= 2"
   ]
  },
  {
   "cell_type": "code",
   "execution_count": 20,
   "metadata": {
    "ExecuteTime": {
     "end_time": "2020-05-26T17:36:30.317810Z",
     "start_time": "2020-05-26T17:36:30.299859Z"
    },
    "hidden": true
   },
   "outputs": [],
   "source": [
    "trial1['ALT 36'].loc[(trial1['ALT 36']>=0) & (trial1['ALT 36']<20)]= 0\n",
    "trial1['ALT 36'].loc[(trial1['ALT 36']>=20) & (trial1['ALT 36']<40)]= 1\n",
    "trial1['ALT 36'].loc[(trial1['ALT 36']>=40)]= 2"
   ]
  },
  {
   "cell_type": "code",
   "execution_count": 21,
   "metadata": {
    "ExecuteTime": {
     "end_time": "2020-05-26T17:36:30.338754Z",
     "start_time": "2020-05-26T17:36:30.320802Z"
    },
    "hidden": true
   },
   "outputs": [],
   "source": [
    "trial1['ALT 48'].loc[(trial1['ALT 48']>=0) & (trial1['ALT 48']<20)]= 0\n",
    "trial1['ALT 48'].loc[(trial1['ALT 48']>=20) & (trial1['ALT 48']<40)]= 1\n",
    "trial1['ALT 48'].loc[(trial1['ALT 48']>=40)]= 2"
   ]
  },
  {
   "cell_type": "code",
   "execution_count": 22,
   "metadata": {
    "ExecuteTime": {
     "end_time": "2020-05-26T17:36:30.358703Z",
     "start_time": "2020-05-26T17:36:30.343741Z"
    },
    "hidden": true
   },
   "outputs": [],
   "source": [
    "trial1['ALT after 24 w'].loc[(trial1['ALT after 24 w']>=0) & (trial1['ALT after 24 w']<20)]= 0\n",
    "trial1['ALT after 24 w'].loc[(trial1['ALT after 24 w']>=20) & (trial1['ALT after 24 w']<40)]= 1\n",
    "trial1['ALT after 24 w'].loc[(trial1['ALT after 24 w']>=40)]= 2"
   ]
  },
  {
   "cell_type": "code",
   "execution_count": 23,
   "metadata": {
    "ExecuteTime": {
     "end_time": "2020-05-26T17:36:30.374659Z",
     "start_time": "2020-05-26T17:36:30.361693Z"
    },
    "hidden": true
   },
   "outputs": [],
   "source": [
    "trial1['RNA Base'].loc[(trial1['RNA Base']<=5)]= 0\n",
    "trial1['RNA Base'].loc[(trial1['RNA Base']>5)]= 1"
   ]
  },
  {
   "cell_type": "code",
   "execution_count": 24,
   "metadata": {
    "ExecuteTime": {
     "end_time": "2020-05-26T17:36:30.393608Z",
     "start_time": "2020-05-26T17:36:30.376654Z"
    },
    "hidden": true
   },
   "outputs": [],
   "source": [
    "trial1['RNA 4'].loc[(trial1['RNA 4']<=5)]= 0\n",
    "trial1['RNA 4'].loc[(trial1['RNA 4']>5)]= 1"
   ]
  },
  {
   "cell_type": "code",
   "execution_count": 25,
   "metadata": {
    "ExecuteTime": {
     "end_time": "2020-05-26T17:36:30.414551Z",
     "start_time": "2020-05-26T17:36:30.395602Z"
    },
    "hidden": true
   },
   "outputs": [],
   "source": [
    "trial1['RNA 12'].loc[(trial1['RNA 12']<=5)]= 0\n",
    "trial1['RNA 12'].loc[(trial1['RNA 12']>5)]= 1"
   ]
  },
  {
   "cell_type": "code",
   "execution_count": 26,
   "metadata": {
    "ExecuteTime": {
     "end_time": "2020-05-26T17:36:30.429511Z",
     "start_time": "2020-05-26T17:36:30.416546Z"
    },
    "hidden": true
   },
   "outputs": [],
   "source": [
    "trial1['RNA EOT'].loc[(trial1['RNA EOT']<=5)]= 0\n",
    "trial1['RNA EOT'].loc[(trial1['RNA EOT']>5)]= 1"
   ]
  },
  {
   "cell_type": "code",
   "execution_count": 27,
   "metadata": {
    "ExecuteTime": {
     "end_time": "2020-05-26T17:36:30.447463Z",
     "start_time": "2020-05-26T17:36:30.431506Z"
    },
    "hidden": true
   },
   "outputs": [],
   "source": [
    "trial1['RNA EF'].loc[(trial1['RNA EF']<=5)]= 0\n",
    "trial1['RNA EF'].loc[(trial1['RNA EF']>5)]= 1"
   ]
  },
  {
   "cell_type": "code",
   "execution_count": 28,
   "metadata": {
    "ExecuteTime": {
     "end_time": "2020-05-26T17:36:30.463420Z",
     "start_time": "2020-05-26T17:36:30.449459Z"
    },
    "hidden": true
   },
   "outputs": [
    {
     "data": {
      "text/plain": [
       "1    1003\n",
       "0     382\n",
       "Name: RNA EF, dtype: int64"
      ]
     },
     "execution_count": 28,
     "metadata": {},
     "output_type": "execute_result"
    }
   ],
   "source": [
    "trial1['RNA EF'].value_counts()"
   ]
  },
  {
   "cell_type": "code",
   "execution_count": 29,
   "metadata": {
    "ExecuteTime": {
     "end_time": "2020-05-26T17:36:30.477384Z",
     "start_time": "2020-05-26T17:36:30.465416Z"
    },
    "hidden": true
   },
   "outputs": [
    {
     "data": {
      "text/plain": [
       "Index(['Age', 'Gender', 'BMI', 'Fever', 'Nausea/Vomting', 'Headache ',\n",
       "       'Diarrhea ', 'Fatigue & generalized bone ache ', 'Jaundice ',\n",
       "       'Epigastric pain ', 'WBC', 'RBC', 'HGB', 'Plat', 'AST 1', 'ALT 1',\n",
       "       'ALT4', 'ALT 12', 'ALT 24', 'ALT 36', 'ALT 48', 'ALT after 24 w',\n",
       "       'RNA Base', 'RNA 4', 'RNA 12', 'RNA EOT', 'RNA EF',\n",
       "       'Baseline histological Grading', 'Baselinehistological staging'],\n",
       "      dtype='object')"
      ]
     },
     "execution_count": 29,
     "metadata": {},
     "output_type": "execute_result"
    }
   ],
   "source": [
    "trial1.columns"
   ]
  },
  {
   "cell_type": "markdown",
   "metadata": {
    "heading_collapsed": true
   },
   "source": [
    "## Visualization after discretization"
   ]
  },
  {
   "cell_type": "code",
   "execution_count": 51,
   "metadata": {
    "ExecuteTime": {
     "end_time": "2020-05-26T17:44:36.927323Z",
     "start_time": "2020-05-26T17:44:36.462618Z"
    },
    "hidden": true
   },
   "outputs": [
    {
     "data": {
      "image/png": "[encoded data removed]",
      "text/plain": [
       "<Figure size 720x360 with 1 Axes>"
      ]
     },
     "metadata": {
      "needs_background": "light"
     },
     "output_type": "display_data"
    }
   ],
   "source": [
    "fig, ax = plt.subplots(1, 1, figsize=(10,5))\n",
    "sns.countplot(trial1['Age'], hue=trial1[\"Baselinehistological staging\"], ax=ax)\n",
    "ax.set_title(fontsize=14, fontweight='bold',label='liver fibrosis vs age')\n",
    "ax.legend(title=\"liver fibrosis\", loc='upper right') \n",
    "plt.tight_layout() "
   ]
  },
  {
   "cell_type": "code",
   "execution_count": 52,
   "metadata": {
    "ExecuteTime": {
     "end_time": "2020-05-26T17:46:56.929188Z",
     "start_time": "2020-05-26T17:46:56.597077Z"
    },
    "hidden": true
   },
   "outputs": [
    {
     "data": {
      "image/png": "[encoded data removed]",
      "text/plain": [
       "<Figure size 720x360 with 1 Axes>"
      ]
     },
     "metadata": {
      "needs_background": "light"
     },
     "output_type": "display_data"
    }
   ],
   "source": [
    "fig, ax = plt.subplots(1, 1, figsize=(10,5))\n",
    "sns.countplot(trial1['Gender'], hue=trial1[\"Baselinehistological staging\"], ax=ax)\n",
    "ax.set_title(fontsize=14, fontweight='bold',label='liver fibrosis vs Gender')\n",
    "ax.legend(title=\"liver fibrosis\", loc='upper right') \n",
    "plt.tight_layout() "
   ]
  },
  {
   "cell_type": "code",
   "execution_count": 54,
   "metadata": {
    "ExecuteTime": {
     "end_time": "2020-05-26T17:49:58.058703Z",
     "start_time": "2020-05-26T17:49:57.799368Z"
    },
    "hidden": true
   },
   "outputs": [
    {
     "data": {
      "image/png": "[encoded data removed]",
      "text/plain": [
       "<Figure size 720x360 with 1 Axes>"
      ]
     },
     "metadata": {
      "needs_background": "light"
     },
     "output_type": "display_data"
    }
   ],
   "source": [
    "fig, ax = plt.subplots(1, 1, figsize=(10,5))\n",
    "sns.countplot(trial1['Fever'], hue=trial1[\"Baselinehistological staging\"], ax=ax)\n",
    "ax.set_title(fontsize=14, fontweight='bold',label='liver fibrosis vs Fever')\n",
    "ax.legend(title=\"liver fibrosis\", loc='upper right') \n",
    "plt.tight_layout() "
   ]
  },
  {
   "cell_type": "code",
   "execution_count": 57,
   "metadata": {
    "ExecuteTime": {
     "end_time": "2020-05-26T18:16:28.160739Z",
     "start_time": "2020-05-26T18:16:27.866516Z"
    },
    "hidden": true
   },
   "outputs": [
    {
     "data": {
      "image/png": "[encoded data removed]",
      "text/plain": [
       "<Figure size 720x360 with 1 Axes>"
      ]
     },
     "metadata": {
      "needs_background": "light"
     },
     "output_type": "display_data"
    }
   ],
   "source": [
    "fig, ax = plt.subplots(1, 1, figsize=(10,5))\n",
    "sns.countplot(trial1['Nausea/Vomting'], hue=trial1[\"Baselinehistological staging\"], ax=ax)\n",
    "ax.set_title(fontsize=14, fontweight='bold',label='liver fibrosis vs Nausea/Vomting')\n",
    "ax.legend(title=\"liver fibrosis\", loc='upper right') \n",
    "plt.tight_layout() "
   ]
  },
  {
   "cell_type": "code",
   "execution_count": 61,
   "metadata": {
    "ExecuteTime": {
     "end_time": "2020-05-26T18:16:28.160739Z",
     "start_time": "2020-05-26T18:16:27.866516Z"
    },
    "hidden": true,
    "scrolled": true
   },
   "outputs": [
    {
     "data": {
      "image/png": "[encoded data removed]",
      "text/plain": [
       "<Figure size 720x360 with 1 Axes>"
      ]
     },
     "metadata": {
      "needs_background": "light"
     },
     "output_type": "display_data"
    }
   ],
   "source": [
    "fig, ax = plt.subplots(1, 1, figsize=(10,5))\n",
    "sns.countplot(trial1['Headache '], hue=trial1[\"Baselinehistological staging\"], ax=ax)\n",
    "ax.set_title(fontsize=14, fontweight='bold',label='liver fibrosis vs Headache')\n",
    "ax.legend(title=\"liver fibrosis\", loc='upper right') \n",
    "plt.tight_layout() "
   ]
  },
  {
   "cell_type": "code",
   "execution_count": 62,
   "metadata": {
    "ExecuteTime": {
     "end_time": "2020-05-26T18:18:24.852225Z",
     "start_time": "2020-05-26T18:18:24.447784Z"
    },
    "hidden": true,
    "scrolled": true
   },
   "outputs": [
    {
     "data": {
      "image/png": "[encoded data removed]",
      "text/plain": [
       "<Figure size 720x360 with 1 Axes>"
      ]
     },
     "metadata": {
      "needs_background": "light"
     },
     "output_type": "display_data"
    }
   ],
   "source": [
    "fig, ax = plt.subplots(1, 1, figsize=(10,5))\n",
    "sns.countplot(trial1['Diarrhea '], hue=trial1[\"Baselinehistological staging\"], ax=ax)\n",
    "ax.set_title(fontsize=14, fontweight='bold',label='liver fibrosis vs Diarrhea ')\n",
    "ax.legend(title=\"liver fibrosis\", loc='upper right') \n",
    "plt.tight_layout() "
   ]
  },
  {
   "cell_type": "code",
   "execution_count": 63,
   "metadata": {
    "ExecuteTime": {
     "end_time": "2020-05-26T18:18:24.852225Z",
     "start_time": "2020-05-26T18:18:24.447784Z"
    },
    "hidden": true,
    "scrolled": true
   },
   "outputs": [
    {
     "data": {
      "image/png": "[encoded data removed]",
      "text/plain": [
       "<Figure size 720x360 with 1 Axes>"
      ]
     },
     "metadata": {
      "needs_background": "light"
     },
     "output_type": "display_data"
    }
   ],
   "source": [
    "fig, ax = plt.subplots(1, 1, figsize=(10,5))\n",
    "sns.countplot(trial1['Fatigue & generalized bone ache '], hue=trial1[\"Baselinehistological staging\"], ax=ax)\n",
    "ax.set_title(fontsize=14, fontweight='bold',label='liver fibrosis vs Fatigue & generalized bone ache ')\n",
    "ax.legend(title=\"liver fibrosis\", loc='upper right') \n",
    "plt.tight_layout() "
   ]
  },
  {
   "cell_type": "code",
   "execution_count": 64,
   "metadata": {
    "ExecuteTime": {
     "end_time": "2020-05-26T18:18:24.852225Z",
     "start_time": "2020-05-26T18:18:24.447784Z"
    },
    "hidden": true,
    "scrolled": true
   },
   "outputs": [
    {
     "data": {
      "image/png": "[encoded data removed]",
      "text/plain": [
       "<Figure size 720x360 with 1 Axes>"
      ]
     },
     "metadata": {
      "needs_background": "light"
     },
     "output_type": "display_data"
    }
   ],
   "source": [
    "fig, ax = plt.subplots(1, 1, figsize=(10,5))\n",
    "sns.countplot(trial1['Jaundice '], hue=trial1[\"Baselinehistological staging\"], ax=ax)\n",
    "ax.set_title(fontsize=14, fontweight='bold',label='liver fibrosis vs Jaundice ')\n",
    "ax.legend(title=\"liver fibrosis\", loc='upper right') \n",
    "plt.tight_layout() "
   ]
  },
  {
   "cell_type": "markdown",
   "metadata": {},
   "source": [
    "## Model trials"
   ]
  },
  {
   "cell_type": "code",
   "execution_count": 31,
   "metadata": {
    "ExecuteTime": {
     "end_time": "2020-05-26T17:36:30.869336Z",
     "start_time": "2020-05-26T17:36:30.862354Z"
    }
   },
   "outputs": [],
   "source": [
    "random_state = 44\n",
    "y = trial1.iloc[:,-1]\n",
    "X = trial1.iloc[:,0:len(trial1.columns)-1]"
   ]
  },
  {
   "cell_type": "code",
   "execution_count": 32,
   "metadata": {
    "ExecuteTime": {
     "end_time": "2020-05-26T17:36:30.889282Z",
     "start_time": "2020-05-26T17:36:30.872328Z"
    }
   },
   "outputs": [],
   "source": [
    "X_train, X_test, y_train, y_test = train_test_split(X, y, test_size=0.2, random_state = random_state,stratify=y)\n",
    "\n",
    "# X_train, X_val, y_train, y_val = train_test_split(X_train, y_train, test_size=0.25, random_state = random_state) # 0.25 x 0.8 = 0.2"
   ]
  },
  {
   "cell_type": "code",
   "execution_count": 33,
   "metadata": {
    "ExecuteTime": {
     "end_time": "2020-05-26T17:36:30.928179Z",
     "start_time": "2020-05-26T17:36:30.891279Z"
    }
   },
   "outputs": [
    {
     "data": {
      "text/plain": [
       "ExtraTreesClassifier(bootstrap=False, ccp_alpha=0.0, class_weight=None,\n",
       "                     criterion='gini', max_depth=2, max_features='auto',\n",
       "                     max_leaf_nodes=None, max_samples=None,\n",
       "                     min_impurity_decrease=0.0, min_impurity_split=None,\n",
       "                     min_samples_leaf=1, min_samples_split=2,\n",
       "                     min_weight_fraction_leaf=0.0, n_estimators=10, n_jobs=None,\n",
       "                     oob_score=False, random_state=44, verbose=0,\n",
       "                     warm_start=False)"
      ]
     },
     "execution_count": 33,
     "metadata": {},
     "output_type": "execute_result"
    }
   ],
   "source": [
    "clf = ExtraTreesClassifier(max_depth=2, random_state=random_state,n_estimators=10)\n",
    "clf.fit(X_train, y_train)"
   ]
  },
  {
   "cell_type": "code",
   "execution_count": 34,
   "metadata": {
    "ExecuteTime": {
     "end_time": "2020-05-26T17:36:30.943138Z",
     "start_time": "2020-05-26T17:36:30.931170Z"
    }
   },
   "outputs": [
    {
     "data": {
      "text/plain": [
       "0.259927797833935"
      ]
     },
     "execution_count": 34,
     "metadata": {},
     "output_type": "execute_result"
    }
   ],
   "source": [
    "y_pred = clf.predict(X_test)\n",
    "accuracy_score(y_test, y_pred)"
   ]
  },
  {
   "cell_type": "code",
   "execution_count": 35,
   "metadata": {
    "ExecuteTime": {
     "end_time": "2020-05-26T17:36:30.955106Z",
     "start_time": "2020-05-26T17:36:30.945133Z"
    }
   },
   "outputs": [
    {
     "data": {
      "text/plain": [
       "array([0.05555194, 0.1221993 , 0.14335592, 0.07911507, 0.07480489,\n",
       "       0.        , 0.        , 0.07406882, 0.        , 0.0962938 ,\n",
       "       0.        , 0.0583089 , 0.02841551, 0.        , 0.06943098,\n",
       "       0.        , 0.0250633 , 0.        , 0.        , 0.        ,\n",
       "       0.        , 0.02072596, 0.        , 0.05088735, 0.03101255,\n",
       "       0.04734439, 0.        , 0.02342133])"
      ]
     },
     "execution_count": 35,
     "metadata": {},
     "output_type": "execute_result"
    }
   ],
   "source": [
    "clf.feature_importances_ "
   ]
  },
  {
   "cell_type": "code",
   "execution_count": 36,
   "metadata": {
    "ExecuteTime": {
     "end_time": "2020-05-26T17:36:30.976053Z",
     "start_time": "2020-05-26T17:36:30.957101Z"
    }
   },
   "outputs": [],
   "source": [
    "model = SelectFromModel(clf, prefit=True)\n",
    "X_train_new = model.transform(X_train)\n",
    "X_test_new = model.transform(X_test)"
   ]
  },
  {
   "cell_type": "code",
   "execution_count": 37,
   "metadata": {
    "ExecuteTime": {
     "end_time": "2020-05-26T17:36:31.003976Z",
     "start_time": "2020-05-26T17:36:30.978047Z"
    }
   },
   "outputs": [
    {
     "data": {
      "text/plain": [
       "ExtraTreesClassifier(bootstrap=False, ccp_alpha=0.0, class_weight=None,\n",
       "                     criterion='gini', max_depth=2, max_features='auto',\n",
       "                     max_leaf_nodes=None, max_samples=None,\n",
       "                     min_impurity_decrease=0.0, min_impurity_split=None,\n",
       "                     min_samples_leaf=1, min_samples_split=2,\n",
       "                     min_weight_fraction_leaf=0.0, n_estimators=10, n_jobs=None,\n",
       "                     oob_score=False, random_state=44, verbose=0,\n",
       "                     warm_start=False)"
      ]
     },
     "execution_count": 37,
     "metadata": {},
     "output_type": "execute_result"
    }
   ],
   "source": [
    "clf.fit(X_train_new, y_train)"
   ]
  },
  {
   "cell_type": "code",
   "execution_count": 38,
   "metadata": {
    "ExecuteTime": {
     "end_time": "2020-05-26T17:36:31.014947Z",
     "start_time": "2020-05-26T17:36:31.005970Z"
    }
   },
   "outputs": [
    {
     "data": {
      "text/plain": [
       "0.2851985559566787"
      ]
     },
     "execution_count": 38,
     "metadata": {},
     "output_type": "execute_result"
    }
   ],
   "source": [
    "y_pred = clf.predict(X_test_new)\n",
    "accuracy_score(y_test, y_pred)"
   ]
  },
  {
   "cell_type": "code",
   "execution_count": 39,
   "metadata": {
    "ExecuteTime": {
     "end_time": "2020-05-26T17:36:31.040877Z",
     "start_time": "2020-05-26T17:36:31.017939Z"
    }
   },
   "outputs": [
    {
     "data": {
      "text/plain": [
       "KNeighborsClassifier(algorithm='auto', leaf_size=30, metric='minkowski',\n",
       "                     metric_params=None, n_jobs=None, n_neighbors=5, p=2,\n",
       "                     weights='uniform')"
      ]
     },
     "execution_count": 39,
     "metadata": {},
     "output_type": "execute_result"
    }
   ],
   "source": [
    "neigh = KNeighborsClassifier(n_neighbors=5)\n",
    "neigh.fit(X_train, y_train)"
   ]
  },
  {
   "cell_type": "code",
   "execution_count": 40,
   "metadata": {
    "ExecuteTime": {
     "end_time": "2020-05-26T17:36:31.073791Z",
     "start_time": "2020-05-26T17:36:31.042872Z"
    }
   },
   "outputs": [
    {
     "data": {
      "text/plain": [
       "0.24548736462093862"
      ]
     },
     "execution_count": 40,
     "metadata": {},
     "output_type": "execute_result"
    }
   ],
   "source": [
    "y_pred = neigh.predict(X_test)\n",
    "accuracy_score(y_test, y_pred)"
   ]
  },
  {
   "cell_type": "code",
   "execution_count": 41,
   "metadata": {
    "ExecuteTime": {
     "end_time": "2020-05-26T17:36:31.735039Z",
     "start_time": "2020-05-26T17:36:31.075784Z"
    }
   },
   "outputs": [],
   "source": [
    "clf = BaggingClassifier(base_estimator=KNeighborsClassifier(n_neighbors=5),\n",
    "...                         n_estimators=100, random_state=random_state).fit(X_train, y_train)"
   ]
  },
  {
   "cell_type": "code",
   "execution_count": 42,
   "metadata": {
    "ExecuteTime": {
     "end_time": "2020-05-26T17:36:32.441511Z",
     "start_time": "2020-05-26T17:36:31.737065Z"
    }
   },
   "outputs": [
    {
     "data": {
      "text/plain": [
       "0.24187725631768953"
      ]
     },
     "execution_count": 42,
     "metadata": {},
     "output_type": "execute_result"
    }
   ],
   "source": [
    "y_pred = clf.predict(X_test)\n",
    "accuracy_score(y_test, y_pred)"
   ]
  },
  {
   "cell_type": "code",
   "execution_count": 43,
   "metadata": {
    "ExecuteTime": {
     "end_time": "2020-05-26T17:36:32.626031Z",
     "start_time": "2020-05-26T17:36:32.443503Z"
    }
   },
   "outputs": [
    {
     "data": {
      "text/plain": [
       "RandomForestClassifier(bootstrap=True, ccp_alpha=0.0, class_weight=None,\n",
       "                       criterion='entropy', max_depth=2, max_features='auto',\n",
       "                       max_leaf_nodes=None, max_samples=0.8,\n",
       "                       min_impurity_decrease=0.0, min_impurity_split=None,\n",
       "                       min_samples_leaf=1, min_samples_split=2,\n",
       "                       min_weight_fraction_leaf=0.0, n_estimators=100,\n",
       "                       n_jobs=None, oob_score=False, random_state=44, verbose=0,\n",
       "                       warm_start=False)"
      ]
     },
     "execution_count": 43,
     "metadata": {},
     "output_type": "execute_result"
    }
   ],
   "source": [
    "clf = RandomForestClassifier(max_depth=2, criterion='entropy',random_state=random_state,max_samples=0.8)\n",
    "clf.fit(X_train, y_train)"
   ]
  },
  {
   "cell_type": "code",
   "execution_count": 44,
   "metadata": {
    "ExecuteTime": {
     "end_time": "2020-05-26T17:36:32.650993Z",
     "start_time": "2020-05-26T17:36:32.628012Z"
    }
   },
   "outputs": [
    {
     "data": {
      "text/plain": [
       "0.24548736462093862"
      ]
     },
     "execution_count": 44,
     "metadata": {},
     "output_type": "execute_result"
    }
   ],
   "source": [
    "y_pred = clf.predict(X_test)\n",
    "accuracy_score(y_test, y_pred)"
   ]
  },
  {
   "cell_type": "code",
   "execution_count": 45,
   "metadata": {
    "ExecuteTime": {
     "end_time": "2020-05-26T17:36:32.686852Z",
     "start_time": "2020-05-26T17:36:32.653941Z"
    }
   },
   "outputs": [
    {
     "data": {
      "text/plain": [
       "0.34747292418772563"
      ]
     },
     "execution_count": 45,
     "metadata": {},
     "output_type": "execute_result"
    }
   ],
   "source": [
    "y_pred = clf.predict(X_train)\n",
    "accuracy_score(y_train, y_pred)"
   ]
  },
  {
   "cell_type": "code",
   "execution_count": 46,
   "metadata": {
    "ExecuteTime": {
     "end_time": "2020-05-26T17:36:32.723754Z",
     "start_time": "2020-05-26T17:36:32.688847Z"
    }
   },
   "outputs": [],
   "source": [
    "model = SelectFromModel(clf, prefit=True)\n",
    "X_train_new = model.transform(X_train)\n",
    "X_test_new = model.transform(X_test)"
   ]
  },
  {
   "cell_type": "code",
   "execution_count": 47,
   "metadata": {
    "ExecuteTime": {
     "end_time": "2020-05-26T17:36:32.983121Z",
     "start_time": "2020-05-26T17:36:32.725748Z"
    }
   },
   "outputs": [
    {
     "data": {
      "text/plain": [
       "0.2743682310469314"
      ]
     },
     "execution_count": 47,
     "metadata": {},
     "output_type": "execute_result"
    }
   ],
   "source": [
    "clf.fit(X_train_new, y_train)\n",
    "y_pred = clf.predict(X_test_new)\n",
    "accuracy_score(y_test, y_pred)"
   ]
  },
  {
   "cell_type": "code",
   "execution_count": 48,
   "metadata": {
    "ExecuteTime": {
     "end_time": "2020-05-26T17:36:33.013068Z",
     "start_time": "2020-05-26T17:36:32.987109Z"
    }
   },
   "outputs": [
    {
     "data": {
      "text/plain": [
       "0.32581227436823107"
      ]
     },
     "execution_count": 48,
     "metadata": {},
     "output_type": "execute_result"
    }
   ],
   "source": [
    "y_pred = clf.predict(X_train_new)\n",
    "accuracy_score(y_train, y_pred)"
   ]
  },
  {
   "cell_type": "markdown",
   "metadata": {},
   "source": [
    "# Trial 2"
   ]
  },
  {
   "cell_type": "markdown",
   "metadata": {},
   "source": [
    "## Normalization of continuos features"
   ]
  },
  {
   "cell_type": "code",
   "execution_count": 102,
   "metadata": {
    "ExecuteTime": {
     "end_time": "2020-05-27T13:04:00.034342Z",
     "start_time": "2020-05-27T13:03:59.986305Z"
    }
   },
   "outputs": [],
   "source": [
    "trial2 = pd.read_csv('HCV-Egy-Data.csv')"
   ]
  },
  {
   "cell_type": "code",
   "execution_count": 86,
   "metadata": {
    "ExecuteTime": {
     "end_time": "2020-05-26T19:13:14.764451Z",
     "start_time": "2020-05-26T19:13:14.745500Z"
    }
   },
   "outputs": [
    {
     "data": {
      "text/plain": [
       "Index(['Age', 'Gender', 'BMI', 'Fever', 'Nausea/Vomting', 'Headache ',\n",
       "       'Diarrhea ', 'Fatigue & generalized bone ache ', 'Jaundice ',\n",
       "       'Epigastric pain ', 'WBC', 'RBC', 'HGB', 'Plat', 'AST 1', 'ALT 1',\n",
       "       'ALT4', 'ALT 12', 'ALT 24', 'ALT 36', 'ALT 48', 'ALT after 24 w',\n",
       "       'RNA Base', 'RNA 4', 'RNA 12', 'RNA EOT', 'RNA EF',\n",
       "       'Baseline histological Grading', 'Baselinehistological staging'],\n",
       "      dtype='object')"
      ]
     },
     "execution_count": 86,
     "metadata": {},
     "output_type": "execute_result"
    }
   ],
   "source": [
    "trial2.columns"
   ]
  },
  {
   "cell_type": "code",
   "execution_count": 3,
   "metadata": {
    "ExecuteTime": {
     "end_time": "2020-05-27T12:16:00.071219Z",
     "start_time": "2020-05-27T12:16:00.061622Z"
    }
   },
   "outputs": [],
   "source": [
    "cont_features = ['Age', 'BMI','WBC', 'RBC', 'HGB', 'Plat', 'AST 1', 'ALT 1',\n",
    "       'ALT4', 'ALT 12', 'ALT 24', 'ALT 36', 'ALT 48', 'ALT after 24 w',\n",
    "       'RNA Base', 'RNA 4', 'RNA 12', 'RNA EOT', 'RNA EF']\n",
    "cat_features = ['Gender','Fever', 'Nausea/Vomting', 'Headache ',\n",
    "       'Diarrhea ', 'Fatigue & generalized bone ache ', 'Jaundice ',\n",
    "       'Epigastric pain ','Baseline histological Grading']"
   ]
  },
  {
   "cell_type": "code",
   "execution_count": 103,
   "metadata": {
    "ExecuteTime": {
     "end_time": "2020-05-27T13:04:02.716248Z",
     "start_time": "2020-05-27T13:04:02.700268Z"
    }
   },
   "outputs": [],
   "source": [
    "random_state = 44\n",
    "y = trial2.iloc[:,-1]\n",
    "X = trial2.iloc[:,0:len(trial2.columns)-1]"
   ]
  },
  {
   "cell_type": "code",
   "execution_count": 134,
   "metadata": {
    "ExecuteTime": {
     "end_time": "2020-05-27T13:10:57.753725Z",
     "start_time": "2020-05-27T13:10:57.722915Z"
    }
   },
   "outputs": [],
   "source": [
    "X_train, X_test, y_train, y_test = train_test_split(X, y, test_size=0.2, random_state = random_state,stratify=y)"
   ]
  },
  {
   "cell_type": "code",
   "execution_count": 83,
   "metadata": {
    "ExecuteTime": {
     "end_time": "2020-05-27T12:55:23.786989Z",
     "start_time": "2020-05-27T12:55:23.714559Z"
    }
   },
   "outputs": [
    {
     "data": {
      "text/html": [
       "<div>\n",
       "<style scoped>\n",
       "    .dataframe tbody tr th:only-of-type {\n",
       "        vertical-align: middle;\n",
       "    }\n",
       "\n",
       "    .dataframe tbody tr th {\n",
       "        vertical-align: top;\n",
       "    }\n",
       "\n",
       "    .dataframe thead th {\n",
       "        text-align: right;\n",
       "    }\n",
       "</style>\n",
       "<table border=\"1\" class=\"dataframe\">\n",
       "  <thead>\n",
       "    <tr style=\"text-align: right;\">\n",
       "      <th></th>\n",
       "      <th>Age</th>\n",
       "      <th>Gender</th>\n",
       "      <th>BMI</th>\n",
       "      <th>Fever</th>\n",
       "      <th>Nausea/Vomting</th>\n",
       "      <th>Headache</th>\n",
       "      <th>Diarrhea</th>\n",
       "      <th>Fatigue &amp; generalized bone ache</th>\n",
       "      <th>Jaundice</th>\n",
       "      <th>Epigastric pain</th>\n",
       "      <th>...</th>\n",
       "      <th>ALT 24</th>\n",
       "      <th>ALT 36</th>\n",
       "      <th>ALT 48</th>\n",
       "      <th>ALT after 24 w</th>\n",
       "      <th>RNA Base</th>\n",
       "      <th>RNA 4</th>\n",
       "      <th>RNA 12</th>\n",
       "      <th>RNA EOT</th>\n",
       "      <th>RNA EF</th>\n",
       "      <th>Baseline histological Grading</th>\n",
       "    </tr>\n",
       "  </thead>\n",
       "  <tbody>\n",
       "    <tr>\n",
       "      <th>463</th>\n",
       "      <td>36</td>\n",
       "      <td>2</td>\n",
       "      <td>28</td>\n",
       "      <td>1</td>\n",
       "      <td>1</td>\n",
       "      <td>2</td>\n",
       "      <td>2</td>\n",
       "      <td>1</td>\n",
       "      <td>2</td>\n",
       "      <td>2</td>\n",
       "      <td>...</td>\n",
       "      <td>71</td>\n",
       "      <td>105</td>\n",
       "      <td>91</td>\n",
       "      <td>45</td>\n",
       "      <td>635825</td>\n",
       "      <td>570195</td>\n",
       "      <td>110371</td>\n",
       "      <td>741711</td>\n",
       "      <td>693095</td>\n",
       "      <td>5</td>\n",
       "    </tr>\n",
       "    <tr>\n",
       "      <th>807</th>\n",
       "      <td>50</td>\n",
       "      <td>2</td>\n",
       "      <td>32</td>\n",
       "      <td>2</td>\n",
       "      <td>1</td>\n",
       "      <td>1</td>\n",
       "      <td>1</td>\n",
       "      <td>1</td>\n",
       "      <td>2</td>\n",
       "      <td>1</td>\n",
       "      <td>...</td>\n",
       "      <td>53</td>\n",
       "      <td>68</td>\n",
       "      <td>101</td>\n",
       "      <td>32</td>\n",
       "      <td>407032</td>\n",
       "      <td>546044</td>\n",
       "      <td>5</td>\n",
       "      <td>5</td>\n",
       "      <td>5</td>\n",
       "      <td>8</td>\n",
       "    </tr>\n",
       "    <tr>\n",
       "      <th>957</th>\n",
       "      <td>39</td>\n",
       "      <td>2</td>\n",
       "      <td>22</td>\n",
       "      <td>2</td>\n",
       "      <td>1</td>\n",
       "      <td>2</td>\n",
       "      <td>1</td>\n",
       "      <td>2</td>\n",
       "      <td>2</td>\n",
       "      <td>2</td>\n",
       "      <td>...</td>\n",
       "      <td>78</td>\n",
       "      <td>122</td>\n",
       "      <td>106</td>\n",
       "      <td>39</td>\n",
       "      <td>683841</td>\n",
       "      <td>1185549</td>\n",
       "      <td>5</td>\n",
       "      <td>5</td>\n",
       "      <td>5</td>\n",
       "      <td>6</td>\n",
       "    </tr>\n",
       "    <tr>\n",
       "      <th>798</th>\n",
       "      <td>40</td>\n",
       "      <td>1</td>\n",
       "      <td>27</td>\n",
       "      <td>2</td>\n",
       "      <td>2</td>\n",
       "      <td>1</td>\n",
       "      <td>2</td>\n",
       "      <td>2</td>\n",
       "      <td>1</td>\n",
       "      <td>2</td>\n",
       "      <td>...</td>\n",
       "      <td>59</td>\n",
       "      <td>82</td>\n",
       "      <td>120</td>\n",
       "      <td>28</td>\n",
       "      <td>1171382</td>\n",
       "      <td>668508</td>\n",
       "      <td>2517</td>\n",
       "      <td>748839</td>\n",
       "      <td>481740</td>\n",
       "      <td>13</td>\n",
       "    </tr>\n",
       "    <tr>\n",
       "      <th>538</th>\n",
       "      <td>45</td>\n",
       "      <td>2</td>\n",
       "      <td>22</td>\n",
       "      <td>1</td>\n",
       "      <td>1</td>\n",
       "      <td>2</td>\n",
       "      <td>2</td>\n",
       "      <td>2</td>\n",
       "      <td>1</td>\n",
       "      <td>2</td>\n",
       "      <td>...</td>\n",
       "      <td>86</td>\n",
       "      <td>51</td>\n",
       "      <td>60</td>\n",
       "      <td>25</td>\n",
       "      <td>581841</td>\n",
       "      <td>202483</td>\n",
       "      <td>787967</td>\n",
       "      <td>464681</td>\n",
       "      <td>339519</td>\n",
       "      <td>10</td>\n",
       "    </tr>\n",
       "  </tbody>\n",
       "</table>\n",
       "<p>5 rows × 28 columns</p>\n",
       "</div>"
      ],
      "text/plain": [
       "     Age  Gender  BMI  Fever  Nausea/Vomting  Headache   Diarrhea   \\\n",
       "463   36       2   28      1               1          2          2   \n",
       "807   50       2   32      2               1          1          1   \n",
       "957   39       2   22      2               1          2          1   \n",
       "798   40       1   27      2               2          1          2   \n",
       "538   45       2   22      1               1          2          2   \n",
       "\n",
       "     Fatigue & generalized bone ache   Jaundice   Epigastric pain   ...  \\\n",
       "463                                 1          2                 2  ...   \n",
       "807                                 1          2                 1  ...   \n",
       "957                                 2          2                 2  ...   \n",
       "798                                 2          1                 2  ...   \n",
       "538                                 2          1                 2  ...   \n",
       "\n",
       "     ALT 24  ALT 36  ALT 48  ALT after 24 w  RNA Base    RNA 4  RNA 12  \\\n",
       "463      71     105      91              45    635825   570195  110371   \n",
       "807      53      68     101              32    407032   546044       5   \n",
       "957      78     122     106              39    683841  1185549       5   \n",
       "798      59      82     120              28   1171382   668508    2517   \n",
       "538      86      51      60              25    581841   202483  787967   \n",
       "\n",
       "     RNA EOT  RNA EF  Baseline histological Grading  \n",
       "463   741711  693095                              5  \n",
       "807        5       5                              8  \n",
       "957        5       5                              6  \n",
       "798   748839  481740                             13  \n",
       "538   464681  339519                             10  \n",
       "\n",
       "[5 rows x 28 columns]"
      ]
     },
     "execution_count": 83,
     "metadata": {},
     "output_type": "execute_result"
    }
   ],
   "source": [
    "X_test.head()"
   ]
  },
  {
   "cell_type": "code",
   "execution_count": 135,
   "metadata": {
    "ExecuteTime": {
     "end_time": "2020-05-27T13:11:00.049963Z",
     "start_time": "2020-05-27T13:10:59.994050Z"
    }
   },
   "outputs": [],
   "source": [
    "scaler = preprocessing.StandardScaler().fit(X_train[cont_features])\n",
    "X_test_sc = pd.DataFrame(scaler.transform(X_test[cont_features]),columns=cont_features)\n",
    "X_train_sc = pd.DataFrame(scaler.transform(X_train[cont_features]),columns=cont_features)"
   ]
  },
  {
   "cell_type": "code",
   "execution_count": 117,
   "metadata": {
    "ExecuteTime": {
     "end_time": "2020-05-27T13:08:33.822434Z",
     "start_time": "2020-05-27T13:08:33.634569Z"
    }
   },
   "outputs": [
    {
     "data": {
      "text/html": [
       "<div>\n",
       "<style scoped>\n",
       "    .dataframe tbody tr th:only-of-type {\n",
       "        vertical-align: middle;\n",
       "    }\n",
       "\n",
       "    .dataframe tbody tr th {\n",
       "        vertical-align: top;\n",
       "    }\n",
       "\n",
       "    .dataframe thead th {\n",
       "        text-align: right;\n",
       "    }\n",
       "</style>\n",
       "<table border=\"1\" class=\"dataframe\">\n",
       "  <thead>\n",
       "    <tr style=\"text-align: right;\">\n",
       "      <th></th>\n",
       "      <th>Age</th>\n",
       "      <th>BMI</th>\n",
       "      <th>WBC</th>\n",
       "      <th>RBC</th>\n",
       "      <th>HGB</th>\n",
       "      <th>Plat</th>\n",
       "      <th>AST 1</th>\n",
       "      <th>ALT 1</th>\n",
       "      <th>ALT4</th>\n",
       "      <th>ALT 12</th>\n",
       "      <th>ALT 24</th>\n",
       "      <th>ALT 36</th>\n",
       "      <th>ALT 48</th>\n",
       "      <th>ALT after 24 w</th>\n",
       "      <th>RNA Base</th>\n",
       "      <th>RNA 4</th>\n",
       "      <th>RNA 12</th>\n",
       "      <th>RNA EOT</th>\n",
       "      <th>RNA EF</th>\n",
       "    </tr>\n",
       "  </thead>\n",
       "  <tbody>\n",
       "    <tr>\n",
       "      <th>count</th>\n",
       "      <td>1.108000e+03</td>\n",
       "      <td>1.108000e+03</td>\n",
       "      <td>1.108000e+03</td>\n",
       "      <td>1.108000e+03</td>\n",
       "      <td>1.108000e+03</td>\n",
       "      <td>1.108000e+03</td>\n",
       "      <td>1.108000e+03</td>\n",
       "      <td>1.108000e+03</td>\n",
       "      <td>1.108000e+03</td>\n",
       "      <td>1.108000e+03</td>\n",
       "      <td>1.108000e+03</td>\n",
       "      <td>1.108000e+03</td>\n",
       "      <td>1.108000e+03</td>\n",
       "      <td>1.108000e+03</td>\n",
       "      <td>1.108000e+03</td>\n",
       "      <td>1.108000e+03</td>\n",
       "      <td>1.108000e+03</td>\n",
       "      <td>1.108000e+03</td>\n",
       "      <td>1.108000e+03</td>\n",
       "    </tr>\n",
       "    <tr>\n",
       "      <th>mean</th>\n",
       "      <td>9.939903e-17</td>\n",
       "      <td>-3.863736e-16</td>\n",
       "      <td>1.763531e-17</td>\n",
       "      <td>-1.208019e-15</td>\n",
       "      <td>-4.488988e-16</td>\n",
       "      <td>-2.468944e-16</td>\n",
       "      <td>-6.412841e-18</td>\n",
       "      <td>6.092199e-17</td>\n",
       "      <td>-7.054125e-17</td>\n",
       "      <td>1.474953e-16</td>\n",
       "      <td>-1.090183e-16</td>\n",
       "      <td>-9.619261e-18</td>\n",
       "      <td>-2.613233e-16</td>\n",
       "      <td>4.513037e-16</td>\n",
       "      <td>8.416853e-17</td>\n",
       "      <td>-6.412841e-17</td>\n",
       "      <td>-7.695409e-17</td>\n",
       "      <td>4.168346e-17</td>\n",
       "      <td>1.923852e-17</td>\n",
       "    </tr>\n",
       "    <tr>\n",
       "      <th>std</th>\n",
       "      <td>1.000452e+00</td>\n",
       "      <td>1.000452e+00</td>\n",
       "      <td>1.000452e+00</td>\n",
       "      <td>1.000452e+00</td>\n",
       "      <td>1.000452e+00</td>\n",
       "      <td>1.000452e+00</td>\n",
       "      <td>1.000452e+00</td>\n",
       "      <td>1.000452e+00</td>\n",
       "      <td>1.000452e+00</td>\n",
       "      <td>1.000452e+00</td>\n",
       "      <td>1.000452e+00</td>\n",
       "      <td>1.000452e+00</td>\n",
       "      <td>1.000452e+00</td>\n",
       "      <td>1.000452e+00</td>\n",
       "      <td>1.000452e+00</td>\n",
       "      <td>1.000452e+00</td>\n",
       "      <td>1.000452e+00</td>\n",
       "      <td>1.000452e+00</td>\n",
       "      <td>1.000452e+00</td>\n",
       "    </tr>\n",
       "    <tr>\n",
       "      <th>min</th>\n",
       "      <td>-1.618509e+00</td>\n",
       "      <td>-1.617524e+00</td>\n",
       "      <td>-1.698983e+00</td>\n",
       "      <td>-1.732929e+00</td>\n",
       "      <td>-1.482043e+00</td>\n",
       "      <td>-1.668674e+00</td>\n",
       "      <td>-1.711971e+00</td>\n",
       "      <td>-1.732794e+00</td>\n",
       "      <td>-1.665686e+00</td>\n",
       "      <td>-1.721983e+00</td>\n",
       "      <td>-1.707797e+00</td>\n",
       "      <td>-2.969398e+00</td>\n",
       "      <td>-2.971766e+00</td>\n",
       "      <td>-3.985935e+00</td>\n",
       "      <td>-1.676889e+00</td>\n",
       "      <td>-1.657118e+00</td>\n",
       "      <td>-9.911532e-01</td>\n",
       "      <td>-1.077012e+00</td>\n",
       "      <td>-1.070198e+00</td>\n",
       "    </tr>\n",
       "    <tr>\n",
       "      <th>25%</th>\n",
       "      <td>-9.341707e-01</td>\n",
       "      <td>-8.834102e-01</td>\n",
       "      <td>-8.732475e-01</td>\n",
       "      <td>-8.737502e-01</td>\n",
       "      <td>-9.022039e-01</td>\n",
       "      <td>-8.970617e-01</td>\n",
       "      <td>-8.510233e-01</td>\n",
       "      <td>-8.402518e-01</td>\n",
       "      <td>-8.352277e-01</td>\n",
       "      <td>-8.705449e-01</td>\n",
       "      <td>-8.339239e-01</td>\n",
       "      <td>-8.511012e-01</td>\n",
       "      <td>-8.443689e-01</td>\n",
       "      <td>-8.845194e-01</td>\n",
       "      <td>-9.022582e-01</td>\n",
       "      <td>-9.128265e-01</td>\n",
       "      <td>-9.911532e-01</td>\n",
       "      <td>-1.077012e+00</td>\n",
       "      <td>-1.070198e+00</td>\n",
       "    </tr>\n",
       "    <tr>\n",
       "      <th>50%</th>\n",
       "      <td>-2.172011e-02</td>\n",
       "      <td>9.540830e-02</td>\n",
       "      <td>-8.279795e-03</td>\n",
       "      <td>6.598828e-02</td>\n",
       "      <td>2.574735e-01</td>\n",
       "      <td>7.806048e-03</td>\n",
       "      <td>9.924779e-03</td>\n",
       "      <td>-2.532208e-02</td>\n",
       "      <td>-4.251771e-02</td>\n",
       "      <td>1.959538e-02</td>\n",
       "      <td>-3.603989e-02</td>\n",
       "      <td>1.891336e-02</td>\n",
       "      <td>-8.605864e-03</td>\n",
       "      <td>-3.867864e-02</td>\n",
       "      <td>4.083461e-03</td>\n",
       "      <td>-2.138562e-03</td>\n",
       "      <td>-2.068733e-01</td>\n",
       "      <td>-1.543403e-01</td>\n",
       "      <td>-1.745787e-01</td>\n",
       "    </tr>\n",
       "    <tr>\n",
       "      <th>75%</th>\n",
       "      <td>8.907305e-01</td>\n",
       "      <td>8.295221e-01</td>\n",
       "      <td>9.146065e-01</td>\n",
       "      <td>8.539927e-01</td>\n",
       "      <td>8.373122e-01</td>\n",
       "      <td>8.350240e-01</td>\n",
       "      <td>8.317389e-01</td>\n",
       "      <td>8.284138e-01</td>\n",
       "      <td>9.011846e-01</td>\n",
       "      <td>8.323322e-01</td>\n",
       "      <td>8.758276e-01</td>\n",
       "      <td>8.889280e-01</td>\n",
       "      <td>8.651464e-01</td>\n",
       "      <td>8.071621e-01</td>\n",
       "      <td>8.417668e-01</td>\n",
       "      <td>8.511716e-01</td>\n",
       "      <td>8.162692e-01</td>\n",
       "      <td>8.611714e-01</td>\n",
       "      <td>8.798512e-01</td>\n",
       "    </tr>\n",
       "    <tr>\n",
       "      <th>max</th>\n",
       "      <td>1.689125e+00</td>\n",
       "      <td>1.563636e+00</td>\n",
       "      <td>1.687258e+00</td>\n",
       "      <td>1.711193e+00</td>\n",
       "      <td>1.417151e+00</td>\n",
       "      <td>1.721920e+00</td>\n",
       "      <td>1.770955e+00</td>\n",
       "      <td>1.720956e+00</td>\n",
       "      <td>1.693895e+00</td>\n",
       "      <td>1.722473e+00</td>\n",
       "      <td>1.673712e+00</td>\n",
       "      <td>1.683289e+00</td>\n",
       "      <td>1.700909e+00</td>\n",
       "      <td>1.653003e+00</td>\n",
       "      <td>1.736561e+00</td>\n",
       "      <td>1.654349e+00</td>\n",
       "      <td>1.190225e+01</td>\n",
       "      <td>1.983480e+00</td>\n",
       "      <td>1.973181e+00</td>\n",
       "    </tr>\n",
       "  </tbody>\n",
       "</table>\n",
       "</div>"
      ],
      "text/plain": [
       "                Age           BMI           WBC           RBC           HGB  \\\n",
       "count  1.108000e+03  1.108000e+03  1.108000e+03  1.108000e+03  1.108000e+03   \n",
       "mean   9.939903e-17 -3.863736e-16  1.763531e-17 -1.208019e-15 -4.488988e-16   \n",
       "std    1.000452e+00  1.000452e+00  1.000452e+00  1.000452e+00  1.000452e+00   \n",
       "min   -1.618509e+00 -1.617524e+00 -1.698983e+00 -1.732929e+00 -1.482043e+00   \n",
       "25%   -9.341707e-01 -8.834102e-01 -8.732475e-01 -8.737502e-01 -9.022039e-01   \n",
       "50%   -2.172011e-02  9.540830e-02 -8.279795e-03  6.598828e-02  2.574735e-01   \n",
       "75%    8.907305e-01  8.295221e-01  9.146065e-01  8.539927e-01  8.373122e-01   \n",
       "max    1.689125e+00  1.563636e+00  1.687258e+00  1.711193e+00  1.417151e+00   \n",
       "\n",
       "               Plat         AST 1         ALT 1          ALT4        ALT 12  \\\n",
       "count  1.108000e+03  1.108000e+03  1.108000e+03  1.108000e+03  1.108000e+03   \n",
       "mean  -2.468944e-16 -6.412841e-18  6.092199e-17 -7.054125e-17  1.474953e-16   \n",
       "std    1.000452e+00  1.000452e+00  1.000452e+00  1.000452e+00  1.000452e+00   \n",
       "min   -1.668674e+00 -1.711971e+00 -1.732794e+00 -1.665686e+00 -1.721983e+00   \n",
       "25%   -8.970617e-01 -8.510233e-01 -8.402518e-01 -8.352277e-01 -8.705449e-01   \n",
       "50%    7.806048e-03  9.924779e-03 -2.532208e-02 -4.251771e-02  1.959538e-02   \n",
       "75%    8.350240e-01  8.317389e-01  8.284138e-01  9.011846e-01  8.323322e-01   \n",
       "max    1.721920e+00  1.770955e+00  1.720956e+00  1.693895e+00  1.722473e+00   \n",
       "\n",
       "             ALT 24        ALT 36        ALT 48  ALT after 24 w      RNA Base  \\\n",
       "count  1.108000e+03  1.108000e+03  1.108000e+03    1.108000e+03  1.108000e+03   \n",
       "mean  -1.090183e-16 -9.619261e-18 -2.613233e-16    4.513037e-16  8.416853e-17   \n",
       "std    1.000452e+00  1.000452e+00  1.000452e+00    1.000452e+00  1.000452e+00   \n",
       "min   -1.707797e+00 -2.969398e+00 -2.971766e+00   -3.985935e+00 -1.676889e+00   \n",
       "25%   -8.339239e-01 -8.511012e-01 -8.443689e-01   -8.845194e-01 -9.022582e-01   \n",
       "50%   -3.603989e-02  1.891336e-02 -8.605864e-03   -3.867864e-02  4.083461e-03   \n",
       "75%    8.758276e-01  8.889280e-01  8.651464e-01    8.071621e-01  8.417668e-01   \n",
       "max    1.673712e+00  1.683289e+00  1.700909e+00    1.653003e+00  1.736561e+00   \n",
       "\n",
       "              RNA 4        RNA 12       RNA EOT        RNA EF  \n",
       "count  1.108000e+03  1.108000e+03  1.108000e+03  1.108000e+03  \n",
       "mean  -6.412841e-17 -7.695409e-17  4.168346e-17  1.923852e-17  \n",
       "std    1.000452e+00  1.000452e+00  1.000452e+00  1.000452e+00  \n",
       "min   -1.657118e+00 -9.911532e-01 -1.077012e+00 -1.070198e+00  \n",
       "25%   -9.128265e-01 -9.911532e-01 -1.077012e+00 -1.070198e+00  \n",
       "50%   -2.138562e-03 -2.068733e-01 -1.543403e-01 -1.745787e-01  \n",
       "75%    8.511716e-01  8.162692e-01  8.611714e-01  8.798512e-01  \n",
       "max    1.654349e+00  1.190225e+01  1.983480e+00  1.973181e+00  "
      ]
     },
     "execution_count": 117,
     "metadata": {},
     "output_type": "execute_result"
    }
   ],
   "source": [
    "X_train_sc.describe()"
   ]
  },
  {
   "cell_type": "code",
   "execution_count": 136,
   "metadata": {
    "ExecuteTime": {
     "end_time": "2020-05-27T13:11:02.308456Z",
     "start_time": "2020-05-27T13:11:02.268874Z"
    }
   },
   "outputs": [],
   "source": [
    "normalizer = MinMaxScaler([0,1]).fit(X_train_sc)\n",
    "X_test_cont = pd.DataFrame(normalizer.transform(X_test_sc),columns=cont_features)\n",
    "X_train_cont = pd.DataFrame(normalizer.transform(X_train_sc),columns=cont_features)"
   ]
  },
  {
   "cell_type": "code",
   "execution_count": 119,
   "metadata": {
    "ExecuteTime": {
     "end_time": "2020-05-27T13:08:47.679367Z",
     "start_time": "2020-05-27T13:08:47.478647Z"
    }
   },
   "outputs": [
    {
     "data": {
      "text/html": [
       "<div>\n",
       "<style scoped>\n",
       "    .dataframe tbody tr th:only-of-type {\n",
       "        vertical-align: middle;\n",
       "    }\n",
       "\n",
       "    .dataframe tbody tr th {\n",
       "        vertical-align: top;\n",
       "    }\n",
       "\n",
       "    .dataframe thead th {\n",
       "        text-align: right;\n",
       "    }\n",
       "</style>\n",
       "<table border=\"1\" class=\"dataframe\">\n",
       "  <thead>\n",
       "    <tr style=\"text-align: right;\">\n",
       "      <th></th>\n",
       "      <th>Age</th>\n",
       "      <th>BMI</th>\n",
       "      <th>WBC</th>\n",
       "      <th>RBC</th>\n",
       "      <th>HGB</th>\n",
       "      <th>Plat</th>\n",
       "      <th>AST 1</th>\n",
       "      <th>ALT 1</th>\n",
       "      <th>ALT4</th>\n",
       "      <th>ALT 12</th>\n",
       "      <th>ALT 24</th>\n",
       "      <th>ALT 36</th>\n",
       "      <th>ALT 48</th>\n",
       "      <th>ALT after 24 w</th>\n",
       "      <th>RNA Base</th>\n",
       "      <th>RNA 4</th>\n",
       "      <th>RNA 12</th>\n",
       "      <th>RNA EOT</th>\n",
       "      <th>RNA EF</th>\n",
       "    </tr>\n",
       "  </thead>\n",
       "  <tbody>\n",
       "    <tr>\n",
       "      <th>count</th>\n",
       "      <td>1108.000000</td>\n",
       "      <td>1108.000000</td>\n",
       "      <td>1108.000000</td>\n",
       "      <td>1108.000000</td>\n",
       "      <td>1108.000000</td>\n",
       "      <td>1108.000000</td>\n",
       "      <td>1108.000000</td>\n",
       "      <td>1108.000000</td>\n",
       "      <td>1108.000000</td>\n",
       "      <td>1108.000000</td>\n",
       "      <td>1108.000000</td>\n",
       "      <td>1108.000000</td>\n",
       "      <td>1108.000000</td>\n",
       "      <td>1108.000000</td>\n",
       "      <td>1108.000000</td>\n",
       "      <td>1108.000000</td>\n",
       "      <td>1108.000000</td>\n",
       "      <td>1108.000000</td>\n",
       "      <td>1108.000000</td>\n",
       "    </tr>\n",
       "    <tr>\n",
       "      <th>mean</th>\n",
       "      <td>0.489325</td>\n",
       "      <td>0.508470</td>\n",
       "      <td>0.501731</td>\n",
       "      <td>0.503156</td>\n",
       "      <td>0.511191</td>\n",
       "      <td>0.492148</td>\n",
       "      <td>0.491532</td>\n",
       "      <td>0.501714</td>\n",
       "      <td>0.495802</td>\n",
       "      <td>0.499929</td>\n",
       "      <td>0.505040</td>\n",
       "      <td>0.638211</td>\n",
       "      <td>0.635988</td>\n",
       "      <td>0.706859</td>\n",
       "      <td>0.491259</td>\n",
       "      <td>0.500418</td>\n",
       "      <td>0.076873</td>\n",
       "      <td>0.351908</td>\n",
       "      <td>0.351648</td>\n",
       "    </tr>\n",
       "    <tr>\n",
       "      <th>std</th>\n",
       "      <td>0.302467</td>\n",
       "      <td>0.314493</td>\n",
       "      <td>0.295446</td>\n",
       "      <td>0.290481</td>\n",
       "      <td>0.345079</td>\n",
       "      <td>0.295067</td>\n",
       "      <td>0.287245</td>\n",
       "      <td>0.289671</td>\n",
       "      <td>0.297791</td>\n",
       "      <td>0.290453</td>\n",
       "      <td>0.295860</td>\n",
       "      <td>0.215027</td>\n",
       "      <td>0.214107</td>\n",
       "      <td>0.177418</td>\n",
       "      <td>0.293091</td>\n",
       "      <td>0.302117</td>\n",
       "      <td>0.077594</td>\n",
       "      <td>0.326892</td>\n",
       "      <td>0.328730</td>\n",
       "    </tr>\n",
       "    <tr>\n",
       "      <th>min</th>\n",
       "      <td>0.000000</td>\n",
       "      <td>0.000000</td>\n",
       "      <td>0.000000</td>\n",
       "      <td>0.000000</td>\n",
       "      <td>0.000000</td>\n",
       "      <td>0.000000</td>\n",
       "      <td>0.000000</td>\n",
       "      <td>0.000000</td>\n",
       "      <td>0.000000</td>\n",
       "      <td>0.000000</td>\n",
       "      <td>0.000000</td>\n",
       "      <td>0.000000</td>\n",
       "      <td>0.000000</td>\n",
       "      <td>0.000000</td>\n",
       "      <td>0.000000</td>\n",
       "      <td>0.000000</td>\n",
       "      <td>0.000000</td>\n",
       "      <td>0.000000</td>\n",
       "      <td>0.000000</td>\n",
       "    </tr>\n",
       "    <tr>\n",
       "      <th>25%</th>\n",
       "      <td>0.206897</td>\n",
       "      <td>0.230769</td>\n",
       "      <td>0.243850</td>\n",
       "      <td>0.249462</td>\n",
       "      <td>0.200000</td>\n",
       "      <td>0.227574</td>\n",
       "      <td>0.247191</td>\n",
       "      <td>0.258427</td>\n",
       "      <td>0.247191</td>\n",
       "      <td>0.247191</td>\n",
       "      <td>0.258427</td>\n",
       "      <td>0.455285</td>\n",
       "      <td>0.455285</td>\n",
       "      <td>0.550000</td>\n",
       "      <td>0.226935</td>\n",
       "      <td>0.224762</td>\n",
       "      <td>0.000000</td>\n",
       "      <td>0.000000</td>\n",
       "      <td>0.000000</td>\n",
       "    </tr>\n",
       "    <tr>\n",
       "      <th>50%</th>\n",
       "      <td>0.482759</td>\n",
       "      <td>0.538462</td>\n",
       "      <td>0.499286</td>\n",
       "      <td>0.522315</td>\n",
       "      <td>0.600000</td>\n",
       "      <td>0.494450</td>\n",
       "      <td>0.494382</td>\n",
       "      <td>0.494382</td>\n",
       "      <td>0.483146</td>\n",
       "      <td>0.505618</td>\n",
       "      <td>0.494382</td>\n",
       "      <td>0.642276</td>\n",
       "      <td>0.634146</td>\n",
       "      <td>0.700000</td>\n",
       "      <td>0.492456</td>\n",
       "      <td>0.499772</td>\n",
       "      <td>0.060828</td>\n",
       "      <td>0.301478</td>\n",
       "      <td>0.294285</td>\n",
       "    </tr>\n",
       "    <tr>\n",
       "      <th>75%</th>\n",
       "      <td>0.758621</td>\n",
       "      <td>0.769231</td>\n",
       "      <td>0.771826</td>\n",
       "      <td>0.751112</td>\n",
       "      <td>0.800000</td>\n",
       "      <td>0.738425</td>\n",
       "      <td>0.730337</td>\n",
       "      <td>0.741573</td>\n",
       "      <td>0.764045</td>\n",
       "      <td>0.741573</td>\n",
       "      <td>0.764045</td>\n",
       "      <td>0.829268</td>\n",
       "      <td>0.821138</td>\n",
       "      <td>0.850000</td>\n",
       "      <td>0.737862</td>\n",
       "      <td>0.757456</td>\n",
       "      <td>0.140182</td>\n",
       "      <td>0.633291</td>\n",
       "      <td>0.640751</td>\n",
       "    </tr>\n",
       "    <tr>\n",
       "      <th>max</th>\n",
       "      <td>1.000000</td>\n",
       "      <td>1.000000</td>\n",
       "      <td>1.000000</td>\n",
       "      <td>1.000000</td>\n",
       "      <td>1.000000</td>\n",
       "      <td>1.000000</td>\n",
       "      <td>1.000000</td>\n",
       "      <td>1.000000</td>\n",
       "      <td>1.000000</td>\n",
       "      <td>1.000000</td>\n",
       "      <td>1.000000</td>\n",
       "      <td>1.000000</td>\n",
       "      <td>1.000000</td>\n",
       "      <td>1.000000</td>\n",
       "      <td>1.000000</td>\n",
       "      <td>1.000000</td>\n",
       "      <td>1.000000</td>\n",
       "      <td>1.000000</td>\n",
       "      <td>1.000000</td>\n",
       "    </tr>\n",
       "  </tbody>\n",
       "</table>\n",
       "</div>"
      ],
      "text/plain": [
       "               Age          BMI          WBC          RBC          HGB  \\\n",
       "count  1108.000000  1108.000000  1108.000000  1108.000000  1108.000000   \n",
       "mean      0.489325     0.508470     0.501731     0.503156     0.511191   \n",
       "std       0.302467     0.314493     0.295446     0.290481     0.345079   \n",
       "min       0.000000     0.000000     0.000000     0.000000     0.000000   \n",
       "25%       0.206897     0.230769     0.243850     0.249462     0.200000   \n",
       "50%       0.482759     0.538462     0.499286     0.522315     0.600000   \n",
       "75%       0.758621     0.769231     0.771826     0.751112     0.800000   \n",
       "max       1.000000     1.000000     1.000000     1.000000     1.000000   \n",
       "\n",
       "              Plat        AST 1        ALT 1         ALT4       ALT 12  \\\n",
       "count  1108.000000  1108.000000  1108.000000  1108.000000  1108.000000   \n",
       "mean      0.492148     0.491532     0.501714     0.495802     0.499929   \n",
       "std       0.295067     0.287245     0.289671     0.297791     0.290453   \n",
       "min       0.000000     0.000000     0.000000     0.000000     0.000000   \n",
       "25%       0.227574     0.247191     0.258427     0.247191     0.247191   \n",
       "50%       0.494450     0.494382     0.494382     0.483146     0.505618   \n",
       "75%       0.738425     0.730337     0.741573     0.764045     0.741573   \n",
       "max       1.000000     1.000000     1.000000     1.000000     1.000000   \n",
       "\n",
       "            ALT 24       ALT 36       ALT 48  ALT after 24 w     RNA Base  \\\n",
       "count  1108.000000  1108.000000  1108.000000     1108.000000  1108.000000   \n",
       "mean      0.505040     0.638211     0.635988        0.706859     0.491259   \n",
       "std       0.295860     0.215027     0.214107        0.177418     0.293091   \n",
       "min       0.000000     0.000000     0.000000        0.000000     0.000000   \n",
       "25%       0.258427     0.455285     0.455285        0.550000     0.226935   \n",
       "50%       0.494382     0.642276     0.634146        0.700000     0.492456   \n",
       "75%       0.764045     0.829268     0.821138        0.850000     0.737862   \n",
       "max       1.000000     1.000000     1.000000        1.000000     1.000000   \n",
       "\n",
       "             RNA 4       RNA 12      RNA EOT       RNA EF  \n",
       "count  1108.000000  1108.000000  1108.000000  1108.000000  \n",
       "mean      0.500418     0.076873     0.351908     0.351648  \n",
       "std       0.302117     0.077594     0.326892     0.328730  \n",
       "min       0.000000     0.000000     0.000000     0.000000  \n",
       "25%       0.224762     0.000000     0.000000     0.000000  \n",
       "50%       0.499772     0.060828     0.301478     0.294285  \n",
       "75%       0.757456     0.140182     0.633291     0.640751  \n",
       "max       1.000000     1.000000     1.000000     1.000000  "
      ]
     },
     "execution_count": 119,
     "metadata": {},
     "output_type": "execute_result"
    }
   ],
   "source": [
    "X_train_cont.describe()"
   ]
  },
  {
   "cell_type": "code",
   "execution_count": 137,
   "metadata": {
    "ExecuteTime": {
     "end_time": "2020-05-27T13:11:04.623740Z",
     "start_time": "2020-05-27T13:11:04.601186Z"
    }
   },
   "outputs": [],
   "source": [
    "X_test_cont = X_test_cont.reset_index(drop=True)\n",
    "X_train_cont = X_train_cont.reset_index(drop=True)\n",
    "X_train = X_train.reset_index(drop=True)\n",
    "X_test = X_test.reset_index(drop=True)"
   ]
  },
  {
   "cell_type": "code",
   "execution_count": 138,
   "metadata": {
    "ExecuteTime": {
     "end_time": "2020-05-27T13:11:07.034079Z",
     "start_time": "2020-05-27T13:11:07.005222Z"
    }
   },
   "outputs": [],
   "source": [
    "X_test_std = pd.concat([X_test_cont, X_test[cat_features]], axis=1)\n",
    "X_train_std = pd.concat([X_train_cont, X_train[cat_features]], axis=1)"
   ]
  },
  {
   "cell_type": "code",
   "execution_count": 92,
   "metadata": {
    "ExecuteTime": {
     "end_time": "2020-05-27T12:56:30.780559Z",
     "start_time": "2020-05-27T12:56:30.528862Z"
    },
    "scrolled": true
   },
   "outputs": [
    {
     "data": {
      "text/html": [
       "<div>\n",
       "<style scoped>\n",
       "    .dataframe tbody tr th:only-of-type {\n",
       "        vertical-align: middle;\n",
       "    }\n",
       "\n",
       "    .dataframe tbody tr th {\n",
       "        vertical-align: top;\n",
       "    }\n",
       "\n",
       "    .dataframe thead th {\n",
       "        text-align: right;\n",
       "    }\n",
       "</style>\n",
       "<table border=\"1\" class=\"dataframe\">\n",
       "  <thead>\n",
       "    <tr style=\"text-align: right;\">\n",
       "      <th></th>\n",
       "      <th>index</th>\n",
       "      <th>Age</th>\n",
       "      <th>BMI</th>\n",
       "      <th>WBC</th>\n",
       "      <th>RBC</th>\n",
       "      <th>HGB</th>\n",
       "      <th>Plat</th>\n",
       "      <th>AST 1</th>\n",
       "      <th>ALT 1</th>\n",
       "      <th>ALT4</th>\n",
       "      <th>...</th>\n",
       "      <th>RNA EF</th>\n",
       "      <th>Gender</th>\n",
       "      <th>Fever</th>\n",
       "      <th>Nausea/Vomting</th>\n",
       "      <th>Headache</th>\n",
       "      <th>Diarrhea</th>\n",
       "      <th>Fatigue &amp; generalized bone ache</th>\n",
       "      <th>Jaundice</th>\n",
       "      <th>Epigastric pain</th>\n",
       "      <th>Baseline histological Grading</th>\n",
       "    </tr>\n",
       "  </thead>\n",
       "  <tbody>\n",
       "    <tr>\n",
       "      <th>count</th>\n",
       "      <td>1108.000000</td>\n",
       "      <td>1108.000000</td>\n",
       "      <td>1108.000000</td>\n",
       "      <td>1108.000000</td>\n",
       "      <td>1108.000000</td>\n",
       "      <td>1108.000000</td>\n",
       "      <td>1108.000000</td>\n",
       "      <td>1108.000000</td>\n",
       "      <td>1108.000000</td>\n",
       "      <td>1108.000000</td>\n",
       "      <td>...</td>\n",
       "      <td>1108.000000</td>\n",
       "      <td>1108.000000</td>\n",
       "      <td>1108.000000</td>\n",
       "      <td>1108.000000</td>\n",
       "      <td>1108.000000</td>\n",
       "      <td>1108.000000</td>\n",
       "      <td>1108.000000</td>\n",
       "      <td>1108.000000</td>\n",
       "      <td>1108.000000</td>\n",
       "      <td>1108.000000</td>\n",
       "    </tr>\n",
       "    <tr>\n",
       "      <th>mean</th>\n",
       "      <td>553.500000</td>\n",
       "      <td>-5.268311</td>\n",
       "      <td>-7.001025</td>\n",
       "      <td>-2.812731</td>\n",
       "      <td>-12.667960</td>\n",
       "      <td>-7.280430</td>\n",
       "      <td>-4.032764</td>\n",
       "      <td>-3.238198</td>\n",
       "      <td>-3.246235</td>\n",
       "      <td>-3.137861</td>\n",
       "      <td>...</td>\n",
       "      <td>-1.070217</td>\n",
       "      <td>1.485560</td>\n",
       "      <td>1.513538</td>\n",
       "      <td>1.509025</td>\n",
       "      <td>1.499097</td>\n",
       "      <td>1.497292</td>\n",
       "      <td>1.499097</td>\n",
       "      <td>1.489170</td>\n",
       "      <td>1.497292</td>\n",
       "      <td>9.802347</td>\n",
       "    </tr>\n",
       "    <tr>\n",
       "      <th>std</th>\n",
       "      <td>319.996354</td>\n",
       "      <td>0.114108</td>\n",
       "      <td>0.244815</td>\n",
       "      <td>0.000372</td>\n",
       "      <td>0.000003</td>\n",
       "      <td>0.580101</td>\n",
       "      <td>0.000025</td>\n",
       "      <td>0.039152</td>\n",
       "      <td>0.038824</td>\n",
       "      <td>0.037765</td>\n",
       "      <td>...</td>\n",
       "      <td>0.000004</td>\n",
       "      <td>0.500017</td>\n",
       "      <td>0.500042</td>\n",
       "      <td>0.500144</td>\n",
       "      <td>0.500225</td>\n",
       "      <td>0.500218</td>\n",
       "      <td>0.500225</td>\n",
       "      <td>0.500108</td>\n",
       "      <td>0.500218</td>\n",
       "      <td>4.043990</td>\n",
       "    </tr>\n",
       "    <tr>\n",
       "      <th>min</th>\n",
       "      <td>0.000000</td>\n",
       "      <td>-5.452912</td>\n",
       "      <td>-7.396841</td>\n",
       "      <td>-2.813363</td>\n",
       "      <td>-12.667964</td>\n",
       "      <td>-8.139775</td>\n",
       "      <td>-4.032806</td>\n",
       "      <td>-3.305194</td>\n",
       "      <td>-3.313478</td>\n",
       "      <td>-3.200738</td>\n",
       "      <td>...</td>\n",
       "      <td>-1.070221</td>\n",
       "      <td>1.000000</td>\n",
       "      <td>1.000000</td>\n",
       "      <td>1.000000</td>\n",
       "      <td>1.000000</td>\n",
       "      <td>1.000000</td>\n",
       "      <td>1.000000</td>\n",
       "      <td>1.000000</td>\n",
       "      <td>1.000000</td>\n",
       "      <td>3.000000</td>\n",
       "    </tr>\n",
       "    <tr>\n",
       "      <th>25%</th>\n",
       "      <td>276.750000</td>\n",
       "      <td>-5.374859</td>\n",
       "      <td>-7.217200</td>\n",
       "      <td>-2.813056</td>\n",
       "      <td>-12.667962</td>\n",
       "      <td>-7.803562</td>\n",
       "      <td>-4.032786</td>\n",
       "      <td>-3.271502</td>\n",
       "      <td>-3.278842</td>\n",
       "      <td>-3.169390</td>\n",
       "      <td>...</td>\n",
       "      <td>-1.070221</td>\n",
       "      <td>1.000000</td>\n",
       "      <td>1.000000</td>\n",
       "      <td>1.000000</td>\n",
       "      <td>1.000000</td>\n",
       "      <td>1.000000</td>\n",
       "      <td>1.000000</td>\n",
       "      <td>1.000000</td>\n",
       "      <td>1.000000</td>\n",
       "      <td>6.000000</td>\n",
       "    </tr>\n",
       "    <tr>\n",
       "      <th>50%</th>\n",
       "      <td>553.500000</td>\n",
       "      <td>-5.270788</td>\n",
       "      <td>-6.977679</td>\n",
       "      <td>-2.812734</td>\n",
       "      <td>-12.667959</td>\n",
       "      <td>-7.131137</td>\n",
       "      <td>-4.032763</td>\n",
       "      <td>-3.237809</td>\n",
       "      <td>-3.247217</td>\n",
       "      <td>-3.139466</td>\n",
       "      <td>...</td>\n",
       "      <td>-1.070218</td>\n",
       "      <td>1.000000</td>\n",
       "      <td>2.000000</td>\n",
       "      <td>2.000000</td>\n",
       "      <td>1.000000</td>\n",
       "      <td>1.000000</td>\n",
       "      <td>1.000000</td>\n",
       "      <td>1.000000</td>\n",
       "      <td>1.000000</td>\n",
       "      <td>10.000000</td>\n",
       "    </tr>\n",
       "    <tr>\n",
       "      <th>75%</th>\n",
       "      <td>830.250000</td>\n",
       "      <td>-5.166718</td>\n",
       "      <td>-6.798038</td>\n",
       "      <td>-2.812391</td>\n",
       "      <td>-12.667957</td>\n",
       "      <td>-6.794924</td>\n",
       "      <td>-4.032742</td>\n",
       "      <td>-3.205648</td>\n",
       "      <td>-3.214087</td>\n",
       "      <td>-3.103843</td>\n",
       "      <td>...</td>\n",
       "      <td>-1.070214</td>\n",
       "      <td>2.000000</td>\n",
       "      <td>2.000000</td>\n",
       "      <td>2.000000</td>\n",
       "      <td>2.000000</td>\n",
       "      <td>2.000000</td>\n",
       "      <td>2.000000</td>\n",
       "      <td>2.000000</td>\n",
       "      <td>2.000000</td>\n",
       "      <td>13.000000</td>\n",
       "    </tr>\n",
       "    <tr>\n",
       "      <th>max</th>\n",
       "      <td>1107.000000</td>\n",
       "      <td>-5.075656</td>\n",
       "      <td>-6.618397</td>\n",
       "      <td>-2.812104</td>\n",
       "      <td>-12.667955</td>\n",
       "      <td>-6.458711</td>\n",
       "      <td>-4.032720</td>\n",
       "      <td>-3.168893</td>\n",
       "      <td>-3.179451</td>\n",
       "      <td>-3.073920</td>\n",
       "      <td>...</td>\n",
       "      <td>-1.070210</td>\n",
       "      <td>2.000000</td>\n",
       "      <td>2.000000</td>\n",
       "      <td>2.000000</td>\n",
       "      <td>2.000000</td>\n",
       "      <td>2.000000</td>\n",
       "      <td>2.000000</td>\n",
       "      <td>2.000000</td>\n",
       "      <td>2.000000</td>\n",
       "      <td>16.000000</td>\n",
       "    </tr>\n",
       "  </tbody>\n",
       "</table>\n",
       "<p>8 rows × 29 columns</p>\n",
       "</div>"
      ],
      "text/plain": [
       "             index          Age          BMI          WBC          RBC  \\\n",
       "count  1108.000000  1108.000000  1108.000000  1108.000000  1108.000000   \n",
       "mean    553.500000    -5.268311    -7.001025    -2.812731   -12.667960   \n",
       "std     319.996354     0.114108     0.244815     0.000372     0.000003   \n",
       "min       0.000000    -5.452912    -7.396841    -2.813363   -12.667964   \n",
       "25%     276.750000    -5.374859    -7.217200    -2.813056   -12.667962   \n",
       "50%     553.500000    -5.270788    -6.977679    -2.812734   -12.667959   \n",
       "75%     830.250000    -5.166718    -6.798038    -2.812391   -12.667957   \n",
       "max    1107.000000    -5.075656    -6.618397    -2.812104   -12.667955   \n",
       "\n",
       "               HGB         Plat        AST 1        ALT 1         ALT4  ...  \\\n",
       "count  1108.000000  1108.000000  1108.000000  1108.000000  1108.000000  ...   \n",
       "mean     -7.280430    -4.032764    -3.238198    -3.246235    -3.137861  ...   \n",
       "std       0.580101     0.000025     0.039152     0.038824     0.037765  ...   \n",
       "min      -8.139775    -4.032806    -3.305194    -3.313478    -3.200738  ...   \n",
       "25%      -7.803562    -4.032786    -3.271502    -3.278842    -3.169390  ...   \n",
       "50%      -7.131137    -4.032763    -3.237809    -3.247217    -3.139466  ...   \n",
       "75%      -6.794924    -4.032742    -3.205648    -3.214087    -3.103843  ...   \n",
       "max      -6.458711    -4.032720    -3.168893    -3.179451    -3.073920  ...   \n",
       "\n",
       "            RNA EF       Gender        Fever  Nausea/Vomting    Headache   \\\n",
       "count  1108.000000  1108.000000  1108.000000     1108.000000  1108.000000   \n",
       "mean     -1.070217     1.485560     1.513538        1.509025     1.499097   \n",
       "std       0.000004     0.500017     0.500042        0.500144     0.500225   \n",
       "min      -1.070221     1.000000     1.000000        1.000000     1.000000   \n",
       "25%      -1.070221     1.000000     1.000000        1.000000     1.000000   \n",
       "50%      -1.070218     1.000000     2.000000        2.000000     1.000000   \n",
       "75%      -1.070214     2.000000     2.000000        2.000000     2.000000   \n",
       "max      -1.070210     2.000000     2.000000        2.000000     2.000000   \n",
       "\n",
       "         Diarrhea   Fatigue & generalized bone ache     Jaundice   \\\n",
       "count  1108.000000                       1108.000000  1108.000000   \n",
       "mean      1.497292                          1.499097     1.489170   \n",
       "std       0.500218                          0.500225     0.500108   \n",
       "min       1.000000                          1.000000     1.000000   \n",
       "25%       1.000000                          1.000000     1.000000   \n",
       "50%       1.000000                          1.000000     1.000000   \n",
       "75%       2.000000                          2.000000     2.000000   \n",
       "max       2.000000                          2.000000     2.000000   \n",
       "\n",
       "       Epigastric pain   Baseline histological Grading  \n",
       "count       1108.000000                    1108.000000  \n",
       "mean           1.497292                       9.802347  \n",
       "std            0.500218                       4.043990  \n",
       "min            1.000000                       3.000000  \n",
       "25%            1.000000                       6.000000  \n",
       "50%            1.000000                      10.000000  \n",
       "75%            2.000000                      13.000000  \n",
       "max            2.000000                      16.000000  \n",
       "\n",
       "[8 rows x 29 columns]"
      ]
     },
     "execution_count": 92,
     "metadata": {},
     "output_type": "execute_result"
    }
   ],
   "source": [
    "X_train_std.describe()"
   ]
  },
  {
   "cell_type": "code",
   "execution_count": 142,
   "metadata": {
    "ExecuteTime": {
     "end_time": "2020-05-26T20:34:55.176455Z",
     "start_time": "2020-05-26T20:34:55.165490Z"
    }
   },
   "outputs": [],
   "source": [
    "from sklearn.svm import LinearSVC"
   ]
  },
  {
   "cell_type": "code",
   "execution_count": 153,
   "metadata": {
    "ExecuteTime": {
     "end_time": "2020-05-26T20:38:14.523914Z",
     "start_time": "2020-05-26T20:38:14.454108Z"
    }
   },
   "outputs": [
    {
     "data": {
      "text/plain": [
       "LinearSVC(C=0.01, class_weight=None, dual=False, fit_intercept=True,\n",
       "          intercept_scaling=1, loss='squared_hinge', max_iter=1000,\n",
       "          multi_class='ovr', penalty='l1', random_state=44, tol=0.0001,\n",
       "          verbose=0)"
      ]
     },
     "execution_count": 153,
     "metadata": {},
     "output_type": "execute_result"
    }
   ],
   "source": [
    "clf = LinearSVC(C=0.01, penalty=\"l1\", dual=False,random_state=random_state)\n",
    "clf.fit(X_train_std,y_train)"
   ]
  },
  {
   "cell_type": "code",
   "execution_count": 154,
   "metadata": {
    "ExecuteTime": {
     "end_time": "2020-05-26T20:38:16.822376Z",
     "start_time": "2020-05-26T20:38:16.797449Z"
    }
   },
   "outputs": [
    {
     "data": {
      "text/plain": [
       "0.2527075812274368"
      ]
     },
     "execution_count": 154,
     "metadata": {},
     "output_type": "execute_result"
    }
   ],
   "source": [
    "y_pred = clf.predict(X_test_std)\n",
    "accuracy_score(y_test, y_pred)"
   ]
  },
  {
   "cell_type": "code",
   "execution_count": 155,
   "metadata": {
    "ExecuteTime": {
     "end_time": "2020-05-26T20:38:20.554698Z",
     "start_time": "2020-05-26T20:38:20.530762Z"
    }
   },
   "outputs": [],
   "source": [
    "model = SelectFromModel(clf, prefit=True)\n",
    "X_train_new = model.transform(X_train)\n",
    "X_test_new = model.transform(X_test)"
   ]
  },
  {
   "cell_type": "code",
   "execution_count": 156,
   "metadata": {
    "ExecuteTime": {
     "end_time": "2020-05-26T20:38:22.113424Z",
     "start_time": "2020-05-26T20:38:22.037624Z"
    }
   },
   "outputs": [
    {
     "data": {
      "text/plain": [
       "LinearSVC(C=0.01, class_weight=None, dual=False, fit_intercept=True,\n",
       "          intercept_scaling=1, loss='squared_hinge', max_iter=1000,\n",
       "          multi_class='ovr', penalty='l1', random_state=44, tol=0.0001,\n",
       "          verbose=0)"
      ]
     },
     "execution_count": 156,
     "metadata": {},
     "output_type": "execute_result"
    }
   ],
   "source": [
    "clf.fit(X_train_new,y_train)"
   ]
  },
  {
   "cell_type": "code",
   "execution_count": 157,
   "metadata": {
    "ExecuteTime": {
     "end_time": "2020-05-26T20:38:24.988214Z",
     "start_time": "2020-05-26T20:38:24.966274Z"
    }
   },
   "outputs": [
    {
     "data": {
      "text/plain": [
       "0.26353790613718414"
      ]
     },
     "execution_count": 157,
     "metadata": {},
     "output_type": "execute_result"
    }
   ],
   "source": [
    "y_pred = clf.predict(X_test_new)\n",
    "accuracy_score(y_test, y_pred)"
   ]
  },
  {
   "cell_type": "markdown",
   "metadata": {},
   "source": [
    "## Trial 2A"
   ]
  },
  {
   "cell_type": "code",
   "execution_count": 47,
   "metadata": {
    "ExecuteTime": {
     "end_time": "2020-05-27T12:40:07.547417Z",
     "start_time": "2020-05-27T12:40:07.524666Z"
    }
   },
   "outputs": [],
   "source": [
    "clinical = ['Fever', 'Nausea/Vomting', 'Headache ',\n",
    "       'Diarrhea ', 'Fatigue & generalized bone ache ', 'Jaundice ',\n",
    "       'Epigastric pain ']\n",
    "prop = ['Gender','Age', 'BMI']\n",
    "blood = ['WBC', 'RBC', 'HGB', 'Plat', 'AST 1', 'ALT 1',\n",
    "       'ALT4', 'ALT 12', 'ALT 24', 'ALT 36', 'ALT 48', 'ALT after 24 w', 'Baseline histological Grading']\n",
    "dna = ['RNA Base', 'RNA 4', 'RNA 12', 'RNA EOT', 'RNA EF']"
   ]
  },
  {
   "cell_type": "code",
   "execution_count": 142,
   "metadata": {
    "ExecuteTime": {
     "end_time": "2020-05-27T13:11:35.549421Z",
     "start_time": "2020-05-27T13:11:35.494274Z"
    }
   },
   "outputs": [],
   "source": [
    "X_train_clinical = X_train_std[clinical]\n",
    "X_train_prop = X_train_std[prop]\n",
    "X_train_blood = X_train_std[blood]\n",
    "X_train_dna = X_train_std[dna]\n",
    "X_test_clinical = X_test_std[clinical]\n",
    "X_test_prop = X_test_std[prop]\n",
    "X_test_blood = X_test_std[blood]\n",
    "X_test_dna = X_test_std[dna]"
   ]
  },
  {
   "cell_type": "code",
   "execution_count": 205,
   "metadata": {
    "ExecuteTime": {
     "end_time": "2020-05-27T13:23:16.238656Z",
     "start_time": "2020-05-27T13:23:16.220540Z"
    }
   },
   "outputs": [],
   "source": [
    "clf1 = ExtraTreesClassifier(max_depth=2, random_state=random_state,n_estimators=5)\n",
    "clf2 = SVC(C=1.0, kernel='rbf', random_state=random_state)\n",
    "clf3 = SVC(C=1.0, kernel='rbf', random_state=random_state)\n",
    "clf4 = SVC(C=1.0, kernel='rbf', random_state=random_state)"
   ]
  },
  {
   "cell_type": "code",
   "execution_count": 206,
   "metadata": {
    "ExecuteTime": {
     "end_time": "2020-05-27T13:23:18.209280Z",
     "start_time": "2020-05-27T13:23:18.025448Z"
    }
   },
   "outputs": [],
   "source": [
    "clf_clinical = clf1.fit(X_train_clinical,y_train)\n",
    "clf_prop = clf2.fit(X_train_prop,y_train)\n",
    "clf_blood = clf3.fit(X_train_blood,y_train)\n",
    "clf_dna = clf4.fit(X_train_dna,y_train)"
   ]
  },
  {
   "cell_type": "code",
   "execution_count": 189,
   "metadata": {
    "ExecuteTime": {
     "end_time": "2020-05-27T13:17:55.260940Z",
     "start_time": "2020-05-27T13:17:55.241456Z"
    }
   },
   "outputs": [
    {
     "data": {
      "text/plain": [
       "(277, 7)"
      ]
     },
     "execution_count": 189,
     "metadata": {},
     "output_type": "execute_result"
    }
   ],
   "source": [
    "X_test_clinical.shape"
   ]
  },
  {
   "cell_type": "code",
   "execution_count": 207,
   "metadata": {
    "ExecuteTime": {
     "end_time": "2020-05-27T13:23:20.556464Z",
     "start_time": "2020-05-27T13:23:20.460602Z"
    }
   },
   "outputs": [],
   "source": [
    "y_pred_clinical = clf_clinical.predict(X_test_clinical)\n",
    "acc_clinical = accuracy_score(y_test, y_pred_clinical)\n",
    "y_pred_prop = clf_prop.predict(X_test_prop)\n",
    "acc_prop = accuracy_score(y_test, y_pred_prop)\n",
    "y_pred_blood = clf_blood.predict(X_test_blood)\n",
    "acc_blood = accuracy_score(y_test, y_pred_blood)\n",
    "y_pred_dna = clf_dna.predict(X_test_dna)\n",
    "acc_dna = accuracy_score(y_test, y_pred_dna)"
   ]
  },
  {
   "cell_type": "code",
   "execution_count": 208,
   "metadata": {
    "ExecuteTime": {
     "end_time": "2020-05-27T13:23:22.550724Z",
     "start_time": "2020-05-27T13:23:22.526641Z"
    }
   },
   "outputs": [],
   "source": [
    "y_pred_vote = np.empty(y_test.shape)\n",
    "for i in range(len(y_test)):\n",
    "    array = [y_pred_clinical[i], y_pred_prop[i], y_pred_blood[i], y_pred_dna[i]]\n",
    "    counts = np.unique(array, return_counts=True)\n",
    "    y_pred_vote[i] = counts[0][np.argmax(counts[1])]"
   ]
  },
  {
   "cell_type": "code",
   "execution_count": 209,
   "metadata": {
    "ExecuteTime": {
     "end_time": "2020-05-27T13:23:23.472513Z",
     "start_time": "2020-05-27T13:23:23.452536Z"
    }
   },
   "outputs": [
    {
     "data": {
      "text/plain": [
       "0.2851985559566787"
      ]
     },
     "execution_count": 209,
     "metadata": {},
     "output_type": "execute_result"
    }
   ],
   "source": [
    "accuracy_score(y_test, y_pred_vote)"
   ]
  },
  {
   "cell_type": "code",
   "execution_count": 210,
   "metadata": {
    "ExecuteTime": {
     "end_time": "2020-05-27T13:23:26.496748Z",
     "start_time": "2020-05-27T13:23:26.482248Z"
    },
    "scrolled": true
   },
   "outputs": [
    {
     "name": "stdout",
     "output_type": "stream",
     "text": [
      "0.26985559566787004\n"
     ]
    }
   ],
   "source": [
    "avg_acc = (acc_dna+acc_blood+acc_prop+acc_clinical)/4\n",
    "print(avg_acc)"
   ]
  }
 ],
 "metadata": {
  "kernelspec": {
   "display_name": "Python 3.7.0 64-bit",
   "language": "python",
   "name": "python37064bit04d4a3fe81cb4e7ea7a8694e6783e152"
  },
  "language_info": {
   "codemirror_mode": {
    "name": "ipython",
    "version": 3
   },
   "file_extension": ".py",
   "mimetype": "text/x-python",
   "name": "python",
   "nbconvert_exporter": "python",
   "pygments_lexer": "ipython3",
   "version": "3.7.0"
  },
  "toc": {
   "base_numbering": 1,
   "nav_menu": {
    "height": "170px",
    "width": "204px"
   },
   "number_sections": true,
   "sideBar": true,
   "skip_h1_title": false,
   "title_cell": "Table of Contents",
   "title_sidebar": "Contents",
   "toc_cell": false,
   "toc_position": {},
   "toc_section_display": true,
   "toc_window_display": false
  }
 },
 "nbformat": 4,
 "nbformat_minor": 4
}
