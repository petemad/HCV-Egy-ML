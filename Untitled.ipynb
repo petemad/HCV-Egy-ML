{
 "cells": [
  {
   "cell_type": "code",
   "execution_count": 19,
   "metadata": {},
   "outputs": [],
   "source": [
    "import numpy as np\n",
    "import os\n",
    "import pandas as pd\n",
    "from sklearn.model_selection import StratifiedShuffleSplit\n",
    "from sklearn.model_selection import train_test_split\n",
    "from sklearn.ensemble import RandomForestClassifier\n",
    "from sklearn.metrics import accuracy_score\n",
    "from copy import deepcopy\n",
    "from sklearn import tree\n",
    "from sklearn import svm\n",
    "from sklearn.neighbors import KNeighborsClassifier\n",
    "from sklearn.feature_selection import SelectKBest\n",
    "from sklearn.feature_selection import chi2\n",
    "from sklearn.feature_selection import SelectFromModel\n",
    "from sklearn import preprocessing"
   ]
  },
  {
   "cell_type": "code",
   "execution_count": 66,
   "metadata": {},
   "outputs": [
    {
     "data": {
      "text/html": [
       "<div>\n",
       "<style scoped>\n",
       "    .dataframe tbody tr th:only-of-type {\n",
       "        vertical-align: middle;\n",
       "    }\n",
       "\n",
       "    .dataframe tbody tr th {\n",
       "        vertical-align: top;\n",
       "    }\n",
       "\n",
       "    .dataframe thead th {\n",
       "        text-align: right;\n",
       "    }\n",
       "</style>\n",
       "<table border=\"1\" class=\"dataframe\">\n",
       "  <thead>\n",
       "    <tr style=\"text-align: right;\">\n",
       "      <th></th>\n",
       "      <th>Unnamed: 0</th>\n",
       "      <th>Age</th>\n",
       "      <th>Gender</th>\n",
       "      <th>BMI</th>\n",
       "      <th>Fever</th>\n",
       "      <th>Nausea_vomiting</th>\n",
       "      <th>Headache</th>\n",
       "      <th>Diarrhea</th>\n",
       "      <th>Fatigue_n_generalized_bone_ache</th>\n",
       "      <th>Jaundice</th>\n",
       "      <th>...</th>\n",
       "      <th>ALT_24</th>\n",
       "      <th>ALT_36</th>\n",
       "      <th>ALT_48</th>\n",
       "      <th>ALT_after_24_w</th>\n",
       "      <th>RNA_Base</th>\n",
       "      <th>RNA_4</th>\n",
       "      <th>RNA_12</th>\n",
       "      <th>RNA_EOT</th>\n",
       "      <th>RNA_EF</th>\n",
       "      <th>Baseline_histological_Grading</th>\n",
       "    </tr>\n",
       "  </thead>\n",
       "  <tbody>\n",
       "    <tr>\n",
       "      <th>0</th>\n",
       "      <td>0</td>\n",
       "      <td>1.290313</td>\n",
       "      <td>-0.860132</td>\n",
       "      <td>1.724779</td>\n",
       "      <td>1.112092</td>\n",
       "      <td>-0.887889</td>\n",
       "      <td>-0.875307</td>\n",
       "      <td>-0.886304</td>\n",
       "      <td>1.147411</td>\n",
       "      <td>1.147886</td>\n",
       "      <td>...</td>\n",
       "      <td>0.040298</td>\n",
       "      <td>-2.893121</td>\n",
       "      <td>-2.866831</td>\n",
       "      <td>-3.774929</td>\n",
       "      <td>0.281397</td>\n",
       "      <td>0.187373</td>\n",
       "      <td>0.050059</td>\n",
       "      <td>-1.083853</td>\n",
       "      <td>-1.089027</td>\n",
       "      <td>0.928812</td>\n",
       "    </tr>\n",
       "    <tr>\n",
       "      <th>1</th>\n",
       "      <td>1</td>\n",
       "      <td>0.005815</td>\n",
       "      <td>-0.934355</td>\n",
       "      <td>0.134773</td>\n",
       "      <td>-0.981688</td>\n",
       "      <td>1.002487</td>\n",
       "      <td>1.014742</td>\n",
       "      <td>-0.960650</td>\n",
       "      <td>0.999309</td>\n",
       "      <td>0.999338</td>\n",
       "      <td>...</td>\n",
       "      <td>1.123801</td>\n",
       "      <td>-0.950465</td>\n",
       "      <td>1.471359</td>\n",
       "      <td>1.463866</td>\n",
       "      <td>-1.559624</td>\n",
       "      <td>-0.149473</td>\n",
       "      <td>1.270350</td>\n",
       "      <td>0.202332</td>\n",
       "      <td>-0.971194</td>\n",
       "      <td>-1.391015</td>\n",
       "    </tr>\n",
       "    <tr>\n",
       "      <th>2</th>\n",
       "      <td>2</td>\n",
       "      <td>0.826816</td>\n",
       "      <td>-1.045805</td>\n",
       "      <td>0.594437</td>\n",
       "      <td>0.742449</td>\n",
       "      <td>0.778448</td>\n",
       "      <td>0.790741</td>\n",
       "      <td>0.774279</td>\n",
       "      <td>-1.062317</td>\n",
       "      <td>-1.068499</td>\n",
       "      <td>...</td>\n",
       "      <td>0.988462</td>\n",
       "      <td>-2.910927</td>\n",
       "      <td>-2.884318</td>\n",
       "      <td>-3.839029</td>\n",
       "      <td>-0.126255</td>\n",
       "      <td>0.089167</td>\n",
       "      <td>-1.030156</td>\n",
       "      <td>1.566374</td>\n",
       "      <td>0.908872</td>\n",
       "      <td>-1.446737</td>\n",
       "    </tr>\n",
       "    <tr>\n",
       "      <th>3</th>\n",
       "      <td>3</td>\n",
       "      <td>-0.221966</td>\n",
       "      <td>0.609648</td>\n",
       "      <td>0.250063</td>\n",
       "      <td>-1.186232</td>\n",
       "      <td>0.589413</td>\n",
       "      <td>-1.156399</td>\n",
       "      <td>0.585898</td>\n",
       "      <td>-1.156134</td>\n",
       "      <td>0.588087</td>\n",
       "      <td>...</td>\n",
       "      <td>-0.159169</td>\n",
       "      <td>-1.477100</td>\n",
       "      <td>-0.520552</td>\n",
       "      <td>-0.489179</td>\n",
       "      <td>1.007376</td>\n",
       "      <td>-0.531225</td>\n",
       "      <td>0.862543</td>\n",
       "      <td>1.460298</td>\n",
       "      <td>0.886597</td>\n",
       "      <td>-0.181710</td>\n",
       "    </tr>\n",
       "    <tr>\n",
       "      <th>4</th>\n",
       "      <td>4</td>\n",
       "      <td>-0.178317</td>\n",
       "      <td>-1.422710</td>\n",
       "      <td>-0.948609</td>\n",
       "      <td>-1.467805</td>\n",
       "      <td>-1.453346</td>\n",
       "      <td>0.033203</td>\n",
       "      <td>-1.449809</td>\n",
       "      <td>0.024867</td>\n",
       "      <td>0.021960</td>\n",
       "      <td>...</td>\n",
       "      <td>0.263128</td>\n",
       "      <td>-0.443572</td>\n",
       "      <td>-0.571690</td>\n",
       "      <td>-1.437508</td>\n",
       "      <td>-0.250457</td>\n",
       "      <td>-0.105739</td>\n",
       "      <td>9.078914</td>\n",
       "      <td>-0.112826</td>\n",
       "      <td>-0.398290</td>\n",
       "      <td>-0.351960</td>\n",
       "    </tr>\n",
       "  </tbody>\n",
       "</table>\n",
       "<p>5 rows × 29 columns</p>\n",
       "</div>"
      ],
      "text/plain": [
       "   Unnamed: 0       Age    Gender       BMI     Fever  Nausea_vomiting  \\\n",
       "0           0  1.290313 -0.860132  1.724779  1.112092        -0.887889   \n",
       "1           1  0.005815 -0.934355  0.134773 -0.981688         1.002487   \n",
       "2           2  0.826816 -1.045805  0.594437  0.742449         0.778448   \n",
       "3           3 -0.221966  0.609648  0.250063 -1.186232         0.589413   \n",
       "4           4 -0.178317 -1.422710 -0.948609 -1.467805        -1.453346   \n",
       "\n",
       "   Headache  Diarrhea  Fatigue_n_generalized_bone_ache  Jaundice  ...  \\\n",
       "0 -0.875307 -0.886304                         1.147411  1.147886  ...   \n",
       "1  1.014742 -0.960650                         0.999309  0.999338  ...   \n",
       "2  0.790741  0.774279                        -1.062317 -1.068499  ...   \n",
       "3 -1.156399  0.585898                        -1.156134  0.588087  ...   \n",
       "4  0.033203 -1.449809                         0.024867  0.021960  ...   \n",
       "\n",
       "     ALT_24    ALT_36    ALT_48  ALT_after_24_w  RNA_Base     RNA_4    RNA_12  \\\n",
       "0  0.040298 -2.893121 -2.866831       -3.774929  0.281397  0.187373  0.050059   \n",
       "1  1.123801 -0.950465  1.471359        1.463866 -1.559624 -0.149473  1.270350   \n",
       "2  0.988462 -2.910927 -2.884318       -3.839029 -0.126255  0.089167 -1.030156   \n",
       "3 -0.159169 -1.477100 -0.520552       -0.489179  1.007376 -0.531225  0.862543   \n",
       "4  0.263128 -0.443572 -0.571690       -1.437508 -0.250457 -0.105739  9.078914   \n",
       "\n",
       "    RNA_EOT    RNA_EF  Baseline_histological_Grading  \n",
       "0 -1.083853 -1.089027                       0.928812  \n",
       "1  0.202332 -0.971194                      -1.391015  \n",
       "2  1.566374  0.908872                      -1.446737  \n",
       "3  1.460298  0.886597                      -0.181710  \n",
       "4 -0.112826 -0.398290                      -0.351960  \n",
       "\n",
       "[5 rows x 29 columns]"
      ]
     },
     "execution_count": 66,
     "metadata": {},
     "output_type": "execute_result"
    }
   ],
   "source": [
    "data = pd.read_csv(\"new_data.csv\")\n",
    "#data = pd.read_csv(\"hcv-data-dis.csv\")\n",
    "data1 = pd.read_csv(\"HCV-Egy-Data.csv\")\n",
    "data.head()"
   ]
  },
  {
   "cell_type": "code",
   "execution_count": 4,
   "metadata": {},
   "outputs": [],
   "source": [
    "data.rename(columns={'Age ': 'Age', 'Nausea/Vomting': 'Nausea_vomiting', 'Headache ':'Headache','Diarrhea ':'Diarrhea',\n",
    "'Fatigue & generalized bone ache ': 'Fatigue_n_generalized_bone_ache', 'Jaundice ':'Jaundice', 'Epigastric pain ':'Epigastric_pain' }, inplace= True)"
   ]
  },
  {
   "cell_type": "code",
   "execution_count": 5,
   "metadata": {},
   "outputs": [],
   "source": [
    "data.rename(columns={'AST 1': 'AST_1', 'ALT 1': 'ALT_1', 'ALT 12':'ALT_12','ALT 24':'ALT_24',\n",
    "'ALT 36': 'ALT_36', 'ALT 48':'ALT_48', 'ALT after 24 w':'ALT_after_24_w', 'RNA Base':'RNA_Base', 'RNA 4':'RNA_4', 'RNA 12':'RNA_12', 'RNA EOT':'RNA_EOT',\n",
    "                     'RNA EF':'RNA_EF', 'Baseline histological Grading':'Baseline_histological_Grading', 'Baselinehistological staging':'Baselinehistological_staging' }, inplace= True)"
   ]
  },
  {
   "cell_type": "code",
   "execution_count": 35,
   "metadata": {
    "scrolled": false
   },
   "outputs": [
    {
     "data": {
      "text/plain": [
       "array([[<matplotlib.axes._subplots.AxesSubplot object at 0x000001F35E3BED30>,\n",
       "        <matplotlib.axes._subplots.AxesSubplot object at 0x000001F35F470160>,\n",
       "        <matplotlib.axes._subplots.AxesSubplot object at 0x000001F35EFA0A58>,\n",
       "        <matplotlib.axes._subplots.AxesSubplot object at 0x000001F35EFC2DD8>,\n",
       "        <matplotlib.axes._subplots.AxesSubplot object at 0x000001F35EFF0160>],\n",
       "       [<matplotlib.axes._subplots.AxesSubplot object at 0x000001F35F01A2E8>,\n",
       "        <matplotlib.axes._subplots.AxesSubplot object at 0x000001F35F04A588>,\n",
       "        <matplotlib.axes._subplots.AxesSubplot object at 0x000001F35F0788D0>,\n",
       "        <matplotlib.axes._subplots.AxesSubplot object at 0x000001F35F078940>,\n",
       "        <matplotlib.axes._subplots.AxesSubplot object at 0x000001F35F0DBFD0>],\n",
       "       [<matplotlib.axes._subplots.AxesSubplot object at 0x000001F35F1163C8>,\n",
       "        <matplotlib.axes._subplots.AxesSubplot object at 0x000001F35F148748>,\n",
       "        <matplotlib.axes._subplots.AxesSubplot object at 0x000001F35F17BAC8>,\n",
       "        <matplotlib.axes._subplots.AxesSubplot object at 0x000001F35F1ACE48>,\n",
       "        <matplotlib.axes._subplots.AxesSubplot object at 0x000001F35F1EE208>],\n",
       "       [<matplotlib.axes._subplots.AxesSubplot object at 0x000001F35F21E588>,\n",
       "        <matplotlib.axes._subplots.AxesSubplot object at 0x000001F35F24F908>,\n",
       "        <matplotlib.axes._subplots.AxesSubplot object at 0x000001F35F7D2C88>,\n",
       "        <matplotlib.axes._subplots.AxesSubplot object at 0x000001F35F806FD0>,\n",
       "        <matplotlib.axes._subplots.AxesSubplot object at 0x000001F35F8443C8>],\n",
       "       [<matplotlib.axes._subplots.AxesSubplot object at 0x000001F35F876748>,\n",
       "        <matplotlib.axes._subplots.AxesSubplot object at 0x000001F35F8A6AC8>,\n",
       "        <matplotlib.axes._subplots.AxesSubplot object at 0x000001F35F8DCE48>,\n",
       "        <matplotlib.axes._subplots.AxesSubplot object at 0x000001F35F91D208>,\n",
       "        <matplotlib.axes._subplots.AxesSubplot object at 0x000001F35F94F588>],\n",
       "       [<matplotlib.axes._subplots.AxesSubplot object at 0x000001F35F982908>,\n",
       "        <matplotlib.axes._subplots.AxesSubplot object at 0x000001F35F9B5C88>,\n",
       "        <matplotlib.axes._subplots.AxesSubplot object at 0x000001F35F9E7FD0>,\n",
       "        <matplotlib.axes._subplots.AxesSubplot object at 0x000001F35FA243C8>,\n",
       "        <matplotlib.axes._subplots.AxesSubplot object at 0x000001F35FA58748>]],\n",
       "      dtype=object)"
      ]
     },
     "execution_count": 35,
     "metadata": {},
     "output_type": "execute_result"
    },
    {
     "data": {
      "image/png": "[encoded data removed]",
      "text/plain": [
       "<Figure size 1080x1080 with 30 Axes>"
      ]
     },
     "metadata": {
      "needs_background": "light"
     },
     "output_type": "display_data"
    }
   ],
   "source": [
    "data1.hist(bins=30,figsize=(15,15))"
   ]
  },
  {
   "cell_type": "code",
   "execution_count": 7,
   "metadata": {},
   "outputs": [
    {
     "data": {
      "text/plain": [
       "<matplotlib.axes._subplots.AxesSubplot at 0x1f35c9127f0>"
      ]
     },
     "execution_count": 7,
     "metadata": {},
     "output_type": "execute_result"
    },
    {
     "data": {
      "image/png": "[encoded data removed]",
      "text/plain": [
       "<Figure size 1080x1080 with 1 Axes>"
      ]
     },
     "metadata": {
      "needs_background": "light"
     },
     "output_type": "display_data"
    }
   ],
   "source": [
    "data['BMI'].hist(bins=30,figsize=(15,15))"
   ]
  },
  {
   "cell_type": "code",
   "execution_count": 8,
   "metadata": {},
   "outputs": [],
   "source": [
    "def discretization(x, feature, ranges):\n",
    "    data = deepcopy(x)\n",
    "    for i in range(len(ranges)):\n",
    "        for j in range(len(data)):\n",
    "            if ranges[i][0] <= data[feature][j] < ranges[i][1]:\n",
    "                data[feature][j] = ranges[i][2]\n",
    "    return data"
   ]
  },
  {
   "cell_type": "code",
   "execution_count": 9,
   "metadata": {},
   "outputs": [],
   "source": [
    "def discretization_HGB(x, male_ranges, female_ranges):\n",
    "    data = deepcopy(x)\n",
    "    for i in range(len(male_ranges)):\n",
    "        for j in range(len(data)):\n",
    "            if data['Gender'][j] == 1:\n",
    "                if male_ranges[i][0] <= data['HGB'][j] < male_ranges[i][1]:\n",
    "                    data['HGB'][j] = male_ranges[i][2]\n",
    "            elif data['Gender'][j] == 2:\n",
    "                if female_ranges[i][0] <= data['HGB'][j] < female_ranges[i][1]:\n",
    "                    data['HGB'][j] = female_ranges[i][2]\n",
    "    return data"
   ]
  },
  {
   "cell_type": "code",
   "execution_count": 141,
   "metadata": {},
   "outputs": [
    {
     "name": "stderr",
     "output_type": "stream",
     "text": [
      "C:\\Users\\10\\AppData\\Roaming\\Python\\Python37\\site-packages\\ipykernel_launcher.py:6: SettingWithCopyWarning: \n",
      "A value is trying to be set on a copy of a slice from a DataFrame\n",
      "\n",
      "See the caveats in the documentation: https://pandas.pydata.org/pandas-docs/stable/user_guide/indexing.html#returning-a-view-versus-a-copy\n",
      "  \n",
      "C:\\Users\\10\\AppData\\Roaming\\Python\\Python37\\site-packages\\ipykernel_launcher.py:7: SettingWithCopyWarning: \n",
      "A value is trying to be set on a copy of a slice from a DataFrame\n",
      "\n",
      "See the caveats in the documentation: https://pandas.pydata.org/pandas-docs/stable/user_guide/indexing.html#returning-a-view-versus-a-copy\n",
      "  import sys\n",
      "C:\\Users\\10\\AppData\\Roaming\\Python\\Python37\\site-packages\\ipykernel_launcher.py:10: SettingWithCopyWarning: \n",
      "A value is trying to be set on a copy of a slice from a DataFrame\n",
      "\n",
      "See the caveats in the documentation: https://pandas.pydata.org/pandas-docs/stable/user_guide/indexing.html#returning-a-view-versus-a-copy\n",
      "  # Remove the CWD from sys.path while we load stuff.\n"
     ]
    }
   ],
   "source": [
    "age_ranges = [[0, 32, 0], [32, 37, 1], [37, 42, 2], [42, 47, 3], [47, 52, 4], [52, 57, 5], [57, 63, 6]]\n",
    "data = discretization(data, 'Age', age_ranges)\n",
    "\n",
    "ast1_ranges = [[0, 50, 0], [50, 75, 1], [75, 100, 2], [100, 130, 3]]\n",
    "data = discretization(data, 'AST_1', ast1_ranges)\n",
    "\n",
    "bmi_ranges = [[0, 18.5, 0], [18.5, 25, 1], [25, 30, 2], [30, 35, 3], [35, 41, 4]]\n",
    "data = discretization(data, 'BMI', bmi_ranges)\n",
    "\n",
    "wbc_ranges = [[0, 4000, 0], [4000, 6000, 1], [6000, 8000, 2], [8000, 10000, 3], [10000, 12000, 4]]\n",
    "data = discretization(data, 'WBC', wbc_ranges)\n",
    "\n",
    "rbc_ranges = [[0, 4000000, 0], [4000000, 4250000, 1], [4250000, 4410000, 2], [4410000, 4590000, 3], [4590000, 4800000, 4], [4800000, 5000000, 5]]\n",
    "data = discretization(data, 'RBC', rbc_ranges)\n",
    "\n",
    "plat_ranges = [[0, 120000, 0], [120000, 140000, 1], [140000, 180000, 2], [180000, 200000, 3], [200000, 240000, 3]]\n",
    "data = discretization(data, 'Plat', plat_ranges)\n",
    "\n",
    "alt1_ranges = [[0, 40, 0], [40, 75, 1], [75, 100, 2], [100, 130, 3]]\n",
    "data = discretization(data, 'ALT_1', alt1_ranges)\n",
    "\n",
    "alt4_ranges = [[0, 50, 0], [50, 75, 1], [75, 100, 2], [100, 130, 3]]\n",
    "data = discretization(data, 'ALT4', alt4_ranges)\n",
    "\n",
    "alt12_ranges = [[0, 55, 0], [55, 75, 1], [75, 100, 2], [100, 130, 3]]\n",
    "data = discretization(data, 'ALT_12', alt12_ranges)\n",
    "\n",
    "alt24_ranges = [[0, 50, 0], [50, 75, 1], [75, 100, 2], [100, 130, 3]]\n",
    "data = discretization(data, 'ALT_24', alt24_ranges)\n",
    "\n",
    "alt36_ranges = [[0, 50, 0], [50, 75, 1], [75, 100, 2], [100, 130, 3]]\n",
    "data = discretization(data, 'ALT_36', alt36_ranges)\n",
    "\n",
    "alt48_ranges = [[0, 50, 0], [50, 75, 1], [75, 100, 2], [100, 130, 3]]\n",
    "data = discretization(data, 'ALT_48', alt48_ranges)\n",
    "\n",
    "alt_after_24_ranges = [[0, 25, 0], [25, 40, 1], [40, 50, 2]]\n",
    "data = discretization(data, 'ALT_after_24_w', alt_after_24_ranges)\n",
    "\n",
    "rnabase_ranges = [[0, 300000, 0], [300000, 800000, 1], [800000, 1300000, 2]]\n",
    "data = discretization(data, 'RNA_Base', rnabase_ranges)\n",
    "\n",
    "rna4_ranges = [[0, 300000, 0], [300000, 500000, 1], [500000, 700000, 2], [700000, 900000, 3], [900000, 1300000, 4]]\n",
    "data = discretization(data, 'RNA_4', rna4_ranges)\n",
    "\n",
    "rna12_ranges = [[0, 100000, 0], [100000, 1400000, 1]]\n",
    "data = discretization(data, 'RNA_12', rna12_ranges)\n",
    "\n",
    "rnaeot_ranges = [[0, 1000, 0], [1000, 808451, 1]]\n",
    "data = discretization(data, 'RNA_EOT', rnaeot_ranges)\n",
    "\n",
    "data = discretization(data, 'RNA_EF', rnaeot_ranges)\n",
    "HGB_male_ranges = [[2, 14, 10], [14, 17.5, 15], [17.5, 21, 19]]\n",
    "HGB_female_ranges = [[2, 12.3, 10], [12.3, 15.3, 15], [15.3, 21, 19]]\n",
    "data = discretization_HGB(data, HGB_male_ranges, HGB_female_ranges)"
   ]
  },
  {
   "cell_type": "code",
   "execution_count": 79,
   "metadata": {},
   "outputs": [
    {
     "data": {
      "text/plain": [
       "array([[<matplotlib.axes._subplots.AxesSubplot object at 0x000001F360B6FDA0>,\n",
       "        <matplotlib.axes._subplots.AxesSubplot object at 0x000001F36458D550>,\n",
       "        <matplotlib.axes._subplots.AxesSubplot object at 0x000001F364588AC8>,\n",
       "        <matplotlib.axes._subplots.AxesSubplot object at 0x000001F364535F28>,\n",
       "        <matplotlib.axes._subplots.AxesSubplot object at 0x000001F363EF01D0>],\n",
       "       [<matplotlib.axes._subplots.AxesSubplot object at 0x000001F3643CC278>,\n",
       "        <matplotlib.axes._subplots.AxesSubplot object at 0x000001F363F37780>,\n",
       "        <matplotlib.axes._subplots.AxesSubplot object at 0x000001F363F66AC8>,\n",
       "        <matplotlib.axes._subplots.AxesSubplot object at 0x000001F363F66B38>,\n",
       "        <matplotlib.axes._subplots.AxesSubplot object at 0x000001F363FDB240>],\n",
       "       [<matplotlib.axes._subplots.AxesSubplot object at 0x000001F36400D5C0>,\n",
       "        <matplotlib.axes._subplots.AxesSubplot object at 0x000001F36403E940>,\n",
       "        <matplotlib.axes._subplots.AxesSubplot object at 0x000001F364072CC0>,\n",
       "        <matplotlib.axes._subplots.AxesSubplot object at 0x000001F3640B1048>,\n",
       "        <matplotlib.axes._subplots.AxesSubplot object at 0x000001F3640E4400>],\n",
       "       [<matplotlib.axes._subplots.AxesSubplot object at 0x000001F364116780>,\n",
       "        <matplotlib.axes._subplots.AxesSubplot object at 0x000001F364147B00>,\n",
       "        <matplotlib.axes._subplots.AxesSubplot object at 0x000001F36417AE80>,\n",
       "        <matplotlib.axes._subplots.AxesSubplot object at 0x000001F3641B8240>,\n",
       "        <matplotlib.axes._subplots.AxesSubplot object at 0x000001F3641EB5C0>],\n",
       "       [<matplotlib.axes._subplots.AxesSubplot object at 0x000001F36421D940>,\n",
       "        <matplotlib.axes._subplots.AxesSubplot object at 0x000001F36424FCC0>,\n",
       "        <matplotlib.axes._subplots.AxesSubplot object at 0x000001F364292080>,\n",
       "        <matplotlib.axes._subplots.AxesSubplot object at 0x000001F3642C1400>,\n",
       "        <matplotlib.axes._subplots.AxesSubplot object at 0x000001F3642F4780>],\n",
       "       [<matplotlib.axes._subplots.AxesSubplot object at 0x000001F364325B00>,\n",
       "        <matplotlib.axes._subplots.AxesSubplot object at 0x000001F364359E80>,\n",
       "        <matplotlib.axes._subplots.AxesSubplot object at 0x000001F3648DA240>,\n",
       "        <matplotlib.axes._subplots.AxesSubplot object at 0x000001F3649095C0>,\n",
       "        <matplotlib.axes._subplots.AxesSubplot object at 0x000001F36493F940>]],\n",
       "      dtype=object)"
      ]
     },
     "execution_count": 79,
     "metadata": {},
     "output_type": "execute_result"
    },
    {
     "data": {
      "image/png": "[encoded data removed]",
      "text/plain": [
       "<Figure size 1080x1080 with 30 Axes>"
      ]
     },
     "metadata": {
      "needs_background": "light"
     },
     "output_type": "display_data"
    }
   ],
   "source": [
    "data.hist(bins=30,figsize=(15,15))"
   ]
  },
  {
   "cell_type": "code",
   "execution_count": 80,
   "metadata": {},
   "outputs": [
    {
     "name": "stdout",
     "output_type": "stream",
     "text": [
      "<class 'pandas.core.frame.DataFrame'>\n",
      "RangeIndex: 1385 entries, 0 to 1384\n",
      "Data columns (total 29 columns):\n",
      " #   Column                           Non-Null Count  Dtype  \n",
      "---  ------                           --------------  -----  \n",
      " 0   Unnamed: 0                       1385 non-null   int64  \n",
      " 1   Age                              1385 non-null   float64\n",
      " 2   Gender                           1385 non-null   float64\n",
      " 3   BMI                              1385 non-null   float64\n",
      " 4   Fever                            1385 non-null   float64\n",
      " 5   Nausea_vomiting                  1385 non-null   float64\n",
      " 6   Headache                         1385 non-null   float64\n",
      " 7   Diarrhea                         1385 non-null   float64\n",
      " 8   Fatigue_n_generalized_bone_ache  1385 non-null   float64\n",
      " 9   Jaundice                         1385 non-null   float64\n",
      " 10  Epigastric_pain                  1385 non-null   float64\n",
      " 11  WBC                              1385 non-null   float64\n",
      " 12  RBC                              1385 non-null   float64\n",
      " 13  HGB                              1385 non-null   float64\n",
      " 14  Plat                             1385 non-null   float64\n",
      " 15  AST_1                            1385 non-null   float64\n",
      " 16  ALT_1                            1385 non-null   float64\n",
      " 17  ALT4                             1385 non-null   float64\n",
      " 18  ALT_12                           1385 non-null   float64\n",
      " 19  ALT_24                           1385 non-null   float64\n",
      " 20  ALT_36                           1385 non-null   float64\n",
      " 21  ALT_48                           1385 non-null   float64\n",
      " 22  ALT_after_24_w                   1385 non-null   float64\n",
      " 23  RNA_Base                         1385 non-null   float64\n",
      " 24  RNA_4                            1385 non-null   float64\n",
      " 25  RNA_12                           1385 non-null   float64\n",
      " 26  RNA_EOT                          1385 non-null   float64\n",
      " 27  RNA_EF                           1385 non-null   float64\n",
      " 28  Baseline_histological_Grading    1385 non-null   float64\n",
      "dtypes: float64(28), int64(1)\n",
      "memory usage: 313.9 KB\n"
     ]
    }
   ],
   "source": [
    "data.info()"
   ]
  },
  {
   "cell_type": "code",
   "execution_count": 68,
   "metadata": {},
   "outputs": [
    {
     "data": {
      "text/plain": [
       "['Unnamed: 0',\n",
       " 'Age',\n",
       " 'Gender',\n",
       " 'BMI',\n",
       " 'Fever',\n",
       " 'Nausea_vomiting',\n",
       " 'Headache',\n",
       " 'Diarrhea',\n",
       " 'Fatigue_n_generalized_bone_ache',\n",
       " 'Jaundice',\n",
       " 'Epigastric_pain',\n",
       " 'WBC',\n",
       " 'RBC',\n",
       " 'HGB',\n",
       " 'Plat',\n",
       " 'AST_1',\n",
       " 'ALT_1',\n",
       " 'ALT4',\n",
       " 'ALT_12',\n",
       " 'ALT_24',\n",
       " 'ALT_36',\n",
       " 'ALT_48',\n",
       " 'ALT_after_24_w',\n",
       " 'RNA_Base',\n",
       " 'RNA_4',\n",
       " 'RNA_12',\n",
       " 'RNA_EOT',\n",
       " 'RNA_EF',\n",
       " 'Baseline_histological_Grading']"
      ]
     },
     "execution_count": 68,
     "metadata": {},
     "output_type": "execute_result"
    }
   ],
   "source": [
    "list(data)"
   ]
  },
  {
   "cell_type": "code",
   "execution_count": 69,
   "metadata": {},
   "outputs": [],
   "source": [
    "y = data1['Baselinehistological staging']\n",
    "x = data.drop(columns=['Unnamed: 0'])"
   ]
  },
  {
   "cell_type": "code",
   "execution_count": 108,
   "metadata": {},
   "outputs": [],
   "source": [
    "X_new = SelectKBest(chi2, k=2).fit_transform(x, y)"
   ]
  },
  {
   "cell_type": "code",
   "execution_count": 116,
   "metadata": {},
   "outputs": [
    {
     "data": {
      "text/plain": [
       "array([1., 3., 4., ..., 1., 1., 1.])"
      ]
     },
     "execution_count": 116,
     "metadata": {},
     "output_type": "execute_result"
    }
   ],
   "source": [
    "X_new[:,0]"
   ]
  },
  {
   "cell_type": "code",
   "execution_count": 118,
   "metadata": {},
   "outputs": [],
   "source": [
    "x = pd.DataFrame(X_new,\n",
    "                 columns=['a', 'b'])"
   ]
  },
  {
   "cell_type": "code",
   "execution_count": 143,
   "metadata": {},
   "outputs": [
    {
     "data": {
      "text/html": [
       "<div>\n",
       "<style scoped>\n",
       "    .dataframe tbody tr th:only-of-type {\n",
       "        vertical-align: middle;\n",
       "    }\n",
       "\n",
       "    .dataframe tbody tr th {\n",
       "        vertical-align: top;\n",
       "    }\n",
       "\n",
       "    .dataframe thead th {\n",
       "        text-align: right;\n",
       "    }\n",
       "</style>\n",
       "<table border=\"1\" class=\"dataframe\">\n",
       "  <thead>\n",
       "    <tr style=\"text-align: right;\">\n",
       "      <th></th>\n",
       "      <th>Age</th>\n",
       "      <th>Gender</th>\n",
       "      <th>BMI</th>\n",
       "      <th>Fever</th>\n",
       "      <th>Nausea_vomiting</th>\n",
       "      <th>Headache</th>\n",
       "      <th>Diarrhea</th>\n",
       "      <th>Fatigue_n_generalized_bone_ache</th>\n",
       "      <th>Jaundice</th>\n",
       "      <th>Epigastric_pain</th>\n",
       "      <th>...</th>\n",
       "      <th>ALT_24</th>\n",
       "      <th>ALT_36</th>\n",
       "      <th>ALT_48</th>\n",
       "      <th>ALT_after_24_w</th>\n",
       "      <th>RNA_Base</th>\n",
       "      <th>RNA_4</th>\n",
       "      <th>RNA_12</th>\n",
       "      <th>RNA_EOT</th>\n",
       "      <th>RNA_EF</th>\n",
       "      <th>Baseline_histological_Grading</th>\n",
       "    </tr>\n",
       "  </thead>\n",
       "  <tbody>\n",
       "    <tr>\n",
       "      <th>0</th>\n",
       "      <td>5</td>\n",
       "      <td>1</td>\n",
       "      <td>4</td>\n",
       "      <td>2</td>\n",
       "      <td>1</td>\n",
       "      <td>1</td>\n",
       "      <td>1</td>\n",
       "      <td>2</td>\n",
       "      <td>2</td>\n",
       "      <td>2</td>\n",
       "      <td>...</td>\n",
       "      <td>2</td>\n",
       "      <td>0</td>\n",
       "      <td>0</td>\n",
       "      <td>0</td>\n",
       "      <td>1</td>\n",
       "      <td>2</td>\n",
       "      <td>1</td>\n",
       "      <td>0</td>\n",
       "      <td>0</td>\n",
       "      <td>13</td>\n",
       "    </tr>\n",
       "    <tr>\n",
       "      <th>1</th>\n",
       "      <td>3</td>\n",
       "      <td>1</td>\n",
       "      <td>2</td>\n",
       "      <td>1</td>\n",
       "      <td>2</td>\n",
       "      <td>2</td>\n",
       "      <td>1</td>\n",
       "      <td>2</td>\n",
       "      <td>2</td>\n",
       "      <td>1</td>\n",
       "      <td>...</td>\n",
       "      <td>3</td>\n",
       "      <td>1</td>\n",
       "      <td>3</td>\n",
       "      <td>2</td>\n",
       "      <td>0</td>\n",
       "      <td>2</td>\n",
       "      <td>1</td>\n",
       "      <td>1</td>\n",
       "      <td>1</td>\n",
       "      <td>4</td>\n",
       "    </tr>\n",
       "    <tr>\n",
       "      <th>2</th>\n",
       "      <td>6</td>\n",
       "      <td>1</td>\n",
       "      <td>3</td>\n",
       "      <td>2</td>\n",
       "      <td>2</td>\n",
       "      <td>2</td>\n",
       "      <td>2</td>\n",
       "      <td>1</td>\n",
       "      <td>1</td>\n",
       "      <td>1</td>\n",
       "      <td>...</td>\n",
       "      <td>3</td>\n",
       "      <td>0</td>\n",
       "      <td>0</td>\n",
       "      <td>0</td>\n",
       "      <td>1</td>\n",
       "      <td>2</td>\n",
       "      <td>0</td>\n",
       "      <td>1</td>\n",
       "      <td>1</td>\n",
       "      <td>4</td>\n",
       "    </tr>\n",
       "    <tr>\n",
       "      <th>3</th>\n",
       "      <td>4</td>\n",
       "      <td>2</td>\n",
       "      <td>3</td>\n",
       "      <td>1</td>\n",
       "      <td>2</td>\n",
       "      <td>1</td>\n",
       "      <td>2</td>\n",
       "      <td>1</td>\n",
       "      <td>2</td>\n",
       "      <td>1</td>\n",
       "      <td>...</td>\n",
       "      <td>2</td>\n",
       "      <td>0</td>\n",
       "      <td>2</td>\n",
       "      <td>1</td>\n",
       "      <td>2</td>\n",
       "      <td>1</td>\n",
       "      <td>1</td>\n",
       "      <td>1</td>\n",
       "      <td>1</td>\n",
       "      <td>10</td>\n",
       "    </tr>\n",
       "    <tr>\n",
       "      <th>4</th>\n",
       "      <td>6</td>\n",
       "      <td>1</td>\n",
       "      <td>3</td>\n",
       "      <td>1</td>\n",
       "      <td>1</td>\n",
       "      <td>2</td>\n",
       "      <td>1</td>\n",
       "      <td>2</td>\n",
       "      <td>2</td>\n",
       "      <td>2</td>\n",
       "      <td>...</td>\n",
       "      <td>3</td>\n",
       "      <td>2</td>\n",
       "      <td>2</td>\n",
       "      <td>1</td>\n",
       "      <td>1</td>\n",
       "      <td>3</td>\n",
       "      <td>3731527</td>\n",
       "      <td>1</td>\n",
       "      <td>1</td>\n",
       "      <td>11</td>\n",
       "    </tr>\n",
       "  </tbody>\n",
       "</table>\n",
       "<p>5 rows × 28 columns</p>\n",
       "</div>"
      ],
      "text/plain": [
       "   Age  Gender  BMI  Fever  Nausea_vomiting  Headache  Diarrhea  \\\n",
       "0    5       1    4      2                1         1         1   \n",
       "1    3       1    2      1                2         2         1   \n",
       "2    6       1    3      2                2         2         2   \n",
       "3    4       2    3      1                2         1         2   \n",
       "4    6       1    3      1                1         2         1   \n",
       "\n",
       "   Fatigue_n_generalized_bone_ache  Jaundice  Epigastric_pain  ...  ALT_24  \\\n",
       "0                                2         2                2  ...       2   \n",
       "1                                2         2                1  ...       3   \n",
       "2                                1         1                1  ...       3   \n",
       "3                                1         2                1  ...       2   \n",
       "4                                2         2                2  ...       3   \n",
       "\n",
       "   ALT_36  ALT_48  ALT_after_24_w  RNA_Base  RNA_4   RNA_12  RNA_EOT  RNA_EF  \\\n",
       "0       0       0               0         1      2        1        0       0   \n",
       "1       1       3               2         0      2        1        1       1   \n",
       "2       0       0               0         1      2        0        1       1   \n",
       "3       0       2               1         2      1        1        1       1   \n",
       "4       2       2               1         1      3  3731527        1       1   \n",
       "\n",
       "   Baseline_histological_Grading  \n",
       "0                             13  \n",
       "1                              4  \n",
       "2                              4  \n",
       "3                             10  \n",
       "4                             11  \n",
       "\n",
       "[5 rows x 28 columns]"
      ]
     },
     "execution_count": 143,
     "metadata": {},
     "output_type": "execute_result"
    }
   ],
   "source": [
    "x.head()"
   ]
  },
  {
   "cell_type": "code",
   "execution_count": 70,
   "metadata": {},
   "outputs": [
    {
     "name": "stdout",
     "output_type": "stream",
     "text": [
      "1108 277 1385 1385\n"
     ]
    }
   ],
   "source": [
    "sss = StratifiedShuffleSplit(n_splits=1, test_size=0.2, random_state=0)\n",
    "sss.get_n_splits(x, y)\n",
    "for train_index, test_index in sss.split(x, y):\n",
    "    print(len(train_index), len(test_index), len(x), len(y))\n",
    "    x_train, x_test = x.iloc[train_index], x.iloc[test_index]\n",
    "    y_train, y_test = y[train_index], y[test_index]"
   ]
  },
  {
   "cell_type": "code",
   "execution_count": 71,
   "metadata": {},
   "outputs": [],
   "source": [
    "#X_train, X_test, y_train, y_test = train_test_split(x, y, test_size=0.3, random_state=42)"
   ]
  },
  {
   "cell_type": "code",
   "execution_count": 72,
   "metadata": {},
   "outputs": [],
   "source": [
    "clf = RandomForestClassifier(max_depth=2, random_state=0)"
   ]
  },
  {
   "cell_type": "code",
   "execution_count": 73,
   "metadata": {},
   "outputs": [],
   "source": [
    "clf.fit(x_train, y_train)\n",
    "prediction = clf.predict(x_test)"
   ]
  },
  {
   "cell_type": "code",
   "execution_count": 74,
   "metadata": {},
   "outputs": [
    {
     "data": {
      "text/plain": [
       "0.21660649819494585"
      ]
     },
     "execution_count": 74,
     "metadata": {},
     "output_type": "execute_result"
    }
   ],
   "source": [
    "accuracy_score(y_test, prediction)"
   ]
  },
  {
   "cell_type": "code",
   "execution_count": 75,
   "metadata": {},
   "outputs": [],
   "source": [
    "clf = svm.SVC()\n",
    "mod = clf.fit(x_train, y_train)"
   ]
  },
  {
   "cell_type": "code",
   "execution_count": 76,
   "metadata": {},
   "outputs": [
    {
     "data": {
      "text/plain": [
       "0.20216606498194944"
      ]
     },
     "execution_count": 76,
     "metadata": {},
     "output_type": "execute_result"
    }
   ],
   "source": [
    "prediction = clf.predict(x_test)\n",
    "accuracy_score(y_test, prediction)"
   ]
  },
  {
   "cell_type": "code",
   "execution_count": 152,
   "metadata": {},
   "outputs": [
    {
     "ename": "ValueError",
     "evalue": "The underlying estimator SVC has no `coef_` or `feature_importances_` attribute. Either pass a fitted estimator to SelectFromModel or call fit before calling transform.",
     "output_type": "error",
     "traceback": [
      "\u001b[1;31m---------------------------------------------------------------------------\u001b[0m",
      "\u001b[1;31mValueError\u001b[0m                                Traceback (most recent call last)",
      "\u001b[1;32m<ipython-input-152-01c7b2a1a14b>\u001b[0m in \u001b[0;36m<module>\u001b[1;34m\u001b[0m\n\u001b[0;32m      1\u001b[0m \u001b[0mmodel\u001b[0m \u001b[1;33m=\u001b[0m \u001b[0mSelectFromModel\u001b[0m\u001b[1;33m(\u001b[0m\u001b[0mmod\u001b[0m\u001b[1;33m,\u001b[0m \u001b[0mprefit\u001b[0m\u001b[1;33m=\u001b[0m\u001b[1;32mTrue\u001b[0m\u001b[1;33m)\u001b[0m\u001b[1;33m\u001b[0m\u001b[0m\n\u001b[1;32m----> 2\u001b[1;33m \u001b[0mX_new\u001b[0m \u001b[1;33m=\u001b[0m \u001b[0mmodel\u001b[0m\u001b[1;33m.\u001b[0m\u001b[0mtransform\u001b[0m\u001b[1;33m(\u001b[0m\u001b[0mx\u001b[0m\u001b[1;33m)\u001b[0m\u001b[1;33m\u001b[0m\u001b[0m\n\u001b[0m",
      "\u001b[1;32m~\\AppData\\Local\\Programs\\Python\\Python37\\lib\\site-packages\\sklearn\\feature_selection\\_base.py\u001b[0m in \u001b[0;36mtransform\u001b[1;34m(self, X)\u001b[0m\n\u001b[0;32m     75\u001b[0m         X = check_array(X, dtype=None, accept_sparse='csr',\n\u001b[0;32m     76\u001b[0m                         force_all_finite=not tags.get('allow_nan', True))\n\u001b[1;32m---> 77\u001b[1;33m         \u001b[0mmask\u001b[0m \u001b[1;33m=\u001b[0m \u001b[0mself\u001b[0m\u001b[1;33m.\u001b[0m\u001b[0mget_support\u001b[0m\u001b[1;33m(\u001b[0m\u001b[1;33m)\u001b[0m\u001b[1;33m\u001b[0m\u001b[0m\n\u001b[0m\u001b[0;32m     78\u001b[0m         \u001b[1;32mif\u001b[0m \u001b[1;32mnot\u001b[0m \u001b[0mmask\u001b[0m\u001b[1;33m.\u001b[0m\u001b[0many\u001b[0m\u001b[1;33m(\u001b[0m\u001b[1;33m)\u001b[0m\u001b[1;33m:\u001b[0m\u001b[1;33m\u001b[0m\u001b[0m\n\u001b[0;32m     79\u001b[0m             warn(\"No features were selected: either the data is\"\n",
      "\u001b[1;32m~\\AppData\\Local\\Programs\\Python\\Python37\\lib\\site-packages\\sklearn\\feature_selection\\_base.py\u001b[0m in \u001b[0;36mget_support\u001b[1;34m(self, indices)\u001b[0m\n\u001b[0;32m     44\u001b[0m             \u001b[0mvalues\u001b[0m \u001b[0mare\u001b[0m \u001b[0mindices\u001b[0m \u001b[0minto\u001b[0m \u001b[0mthe\u001b[0m \u001b[0minput\u001b[0m \u001b[0mfeature\u001b[0m \u001b[0mvector\u001b[0m\u001b[1;33m.\u001b[0m\u001b[1;33m\u001b[0m\u001b[0m\n\u001b[0;32m     45\u001b[0m         \"\"\"\n\u001b[1;32m---> 46\u001b[1;33m         \u001b[0mmask\u001b[0m \u001b[1;33m=\u001b[0m \u001b[0mself\u001b[0m\u001b[1;33m.\u001b[0m\u001b[0m_get_support_mask\u001b[0m\u001b[1;33m(\u001b[0m\u001b[1;33m)\u001b[0m\u001b[1;33m\u001b[0m\u001b[0m\n\u001b[0m\u001b[0;32m     47\u001b[0m         \u001b[1;32mreturn\u001b[0m \u001b[0mmask\u001b[0m \u001b[1;32mif\u001b[0m \u001b[1;32mnot\u001b[0m \u001b[0mindices\u001b[0m \u001b[1;32melse\u001b[0m \u001b[0mnp\u001b[0m\u001b[1;33m.\u001b[0m\u001b[0mwhere\u001b[0m\u001b[1;33m(\u001b[0m\u001b[0mmask\u001b[0m\u001b[1;33m)\u001b[0m\u001b[1;33m[\u001b[0m\u001b[1;36m0\u001b[0m\u001b[1;33m]\u001b[0m\u001b[1;33m\u001b[0m\u001b[0m\n\u001b[0;32m     48\u001b[0m \u001b[1;33m\u001b[0m\u001b[0m\n",
      "\u001b[1;32m~\\AppData\\Local\\Programs\\Python\\Python37\\lib\\site-packages\\sklearn\\feature_selection\\_from_model.py\u001b[0m in \u001b[0;36m_get_support_mask\u001b[1;34m(self)\u001b[0m\n\u001b[0;32m    178\u001b[0m                              \u001b[1;34m' \"prefit=True\" while passing the fitted'\u001b[0m\u001b[1;33m\u001b[0m\u001b[0m\n\u001b[0;32m    179\u001b[0m                              ' estimator to the constructor.')\n\u001b[1;32m--> 180\u001b[1;33m         \u001b[0mscores\u001b[0m \u001b[1;33m=\u001b[0m \u001b[0m_get_feature_importances\u001b[0m\u001b[1;33m(\u001b[0m\u001b[0mestimator\u001b[0m\u001b[1;33m,\u001b[0m \u001b[0mself\u001b[0m\u001b[1;33m.\u001b[0m\u001b[0mnorm_order\u001b[0m\u001b[1;33m)\u001b[0m\u001b[1;33m\u001b[0m\u001b[0m\n\u001b[0m\u001b[0;32m    181\u001b[0m         \u001b[0mthreshold\u001b[0m \u001b[1;33m=\u001b[0m \u001b[0m_calculate_threshold\u001b[0m\u001b[1;33m(\u001b[0m\u001b[0mestimator\u001b[0m\u001b[1;33m,\u001b[0m \u001b[0mscores\u001b[0m\u001b[1;33m,\u001b[0m \u001b[0mself\u001b[0m\u001b[1;33m.\u001b[0m\u001b[0mthreshold\u001b[0m\u001b[1;33m)\u001b[0m\u001b[1;33m\u001b[0m\u001b[0m\n\u001b[0;32m    182\u001b[0m         \u001b[1;32mif\u001b[0m \u001b[0mself\u001b[0m\u001b[1;33m.\u001b[0m\u001b[0mmax_features\u001b[0m \u001b[1;32mis\u001b[0m \u001b[1;32mnot\u001b[0m \u001b[1;32mNone\u001b[0m\u001b[1;33m:\u001b[0m\u001b[1;33m\u001b[0m\u001b[0m\n",
      "\u001b[1;32m~\\AppData\\Local\\Programs\\Python\\Python37\\lib\\site-packages\\sklearn\\feature_selection\\_from_model.py\u001b[0m in \u001b[0;36m_get_feature_importances\u001b[1;34m(estimator, norm_order)\u001b[0m\n\u001b[0;32m     32\u001b[0m             \u001b[1;34m\"`feature_importances_` attribute. Either pass a fitted estimator\"\u001b[0m\u001b[1;33m\u001b[0m\u001b[0m\n\u001b[0;32m     33\u001b[0m             \u001b[1;34m\" to SelectFromModel or call fit before calling transform.\"\u001b[0m\u001b[1;33m\u001b[0m\u001b[0m\n\u001b[1;32m---> 34\u001b[1;33m             % estimator.__class__.__name__)\n\u001b[0m\u001b[0;32m     35\u001b[0m \u001b[1;33m\u001b[0m\u001b[0m\n\u001b[0;32m     36\u001b[0m     \u001b[1;32mreturn\u001b[0m \u001b[0mimportances\u001b[0m\u001b[1;33m\u001b[0m\u001b[0m\n",
      "\u001b[1;31mValueError\u001b[0m: The underlying estimator SVC has no `coef_` or `feature_importances_` attribute. Either pass a fitted estimator to SelectFromModel or call fit before calling transform."
     ]
    }
   ],
   "source": [
    "model = SelectFromModel(mod, prefit=True)\n",
    "X_new = model.transform(x)"
   ]
  },
  {
   "cell_type": "code",
   "execution_count": 77,
   "metadata": {},
   "outputs": [
    {
     "data": {
      "text/plain": [
       "0.20216606498194944"
      ]
     },
     "execution_count": 77,
     "metadata": {},
     "output_type": "execute_result"
    }
   ],
   "source": [
    "prediction = clf.predict(x_test)\n",
    "accuracy_score(y_test, prediction)"
   ]
  },
  {
   "cell_type": "code",
   "execution_count": 78,
   "metadata": {},
   "outputs": [
    {
     "data": {
      "text/plain": [
       "0.19855595667870035"
      ]
     },
     "execution_count": 78,
     "metadata": {},
     "output_type": "execute_result"
    }
   ],
   "source": [
    "classifier = KNeighborsClassifier(n_neighbors=5)\n",
    "classifier.fit(x_train, y_train)\n",
    "prediction = classifier.predict(x_test)\n",
    "accuracy_score(y_test, prediction)"
   ]
  },
  {
   "cell_type": "code",
   "execution_count": null,
   "metadata": {},
   "outputs": [],
   "source": []
  }
 ],
 "metadata": {
  "kernelspec": {
   "display_name": "Python 3.7.0 64-bit",
   "language": "python",
   "name": "python37064bit8d76d3a8b52b4770aacd59d9c834fa47"
  },
  "language_info": {
   "codemirror_mode": {
    "name": "ipython",
    "version": 3
   },
   "file_extension": ".py",
   "mimetype": "text/x-python",
   "name": "python",
   "nbconvert_exporter": "python",
   "pygments_lexer": "ipython3",
   "version": "3.7.0"
  }
 },
 "nbformat": 4,
 "nbformat_minor": 4
}
