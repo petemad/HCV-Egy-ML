{
 "cells": [
  {
   "cell_type": "code",
   "execution_count": 133,
   "metadata": {},
   "outputs": [],
   "source": [
    "import numpy as np\n",
    "import os\n",
    "import pandas as pd\n",
    "from sklearn.model_selection import StratifiedShuffleSplit\n",
    "from sklearn.model_selection import train_test_split\n",
    "from sklearn.ensemble import RandomForestClassifier\n",
    "from sklearn.metrics import accuracy_score\n",
    "from copy import deepcopy\n",
    "from sklearn import tree\n",
    "from sklearn import svm\n",
    "from sklearn.neighbors import KNeighborsClassifier\n",
    "from sklearn.feature_selection import SelectKBest\n",
    "from sklearn.feature_selection import chi2\n",
    "from sklearn.feature_selection import SelectFromModel"
   ]
  },
  {
   "cell_type": "code",
   "execution_count": 136,
   "metadata": {},
   "outputs": [
    {
     "data": {
      "text/html": [
       "<div>\n",
       "<style scoped>\n",
       "    .dataframe tbody tr th:only-of-type {\n",
       "        vertical-align: middle;\n",
       "    }\n",
       "\n",
       "    .dataframe tbody tr th {\n",
       "        vertical-align: top;\n",
       "    }\n",
       "\n",
       "    .dataframe thead th {\n",
       "        text-align: right;\n",
       "    }\n",
       "</style>\n",
       "<table border=\"1\" class=\"dataframe\">\n",
       "  <thead>\n",
       "    <tr style=\"text-align: right;\">\n",
       "      <th></th>\n",
       "      <th>Age</th>\n",
       "      <th>Gender</th>\n",
       "      <th>BMI</th>\n",
       "      <th>Fever</th>\n",
       "      <th>Nausea/Vomting</th>\n",
       "      <th>Headache</th>\n",
       "      <th>Diarrhea</th>\n",
       "      <th>Fatigue &amp; generalized bone ache</th>\n",
       "      <th>Jaundice</th>\n",
       "      <th>Epigastric pain</th>\n",
       "      <th>...</th>\n",
       "      <th>ALT 36</th>\n",
       "      <th>ALT 48</th>\n",
       "      <th>ALT after 24 w</th>\n",
       "      <th>RNA Base</th>\n",
       "      <th>RNA 4</th>\n",
       "      <th>RNA 12</th>\n",
       "      <th>RNA EOT</th>\n",
       "      <th>RNA EF</th>\n",
       "      <th>Baseline histological Grading</th>\n",
       "      <th>Baselinehistological staging</th>\n",
       "    </tr>\n",
       "  </thead>\n",
       "  <tbody>\n",
       "    <tr>\n",
       "      <th>0</th>\n",
       "      <td>56</td>\n",
       "      <td>1</td>\n",
       "      <td>35</td>\n",
       "      <td>2</td>\n",
       "      <td>1</td>\n",
       "      <td>1</td>\n",
       "      <td>1</td>\n",
       "      <td>2</td>\n",
       "      <td>2</td>\n",
       "      <td>2</td>\n",
       "      <td>...</td>\n",
       "      <td>5</td>\n",
       "      <td>5</td>\n",
       "      <td>5</td>\n",
       "      <td>655330</td>\n",
       "      <td>634536</td>\n",
       "      <td>288194</td>\n",
       "      <td>5</td>\n",
       "      <td>5</td>\n",
       "      <td>13</td>\n",
       "      <td>2</td>\n",
       "    </tr>\n",
       "    <tr>\n",
       "      <th>1</th>\n",
       "      <td>46</td>\n",
       "      <td>1</td>\n",
       "      <td>29</td>\n",
       "      <td>1</td>\n",
       "      <td>2</td>\n",
       "      <td>2</td>\n",
       "      <td>1</td>\n",
       "      <td>2</td>\n",
       "      <td>2</td>\n",
       "      <td>1</td>\n",
       "      <td>...</td>\n",
       "      <td>57</td>\n",
       "      <td>123</td>\n",
       "      <td>44</td>\n",
       "      <td>40620</td>\n",
       "      <td>538635</td>\n",
       "      <td>637056</td>\n",
       "      <td>336804</td>\n",
       "      <td>31085</td>\n",
       "      <td>4</td>\n",
       "      <td>2</td>\n",
       "    </tr>\n",
       "    <tr>\n",
       "      <th>2</th>\n",
       "      <td>57</td>\n",
       "      <td>1</td>\n",
       "      <td>33</td>\n",
       "      <td>2</td>\n",
       "      <td>2</td>\n",
       "      <td>2</td>\n",
       "      <td>2</td>\n",
       "      <td>1</td>\n",
       "      <td>1</td>\n",
       "      <td>1</td>\n",
       "      <td>...</td>\n",
       "      <td>5</td>\n",
       "      <td>5</td>\n",
       "      <td>5</td>\n",
       "      <td>571148</td>\n",
       "      <td>661346</td>\n",
       "      <td>5</td>\n",
       "      <td>735945</td>\n",
       "      <td>558829</td>\n",
       "      <td>4</td>\n",
       "      <td>4</td>\n",
       "    </tr>\n",
       "    <tr>\n",
       "      <th>3</th>\n",
       "      <td>49</td>\n",
       "      <td>2</td>\n",
       "      <td>33</td>\n",
       "      <td>1</td>\n",
       "      <td>2</td>\n",
       "      <td>1</td>\n",
       "      <td>2</td>\n",
       "      <td>1</td>\n",
       "      <td>2</td>\n",
       "      <td>1</td>\n",
       "      <td>...</td>\n",
       "      <td>48</td>\n",
       "      <td>77</td>\n",
       "      <td>33</td>\n",
       "      <td>1041941</td>\n",
       "      <td>449939</td>\n",
       "      <td>585688</td>\n",
       "      <td>744463</td>\n",
       "      <td>582301</td>\n",
       "      <td>10</td>\n",
       "      <td>3</td>\n",
       "    </tr>\n",
       "    <tr>\n",
       "      <th>4</th>\n",
       "      <td>59</td>\n",
       "      <td>1</td>\n",
       "      <td>32</td>\n",
       "      <td>1</td>\n",
       "      <td>1</td>\n",
       "      <td>2</td>\n",
       "      <td>1</td>\n",
       "      <td>2</td>\n",
       "      <td>2</td>\n",
       "      <td>2</td>\n",
       "      <td>...</td>\n",
       "      <td>94</td>\n",
       "      <td>90</td>\n",
       "      <td>30</td>\n",
       "      <td>660410</td>\n",
       "      <td>738756</td>\n",
       "      <td>3731527</td>\n",
       "      <td>338946</td>\n",
       "      <td>242861</td>\n",
       "      <td>11</td>\n",
       "      <td>1</td>\n",
       "    </tr>\n",
       "  </tbody>\n",
       "</table>\n",
       "<p>5 rows × 29 columns</p>\n",
       "</div>"
      ],
      "text/plain": [
       "   Age   Gender  BMI  Fever  Nausea/Vomting  Headache   Diarrhea   \\\n",
       "0    56       1   35      2               1          1          1   \n",
       "1    46       1   29      1               2          2          1   \n",
       "2    57       1   33      2               2          2          2   \n",
       "3    49       2   33      1               2          1          2   \n",
       "4    59       1   32      1               1          2          1   \n",
       "\n",
       "   Fatigue & generalized bone ache   Jaundice   Epigastric pain   ...  ALT 36  \\\n",
       "0                                 2          2                 2  ...       5   \n",
       "1                                 2          2                 1  ...      57   \n",
       "2                                 1          1                 1  ...       5   \n",
       "3                                 1          2                 1  ...      48   \n",
       "4                                 2          2                 2  ...      94   \n",
       "\n",
       "   ALT 48  ALT after 24 w  RNA Base   RNA 4   RNA 12  RNA EOT  RNA EF  \\\n",
       "0       5               5    655330  634536   288194        5       5   \n",
       "1     123              44     40620  538635   637056   336804   31085   \n",
       "2       5               5    571148  661346        5   735945  558829   \n",
       "3      77              33   1041941  449939   585688   744463  582301   \n",
       "4      90              30    660410  738756  3731527   338946  242861   \n",
       "\n",
       "   Baseline histological Grading  Baselinehistological staging  \n",
       "0                             13                             2  \n",
       "1                              4                             2  \n",
       "2                              4                             4  \n",
       "3                             10                             3  \n",
       "4                             11                             1  \n",
       "\n",
       "[5 rows x 29 columns]"
      ]
     },
     "execution_count": 136,
     "metadata": {},
     "output_type": "execute_result"
    }
   ],
   "source": [
    "#data = pd.read_csv(\"new_data.csv\")\n",
    "#data = pd.read_csv(\"hcv-data-dis.csv\")\n",
    "data = pd.read_csv(\"HCV-Egy-Data.csv\")\n",
    "data.head()"
   ]
  },
  {
   "cell_type": "code",
   "execution_count": 137,
   "metadata": {},
   "outputs": [],
   "source": [
    "data.rename(columns={'Age ': 'Age', 'Nausea/Vomting': 'Nausea_vomiting', 'Headache ':'Headache','Diarrhea ':'Diarrhea',\n",
    "'Fatigue & generalized bone ache ': 'Fatigue_n_generalized_bone_ache', 'Jaundice ':'Jaundice', 'Epigastric pain ':'Epigastric_pain' }, inplace= True)"
   ]
  },
  {
   "cell_type": "code",
   "execution_count": 138,
   "metadata": {},
   "outputs": [],
   "source": [
    "data.rename(columns={'AST 1': 'AST_1', 'ALT 1': 'ALT_1', 'ALT 12':'ALT_12','ALT 24':'ALT_24',\n",
    "'ALT 36': 'ALT_36', 'ALT 48':'ALT_48', 'ALT after 24 w':'ALT_after_24_w', 'RNA Base':'RNA_Base', 'RNA 4':'RNA_4', 'RNA 12':'RNA_12', 'RNA EOT':'RNA_EOT',\n",
    "                     'RNA EF':'RNA_EF', 'Baseline histological Grading':'Baseline_histological_Grading', 'Baselinehistological staging':'Baselinehistological_staging' }, inplace= True)"
   ]
  },
  {
   "cell_type": "code",
   "execution_count": 99,
   "metadata": {
    "scrolled": false
   },
   "outputs": [
    {
     "data": {
      "text/plain": [
       "array([[<matplotlib.axes._subplots.AxesSubplot object at 0x00000264833CD780>,\n",
       "        <matplotlib.axes._subplots.AxesSubplot object at 0x0000026485D354A8>,\n",
       "        <matplotlib.axes._subplots.AxesSubplot object at 0x0000026485D65668>,\n",
       "        <matplotlib.axes._subplots.AxesSubplot object at 0x000002648571D9B0>,\n",
       "        <matplotlib.axes._subplots.AxesSubplot object at 0x000002648572FCF8>],\n",
       "       [<matplotlib.axes._subplots.AxesSubplot object at 0x000002648574DDD8>,\n",
       "        <matplotlib.axes._subplots.AxesSubplot object at 0x0000026485789198>,\n",
       "        <matplotlib.axes._subplots.AxesSubplot object at 0x00000264857BA4E0>,\n",
       "        <matplotlib.axes._subplots.AxesSubplot object at 0x00000264857BA550>,\n",
       "        <matplotlib.axes._subplots.AxesSubplot object at 0x000002648581FC18>],\n",
       "       [<matplotlib.axes._subplots.AxesSubplot object at 0x0000026485853F98>,\n",
       "        <matplotlib.axes._subplots.AxesSubplot object at 0x0000026485890358>,\n",
       "        <matplotlib.axes._subplots.AxesSubplot object at 0x00000264858C26D8>,\n",
       "        <matplotlib.axes._subplots.AxesSubplot object at 0x00000264858F4A58>,\n",
       "        <matplotlib.axes._subplots.AxesSubplot object at 0x0000026485926DD8>],\n",
       "       [<matplotlib.axes._subplots.AxesSubplot object at 0x0000026485966198>,\n",
       "        <matplotlib.axes._subplots.AxesSubplot object at 0x0000026485999518>,\n",
       "        <matplotlib.axes._subplots.AxesSubplot object at 0x00000264859CA898>,\n",
       "        <matplotlib.axes._subplots.AxesSubplot object at 0x00000264859FDC18>,\n",
       "        <matplotlib.axes._subplots.AxesSubplot object at 0x0000026485A32F98>],\n",
       "       [<matplotlib.axes._subplots.AxesSubplot object at 0x0000026485A70358>,\n",
       "        <matplotlib.axes._subplots.AxesSubplot object at 0x0000026485AA16D8>,\n",
       "        <matplotlib.axes._subplots.AxesSubplot object at 0x0000026485AD5A58>,\n",
       "        <matplotlib.axes._subplots.AxesSubplot object at 0x0000026485B07DD8>,\n",
       "        <matplotlib.axes._subplots.AxesSubplot object at 0x0000026485B47198>],\n",
       "       [<matplotlib.axes._subplots.AxesSubplot object at 0x0000026485B79518>,\n",
       "        <matplotlib.axes._subplots.AxesSubplot object at 0x00000264860BB898>,\n",
       "        <matplotlib.axes._subplots.AxesSubplot object at 0x00000264860EDC18>,\n",
       "        <matplotlib.axes._subplots.AxesSubplot object at 0x0000026486120F98>,\n",
       "        <matplotlib.axes._subplots.AxesSubplot object at 0x000002648615F358>]],\n",
       "      dtype=object)"
      ]
     },
     "execution_count": 99,
     "metadata": {},
     "output_type": "execute_result"
    },
    {
     "data": {
      "image/png": "[encoded data removed]",
      "text/plain": [
       "<Figure size 1080x1080 with 30 Axes>"
      ]
     },
     "metadata": {
      "needs_background": "light"
     },
     "output_type": "display_data"
    }
   ],
   "source": [
    "data.hist(bins=30,figsize=(15,15))"
   ]
  },
  {
   "cell_type": "code",
   "execution_count": 100,
   "metadata": {},
   "outputs": [
    {
     "data": {
      "text/plain": [
       "<matplotlib.axes._subplots.AxesSubplot at 0x264865f4860>"
      ]
     },
     "execution_count": 100,
     "metadata": {},
     "output_type": "execute_result"
    },
    {
     "data": {
      "image/png": "[encoded data removed]",
      "text/plain": [
       "<Figure size 1080x1080 with 1 Axes>"
      ]
     },
     "metadata": {
      "needs_background": "light"
     },
     "output_type": "display_data"
    }
   ],
   "source": [
    "data['BMI'].hist(bins=30,figsize=(15,15))"
   ]
  },
  {
   "cell_type": "code",
   "execution_count": 139,
   "metadata": {},
   "outputs": [],
   "source": [
    "def discretization(x, feature, ranges):\n",
    "    data = deepcopy(x)\n",
    "    for i in range(len(ranges)):\n",
    "        for j in range(len(data)):\n",
    "            if ranges[i][0] <= data[feature][j] < ranges[i][1]:\n",
    "                data[feature][j] = ranges[i][2]\n",
    "    return data"
   ]
  },
  {
   "cell_type": "code",
   "execution_count": 140,
   "metadata": {},
   "outputs": [],
   "source": [
    "def discretization_HGB(x, male_ranges, female_ranges):\n",
    "    data = deepcopy(x)\n",
    "    for i in range(len(male_ranges)):\n",
    "        for j in range(len(data)):\n",
    "            if data['Gender'][j] == 1:\n",
    "                if male_ranges[i][0] <= data['HGB'][j] < male_ranges[i][1]:\n",
    "                    data['HGB'][j] = male_ranges[i][2]\n",
    "            elif data['Gender'][j] == 2:\n",
    "                if female_ranges[i][0] <= data['HGB'][j] < female_ranges[i][1]:\n",
    "                    data['HGB'][j] = female_ranges[i][2]\n",
    "    return data"
   ]
  },
  {
   "cell_type": "code",
   "execution_count": 141,
   "metadata": {},
   "outputs": [
    {
     "name": "stderr",
     "output_type": "stream",
     "text": [
      "C:\\Users\\10\\AppData\\Roaming\\Python\\Python37\\site-packages\\ipykernel_launcher.py:6: SettingWithCopyWarning: \n",
      "A value is trying to be set on a copy of a slice from a DataFrame\n",
      "\n",
      "See the caveats in the documentation: https://pandas.pydata.org/pandas-docs/stable/user_guide/indexing.html#returning-a-view-versus-a-copy\n",
      "  \n",
      "C:\\Users\\10\\AppData\\Roaming\\Python\\Python37\\site-packages\\ipykernel_launcher.py:7: SettingWithCopyWarning: \n",
      "A value is trying to be set on a copy of a slice from a DataFrame\n",
      "\n",
      "See the caveats in the documentation: https://pandas.pydata.org/pandas-docs/stable/user_guide/indexing.html#returning-a-view-versus-a-copy\n",
      "  import sys\n",
      "C:\\Users\\10\\AppData\\Roaming\\Python\\Python37\\site-packages\\ipykernel_launcher.py:10: SettingWithCopyWarning: \n",
      "A value is trying to be set on a copy of a slice from a DataFrame\n",
      "\n",
      "See the caveats in the documentation: https://pandas.pydata.org/pandas-docs/stable/user_guide/indexing.html#returning-a-view-versus-a-copy\n",
      "  # Remove the CWD from sys.path while we load stuff.\n"
     ]
    }
   ],
   "source": [
    "age_ranges = [[0, 32, 0], [32, 37, 1], [37, 42, 2], [42, 47, 3], [47, 52, 4], [52, 57, 5], [57, 63, 6]]\n",
    "data = discretization(data, 'Age', age_ranges)\n",
    "\n",
    "ast1_ranges = [[0, 50, 0], [50, 75, 1], [75, 100, 2], [100, 130, 3]]\n",
    "data = discretization(data, 'AST_1', ast1_ranges)\n",
    "\n",
    "bmi_ranges = [[0, 18.5, 0], [18.5, 25, 1], [25, 30, 2], [30, 35, 3], [35, 41, 4]]\n",
    "data = discretization(data, 'BMI', bmi_ranges)\n",
    "\n",
    "wbc_ranges = [[0, 4000, 0], [4000, 6000, 1], [6000, 8000, 2], [8000, 10000, 3], [10000, 12000, 4]]\n",
    "data = discretization(data, 'WBC', wbc_ranges)\n",
    "\n",
    "rbc_ranges = [[0, 4000000, 0], [4000000, 4250000, 1], [4250000, 4410000, 2], [4410000, 4590000, 3], [4590000, 4800000, 4], [4800000, 5000000, 5]]\n",
    "data = discretization(data, 'RBC', rbc_ranges)\n",
    "\n",
    "plat_ranges = [[0, 120000, 0], [120000, 140000, 1], [140000, 180000, 2], [180000, 200000, 3], [200000, 240000, 3]]\n",
    "data = discretization(data, 'Plat', plat_ranges)\n",
    "\n",
    "alt1_ranges = [[0, 40, 0], [40, 75, 1], [75, 100, 2], [100, 130, 3]]\n",
    "data = discretization(data, 'ALT_1', alt1_ranges)\n",
    "\n",
    "alt4_ranges = [[0, 50, 0], [50, 75, 1], [75, 100, 2], [100, 130, 3]]\n",
    "data = discretization(data, 'ALT4', alt4_ranges)\n",
    "\n",
    "alt12_ranges = [[0, 55, 0], [55, 75, 1], [75, 100, 2], [100, 130, 3]]\n",
    "data = discretization(data, 'ALT_12', alt12_ranges)\n",
    "\n",
    "alt24_ranges = [[0, 50, 0], [50, 75, 1], [75, 100, 2], [100, 130, 3]]\n",
    "data = discretization(data, 'ALT_24', alt24_ranges)\n",
    "\n",
    "alt36_ranges = [[0, 50, 0], [50, 75, 1], [75, 100, 2], [100, 130, 3]]\n",
    "data = discretization(data, 'ALT_36', alt36_ranges)\n",
    "\n",
    "alt48_ranges = [[0, 50, 0], [50, 75, 1], [75, 100, 2], [100, 130, 3]]\n",
    "data = discretization(data, 'ALT_48', alt48_ranges)\n",
    "\n",
    "alt_after_24_ranges = [[0, 25, 0], [25, 40, 1], [40, 50, 2]]\n",
    "data = discretization(data, 'ALT_after_24_w', alt_after_24_ranges)\n",
    "\n",
    "rnabase_ranges = [[0, 300000, 0], [300000, 800000, 1], [800000, 1300000, 2]]\n",
    "data = discretization(data, 'RNA_Base', rnabase_ranges)\n",
    "\n",
    "rna4_ranges = [[0, 300000, 0], [300000, 500000, 1], [500000, 700000, 2], [700000, 900000, 3], [900000, 1300000, 4]]\n",
    "data = discretization(data, 'RNA_4', rna4_ranges)\n",
    "\n",
    "rna12_ranges = [[0, 100000, 0], [100000, 1400000, 1]]\n",
    "data = discretization(data, 'RNA_12', rna12_ranges)\n",
    "\n",
    "rnaeot_ranges = [[0, 1000, 0], [1000, 808451, 1]]\n",
    "data = discretization(data, 'RNA_EOT', rnaeot_ranges)\n",
    "\n",
    "data = discretization(data, 'RNA_EF', rnaeot_ranges)\n",
    "HGB_male_ranges = [[2, 14, 10], [14, 17.5, 15], [17.5, 21, 19]]\n",
    "HGB_female_ranges = [[2, 12.3, 10], [12.3, 15.3, 15], [15.3, 21, 19]]\n",
    "data = discretization_HGB(data, HGB_male_ranges, HGB_female_ranges)"
   ]
  },
  {
   "cell_type": "code",
   "execution_count": 132,
   "metadata": {},
   "outputs": [
    {
     "data": {
      "text/plain": [
       "array([[<matplotlib.axes._subplots.AxesSubplot object at 0x0000026485D22CF8>,\n",
       "        <matplotlib.axes._subplots.AxesSubplot object at 0x00000264899A8198>,\n",
       "        <matplotlib.axes._subplots.AxesSubplot object at 0x0000026489B2DDA0>,\n",
       "        <matplotlib.axes._subplots.AxesSubplot object at 0x000002648948B240>,\n",
       "        <matplotlib.axes._subplots.AxesSubplot object at 0x00000264894A45C0>],\n",
       "       [<matplotlib.axes._subplots.AxesSubplot object at 0x00000264894C3940>,\n",
       "        <matplotlib.axes._subplots.AxesSubplot object at 0x00000264894EBCC0>,\n",
       "        <matplotlib.axes._subplots.AxesSubplot object at 0x0000026489527048>,\n",
       "        <matplotlib.axes._subplots.AxesSubplot object at 0x00000264895270B8>,\n",
       "        <matplotlib.axes._subplots.AxesSubplot object at 0x0000026489586780>],\n",
       "       [<matplotlib.axes._subplots.AxesSubplot object at 0x00000264895B6B00>,\n",
       "        <matplotlib.axes._subplots.AxesSubplot object at 0x00000264895E6E80>,\n",
       "        <matplotlib.axes._subplots.AxesSubplot object at 0x0000026489624240>,\n",
       "        <matplotlib.axes._subplots.AxesSubplot object at 0x00000264896575C0>,\n",
       "        <matplotlib.axes._subplots.AxesSubplot object at 0x0000026489689940>],\n",
       "       [<matplotlib.axes._subplots.AxesSubplot object at 0x00000264896BACC0>,\n",
       "        <matplotlib.axes._subplots.AxesSubplot object at 0x00000264896FF080>,\n",
       "        <matplotlib.axes._subplots.AxesSubplot object at 0x000002648972F400>,\n",
       "        <matplotlib.axes._subplots.AxesSubplot object at 0x0000026489760780>,\n",
       "        <matplotlib.axes._subplots.AxesSubplot object at 0x0000026489793B00>],\n",
       "       [<matplotlib.axes._subplots.AxesSubplot object at 0x00000264897C6E80>,\n",
       "        <matplotlib.axes._subplots.AxesSubplot object at 0x0000026489803240>,\n",
       "        <matplotlib.axes._subplots.AxesSubplot object at 0x00000264898365C0>,\n",
       "        <matplotlib.axes._subplots.AxesSubplot object at 0x000002648986A940>,\n",
       "        <matplotlib.axes._subplots.AxesSubplot object at 0x0000026489899CC0>],\n",
       "       [<matplotlib.axes._subplots.AxesSubplot object at 0x00000264898DC080>,\n",
       "        <matplotlib.axes._subplots.AxesSubplot object at 0x0000026489E5E400>,\n",
       "        <matplotlib.axes._subplots.AxesSubplot object at 0x0000026489E8F780>,\n",
       "        <matplotlib.axes._subplots.AxesSubplot object at 0x0000026489EC1B00>,\n",
       "        <matplotlib.axes._subplots.AxesSubplot object at 0x0000026489EF4E80>]],\n",
       "      dtype=object)"
      ]
     },
     "execution_count": 132,
     "metadata": {},
     "output_type": "execute_result"
    },
    {
     "data": {
      "image/png": "[encoded data removed]",
      "text/plain": [
       "<Figure size 1080x1080 with 30 Axes>"
      ]
     },
     "metadata": {
      "needs_background": "light"
     },
     "output_type": "display_data"
    }
   ],
   "source": [
    "data.hist(bins=30,figsize=(15,15))"
   ]
  },
  {
   "cell_type": "code",
   "execution_count": 70,
   "metadata": {},
   "outputs": [],
   "source": [
    "data.to_csv('new_data.csv')"
   ]
  },
  {
   "cell_type": "code",
   "execution_count": 71,
   "metadata": {},
   "outputs": [
    {
     "data": {
      "text/plain": [
       "['Age',\n",
       " 'Gender',\n",
       " 'BMI',\n",
       " 'Fever',\n",
       " 'Nausea_vomiting',\n",
       " 'Headache',\n",
       " 'Diarrhea',\n",
       " 'Fatigue_n_generalized_bone_ache',\n",
       " 'Jaundice',\n",
       " 'Epigastric_pain',\n",
       " 'WBC',\n",
       " 'RBC',\n",
       " 'HGB',\n",
       " 'Plat',\n",
       " 'AST_1',\n",
       " 'ALT_1',\n",
       " 'ALT4',\n",
       " 'ALT_12',\n",
       " 'ALT_24',\n",
       " 'ALT_36',\n",
       " 'ALT_48',\n",
       " 'ALT_after_24_w',\n",
       " 'RNA_Base',\n",
       " 'RNA_4',\n",
       " 'RNA_12',\n",
       " 'RNA_EOT',\n",
       " 'RNA_EF',\n",
       " 'Baseline_histological_Grading',\n",
       " 'Baselinehistological_staging']"
      ]
     },
     "execution_count": 71,
     "metadata": {},
     "output_type": "execute_result"
    }
   ],
   "source": [
    "list(data)"
   ]
  },
  {
   "cell_type": "code",
   "execution_count": 142,
   "metadata": {},
   "outputs": [],
   "source": [
    "y = data['Baselinehistological_staging']\n",
    "x = data.drop(columns=['Baselinehistological_staging'])"
   ]
  },
  {
   "cell_type": "code",
   "execution_count": 108,
   "metadata": {},
   "outputs": [],
   "source": [
    "X_new = SelectKBest(chi2, k=2).fit_transform(x, y)"
   ]
  },
  {
   "cell_type": "code",
   "execution_count": 116,
   "metadata": {},
   "outputs": [
    {
     "data": {
      "text/plain": [
       "array([1., 3., 4., ..., 1., 1., 1.])"
      ]
     },
     "execution_count": 116,
     "metadata": {},
     "output_type": "execute_result"
    }
   ],
   "source": [
    "X_new[:,0]"
   ]
  },
  {
   "cell_type": "code",
   "execution_count": 118,
   "metadata": {},
   "outputs": [],
   "source": [
    "x = pd.DataFrame(X_new,\n",
    "                 columns=['a', 'b'])"
   ]
  },
  {
   "cell_type": "code",
   "execution_count": 143,
   "metadata": {},
   "outputs": [
    {
     "data": {
      "text/html": [
       "<div>\n",
       "<style scoped>\n",
       "    .dataframe tbody tr th:only-of-type {\n",
       "        vertical-align: middle;\n",
       "    }\n",
       "\n",
       "    .dataframe tbody tr th {\n",
       "        vertical-align: top;\n",
       "    }\n",
       "\n",
       "    .dataframe thead th {\n",
       "        text-align: right;\n",
       "    }\n",
       "</style>\n",
       "<table border=\"1\" class=\"dataframe\">\n",
       "  <thead>\n",
       "    <tr style=\"text-align: right;\">\n",
       "      <th></th>\n",
       "      <th>Age</th>\n",
       "      <th>Gender</th>\n",
       "      <th>BMI</th>\n",
       "      <th>Fever</th>\n",
       "      <th>Nausea_vomiting</th>\n",
       "      <th>Headache</th>\n",
       "      <th>Diarrhea</th>\n",
       "      <th>Fatigue_n_generalized_bone_ache</th>\n",
       "      <th>Jaundice</th>\n",
       "      <th>Epigastric_pain</th>\n",
       "      <th>...</th>\n",
       "      <th>ALT_24</th>\n",
       "      <th>ALT_36</th>\n",
       "      <th>ALT_48</th>\n",
       "      <th>ALT_after_24_w</th>\n",
       "      <th>RNA_Base</th>\n",
       "      <th>RNA_4</th>\n",
       "      <th>RNA_12</th>\n",
       "      <th>RNA_EOT</th>\n",
       "      <th>RNA_EF</th>\n",
       "      <th>Baseline_histological_Grading</th>\n",
       "    </tr>\n",
       "  </thead>\n",
       "  <tbody>\n",
       "    <tr>\n",
       "      <th>0</th>\n",
       "      <td>5</td>\n",
       "      <td>1</td>\n",
       "      <td>4</td>\n",
       "      <td>2</td>\n",
       "      <td>1</td>\n",
       "      <td>1</td>\n",
       "      <td>1</td>\n",
       "      <td>2</td>\n",
       "      <td>2</td>\n",
       "      <td>2</td>\n",
       "      <td>...</td>\n",
       "      <td>2</td>\n",
       "      <td>0</td>\n",
       "      <td>0</td>\n",
       "      <td>0</td>\n",
       "      <td>1</td>\n",
       "      <td>2</td>\n",
       "      <td>1</td>\n",
       "      <td>0</td>\n",
       "      <td>0</td>\n",
       "      <td>13</td>\n",
       "    </tr>\n",
       "    <tr>\n",
       "      <th>1</th>\n",
       "      <td>3</td>\n",
       "      <td>1</td>\n",
       "      <td>2</td>\n",
       "      <td>1</td>\n",
       "      <td>2</td>\n",
       "      <td>2</td>\n",
       "      <td>1</td>\n",
       "      <td>2</td>\n",
       "      <td>2</td>\n",
       "      <td>1</td>\n",
       "      <td>...</td>\n",
       "      <td>3</td>\n",
       "      <td>1</td>\n",
       "      <td>3</td>\n",
       "      <td>2</td>\n",
       "      <td>0</td>\n",
       "      <td>2</td>\n",
       "      <td>1</td>\n",
       "      <td>1</td>\n",
       "      <td>1</td>\n",
       "      <td>4</td>\n",
       "    </tr>\n",
       "    <tr>\n",
       "      <th>2</th>\n",
       "      <td>6</td>\n",
       "      <td>1</td>\n",
       "      <td>3</td>\n",
       "      <td>2</td>\n",
       "      <td>2</td>\n",
       "      <td>2</td>\n",
       "      <td>2</td>\n",
       "      <td>1</td>\n",
       "      <td>1</td>\n",
       "      <td>1</td>\n",
       "      <td>...</td>\n",
       "      <td>3</td>\n",
       "      <td>0</td>\n",
       "      <td>0</td>\n",
       "      <td>0</td>\n",
       "      <td>1</td>\n",
       "      <td>2</td>\n",
       "      <td>0</td>\n",
       "      <td>1</td>\n",
       "      <td>1</td>\n",
       "      <td>4</td>\n",
       "    </tr>\n",
       "    <tr>\n",
       "      <th>3</th>\n",
       "      <td>4</td>\n",
       "      <td>2</td>\n",
       "      <td>3</td>\n",
       "      <td>1</td>\n",
       "      <td>2</td>\n",
       "      <td>1</td>\n",
       "      <td>2</td>\n",
       "      <td>1</td>\n",
       "      <td>2</td>\n",
       "      <td>1</td>\n",
       "      <td>...</td>\n",
       "      <td>2</td>\n",
       "      <td>0</td>\n",
       "      <td>2</td>\n",
       "      <td>1</td>\n",
       "      <td>2</td>\n",
       "      <td>1</td>\n",
       "      <td>1</td>\n",
       "      <td>1</td>\n",
       "      <td>1</td>\n",
       "      <td>10</td>\n",
       "    </tr>\n",
       "    <tr>\n",
       "      <th>4</th>\n",
       "      <td>6</td>\n",
       "      <td>1</td>\n",
       "      <td>3</td>\n",
       "      <td>1</td>\n",
       "      <td>1</td>\n",
       "      <td>2</td>\n",
       "      <td>1</td>\n",
       "      <td>2</td>\n",
       "      <td>2</td>\n",
       "      <td>2</td>\n",
       "      <td>...</td>\n",
       "      <td>3</td>\n",
       "      <td>2</td>\n",
       "      <td>2</td>\n",
       "      <td>1</td>\n",
       "      <td>1</td>\n",
       "      <td>3</td>\n",
       "      <td>3731527</td>\n",
       "      <td>1</td>\n",
       "      <td>1</td>\n",
       "      <td>11</td>\n",
       "    </tr>\n",
       "  </tbody>\n",
       "</table>\n",
       "<p>5 rows × 28 columns</p>\n",
       "</div>"
      ],
      "text/plain": [
       "   Age  Gender  BMI  Fever  Nausea_vomiting  Headache  Diarrhea  \\\n",
       "0    5       1    4      2                1         1         1   \n",
       "1    3       1    2      1                2         2         1   \n",
       "2    6       1    3      2                2         2         2   \n",
       "3    4       2    3      1                2         1         2   \n",
       "4    6       1    3      1                1         2         1   \n",
       "\n",
       "   Fatigue_n_generalized_bone_ache  Jaundice  Epigastric_pain  ...  ALT_24  \\\n",
       "0                                2         2                2  ...       2   \n",
       "1                                2         2                1  ...       3   \n",
       "2                                1         1                1  ...       3   \n",
       "3                                1         2                1  ...       2   \n",
       "4                                2         2                2  ...       3   \n",
       "\n",
       "   ALT_36  ALT_48  ALT_after_24_w  RNA_Base  RNA_4   RNA_12  RNA_EOT  RNA_EF  \\\n",
       "0       0       0               0         1      2        1        0       0   \n",
       "1       1       3               2         0      2        1        1       1   \n",
       "2       0       0               0         1      2        0        1       1   \n",
       "3       0       2               1         2      1        1        1       1   \n",
       "4       2       2               1         1      3  3731527        1       1   \n",
       "\n",
       "   Baseline_histological_Grading  \n",
       "0                             13  \n",
       "1                              4  \n",
       "2                              4  \n",
       "3                             10  \n",
       "4                             11  \n",
       "\n",
       "[5 rows x 28 columns]"
      ]
     },
     "execution_count": 143,
     "metadata": {},
     "output_type": "execute_result"
    }
   ],
   "source": [
    "x.head()"
   ]
  },
  {
   "cell_type": "code",
   "execution_count": 144,
   "metadata": {},
   "outputs": [
    {
     "name": "stdout",
     "output_type": "stream",
     "text": [
      "1108 277 1385 1385\n"
     ]
    }
   ],
   "source": [
    "sss = StratifiedShuffleSplit(n_splits=1, test_size=0.2, random_state=0)\n",
    "sss.get_n_splits(x, y)\n",
    "for train_index, test_index in sss.split(x, y):\n",
    "    print(len(train_index), len(test_index), len(x), len(y))\n",
    "    x_train, x_test = x.iloc[train_index], x.iloc[test_index]\n",
    "    y_train, y_test = y[train_index], y[test_index]"
   ]
  },
  {
   "cell_type": "code",
   "execution_count": 145,
   "metadata": {},
   "outputs": [],
   "source": [
    "#X_train, X_test, y_train, y_test = train_test_split(x, y, test_size=0.3, random_state=42)"
   ]
  },
  {
   "cell_type": "code",
   "execution_count": 146,
   "metadata": {},
   "outputs": [],
   "source": [
    "clf = RandomForestClassifier(max_depth=6, random_state=0)"
   ]
  },
  {
   "cell_type": "code",
   "execution_count": 147,
   "metadata": {},
   "outputs": [],
   "source": [
    "clf.fit(x_train, y_train)\n",
    "prediction = clf.predict(x_test)"
   ]
  },
  {
   "cell_type": "code",
   "execution_count": 148,
   "metadata": {},
   "outputs": [
    {
     "data": {
      "text/plain": [
       "0.22743682310469315"
      ]
     },
     "execution_count": 148,
     "metadata": {},
     "output_type": "execute_result"
    }
   ],
   "source": [
    "accuracy_score(y_test, prediction)"
   ]
  },
  {
   "cell_type": "code",
   "execution_count": 151,
   "metadata": {},
   "outputs": [],
   "source": [
    "clf = svm.SVC()\n",
    "mod = clf.fit(x_train, y_train)"
   ]
  },
  {
   "cell_type": "code",
   "execution_count": 152,
   "metadata": {},
   "outputs": [
    {
     "ename": "ValueError",
     "evalue": "The underlying estimator SVC has no `coef_` or `feature_importances_` attribute. Either pass a fitted estimator to SelectFromModel or call fit before calling transform.",
     "output_type": "error",
     "traceback": [
      "\u001b[1;31m---------------------------------------------------------------------------\u001b[0m",
      "\u001b[1;31mValueError\u001b[0m                                Traceback (most recent call last)",
      "\u001b[1;32m<ipython-input-152-01c7b2a1a14b>\u001b[0m in \u001b[0;36m<module>\u001b[1;34m\u001b[0m\n\u001b[0;32m      1\u001b[0m \u001b[0mmodel\u001b[0m \u001b[1;33m=\u001b[0m \u001b[0mSelectFromModel\u001b[0m\u001b[1;33m(\u001b[0m\u001b[0mmod\u001b[0m\u001b[1;33m,\u001b[0m \u001b[0mprefit\u001b[0m\u001b[1;33m=\u001b[0m\u001b[1;32mTrue\u001b[0m\u001b[1;33m)\u001b[0m\u001b[1;33m\u001b[0m\u001b[0m\n\u001b[1;32m----> 2\u001b[1;33m \u001b[0mX_new\u001b[0m \u001b[1;33m=\u001b[0m \u001b[0mmodel\u001b[0m\u001b[1;33m.\u001b[0m\u001b[0mtransform\u001b[0m\u001b[1;33m(\u001b[0m\u001b[0mx\u001b[0m\u001b[1;33m)\u001b[0m\u001b[1;33m\u001b[0m\u001b[0m\n\u001b[0m",
      "\u001b[1;32m~\\AppData\\Local\\Programs\\Python\\Python37\\lib\\site-packages\\sklearn\\feature_selection\\_base.py\u001b[0m in \u001b[0;36mtransform\u001b[1;34m(self, X)\u001b[0m\n\u001b[0;32m     75\u001b[0m         X = check_array(X, dtype=None, accept_sparse='csr',\n\u001b[0;32m     76\u001b[0m                         force_all_finite=not tags.get('allow_nan', True))\n\u001b[1;32m---> 77\u001b[1;33m         \u001b[0mmask\u001b[0m \u001b[1;33m=\u001b[0m \u001b[0mself\u001b[0m\u001b[1;33m.\u001b[0m\u001b[0mget_support\u001b[0m\u001b[1;33m(\u001b[0m\u001b[1;33m)\u001b[0m\u001b[1;33m\u001b[0m\u001b[0m\n\u001b[0m\u001b[0;32m     78\u001b[0m         \u001b[1;32mif\u001b[0m \u001b[1;32mnot\u001b[0m \u001b[0mmask\u001b[0m\u001b[1;33m.\u001b[0m\u001b[0many\u001b[0m\u001b[1;33m(\u001b[0m\u001b[1;33m)\u001b[0m\u001b[1;33m:\u001b[0m\u001b[1;33m\u001b[0m\u001b[0m\n\u001b[0;32m     79\u001b[0m             warn(\"No features were selected: either the data is\"\n",
      "\u001b[1;32m~\\AppData\\Local\\Programs\\Python\\Python37\\lib\\site-packages\\sklearn\\feature_selection\\_base.py\u001b[0m in \u001b[0;36mget_support\u001b[1;34m(self, indices)\u001b[0m\n\u001b[0;32m     44\u001b[0m             \u001b[0mvalues\u001b[0m \u001b[0mare\u001b[0m \u001b[0mindices\u001b[0m \u001b[0minto\u001b[0m \u001b[0mthe\u001b[0m \u001b[0minput\u001b[0m \u001b[0mfeature\u001b[0m \u001b[0mvector\u001b[0m\u001b[1;33m.\u001b[0m\u001b[1;33m\u001b[0m\u001b[0m\n\u001b[0;32m     45\u001b[0m         \"\"\"\n\u001b[1;32m---> 46\u001b[1;33m         \u001b[0mmask\u001b[0m \u001b[1;33m=\u001b[0m \u001b[0mself\u001b[0m\u001b[1;33m.\u001b[0m\u001b[0m_get_support_mask\u001b[0m\u001b[1;33m(\u001b[0m\u001b[1;33m)\u001b[0m\u001b[1;33m\u001b[0m\u001b[0m\n\u001b[0m\u001b[0;32m     47\u001b[0m         \u001b[1;32mreturn\u001b[0m \u001b[0mmask\u001b[0m \u001b[1;32mif\u001b[0m \u001b[1;32mnot\u001b[0m \u001b[0mindices\u001b[0m \u001b[1;32melse\u001b[0m \u001b[0mnp\u001b[0m\u001b[1;33m.\u001b[0m\u001b[0mwhere\u001b[0m\u001b[1;33m(\u001b[0m\u001b[0mmask\u001b[0m\u001b[1;33m)\u001b[0m\u001b[1;33m[\u001b[0m\u001b[1;36m0\u001b[0m\u001b[1;33m]\u001b[0m\u001b[1;33m\u001b[0m\u001b[0m\n\u001b[0;32m     48\u001b[0m \u001b[1;33m\u001b[0m\u001b[0m\n",
      "\u001b[1;32m~\\AppData\\Local\\Programs\\Python\\Python37\\lib\\site-packages\\sklearn\\feature_selection\\_from_model.py\u001b[0m in \u001b[0;36m_get_support_mask\u001b[1;34m(self)\u001b[0m\n\u001b[0;32m    178\u001b[0m                              \u001b[1;34m' \"prefit=True\" while passing the fitted'\u001b[0m\u001b[1;33m\u001b[0m\u001b[0m\n\u001b[0;32m    179\u001b[0m                              ' estimator to the constructor.')\n\u001b[1;32m--> 180\u001b[1;33m         \u001b[0mscores\u001b[0m \u001b[1;33m=\u001b[0m \u001b[0m_get_feature_importances\u001b[0m\u001b[1;33m(\u001b[0m\u001b[0mestimator\u001b[0m\u001b[1;33m,\u001b[0m \u001b[0mself\u001b[0m\u001b[1;33m.\u001b[0m\u001b[0mnorm_order\u001b[0m\u001b[1;33m)\u001b[0m\u001b[1;33m\u001b[0m\u001b[0m\n\u001b[0m\u001b[0;32m    181\u001b[0m         \u001b[0mthreshold\u001b[0m \u001b[1;33m=\u001b[0m \u001b[0m_calculate_threshold\u001b[0m\u001b[1;33m(\u001b[0m\u001b[0mestimator\u001b[0m\u001b[1;33m,\u001b[0m \u001b[0mscores\u001b[0m\u001b[1;33m,\u001b[0m \u001b[0mself\u001b[0m\u001b[1;33m.\u001b[0m\u001b[0mthreshold\u001b[0m\u001b[1;33m)\u001b[0m\u001b[1;33m\u001b[0m\u001b[0m\n\u001b[0;32m    182\u001b[0m         \u001b[1;32mif\u001b[0m \u001b[0mself\u001b[0m\u001b[1;33m.\u001b[0m\u001b[0mmax_features\u001b[0m \u001b[1;32mis\u001b[0m \u001b[1;32mnot\u001b[0m \u001b[1;32mNone\u001b[0m\u001b[1;33m:\u001b[0m\u001b[1;33m\u001b[0m\u001b[0m\n",
      "\u001b[1;32m~\\AppData\\Local\\Programs\\Python\\Python37\\lib\\site-packages\\sklearn\\feature_selection\\_from_model.py\u001b[0m in \u001b[0;36m_get_feature_importances\u001b[1;34m(estimator, norm_order)\u001b[0m\n\u001b[0;32m     32\u001b[0m             \u001b[1;34m\"`feature_importances_` attribute. Either pass a fitted estimator\"\u001b[0m\u001b[1;33m\u001b[0m\u001b[0m\n\u001b[0;32m     33\u001b[0m             \u001b[1;34m\" to SelectFromModel or call fit before calling transform.\"\u001b[0m\u001b[1;33m\u001b[0m\u001b[0m\n\u001b[1;32m---> 34\u001b[1;33m             % estimator.__class__.__name__)\n\u001b[0m\u001b[0;32m     35\u001b[0m \u001b[1;33m\u001b[0m\u001b[0m\n\u001b[0;32m     36\u001b[0m     \u001b[1;32mreturn\u001b[0m \u001b[0mimportances\u001b[0m\u001b[1;33m\u001b[0m\u001b[0m\n",
      "\u001b[1;31mValueError\u001b[0m: The underlying estimator SVC has no `coef_` or `feature_importances_` attribute. Either pass a fitted estimator to SelectFromModel or call fit before calling transform."
     ]
    }
   ],
   "source": [
    "model = SelectFromModel(mod, prefit=True)\n",
    "X_new = model.transform(x)"
   ]
  },
  {
   "cell_type": "code",
   "execution_count": null,
   "metadata": {},
   "outputs": [],
   "source": [
    "prediction = clf.predict(x_test)\n",
    "accuracy_score(y_test, prediction)"
   ]
  },
  {
   "cell_type": "code",
   "execution_count": 126,
   "metadata": {},
   "outputs": [
    {
     "data": {
      "text/plain": [
       "0.259927797833935"
      ]
     },
     "execution_count": 126,
     "metadata": {},
     "output_type": "execute_result"
    }
   ],
   "source": [
    "classifier = KNeighborsClassifier(n_neighbors=5)\n",
    "classifier.fit(x_train, y_train)\n",
    "prediction = classifier.predict(x_test)\n",
    "accuracy_score(y_test, prediction)"
   ]
  },
  {
   "cell_type": "code",
   "execution_count": null,
   "metadata": {},
   "outputs": [],
   "source": []
  }
 ],
 "metadata": {
  "kernelspec": {
   "display_name": "Python 3.7.0 64-bit",
   "language": "python",
   "name": "python37064bit8d76d3a8b52b4770aacd59d9c834fa47"
  },
  "language_info": {
   "codemirror_mode": {
    "name": "ipython",
    "version": 3
   },
   "file_extension": ".py",
   "mimetype": "text/x-python",
   "name": "python",
   "nbconvert_exporter": "python",
   "pygments_lexer": "ipython3",
   "version": "3.7.0"
  }
 },
 "nbformat": 4,
 "nbformat_minor": 4
}
