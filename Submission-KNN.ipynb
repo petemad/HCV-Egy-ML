{
 "cells": [
  {
   "cell_type": "markdown",
   "metadata": {},
   "source": [
    "# Import necessary libararies"
   ]
  },
  {
   "cell_type": "code",
   "execution_count": 1,
   "metadata": {},
   "outputs": [],
   "source": [
    "import numpy as np\n",
    "import pandas as pd\n",
    "from copy import deepcopy\n",
    "from random import randint\n",
    "from sklearn.metrics import accuracy_score, make_scorer\n",
    "from sklearn.model_selection import StratifiedShuffleSplit, GridSearchCV\n",
    "from sklearn.pipeline import make_pipeline\n",
    "from sklearn.preprocessing import StandardScaler, MinMaxScaler, PolynomialFeatures\n",
    "from sklearn.multiclass import OneVsOneClassifier, OneVsRestClassifier\n",
    "from sklearn.feature_selection import VarianceThreshold"
   ]
  },
  {
   "cell_type": "markdown",
   "metadata": {},
   "source": [
    "# Import classifiers"
   ]
  },
  {
   "cell_type": "code",
   "execution_count": 2,
   "metadata": {},
   "outputs": [],
   "source": [
    "from sklearn.neighbors import KNeighborsClassifier\n",
    "from sklearn.tree import DecisionTreeClassifier\n",
    "from sklearn.ensemble import RandomForestClassifier\n",
    "from sklearn.linear_model import LogisticRegression\n",
    "from sklearn.ensemble import VotingClassifier, GradientBoostingClassifier\n",
    "from sklearn.neural_network import MLPClassifier\n",
    "from sklearn.naive_bayes import GaussianNB, MultinomialNB"
   ]
  },
  {
   "cell_type": "markdown",
   "metadata": {},
   "source": [
    "# Implemented Tools"
   ]
  },
  {
   "cell_type": "code",
   "execution_count": 3,
   "metadata": {},
   "outputs": [],
   "source": [
    "def majority_element(num_list):\n",
    "    idx, ctr = 0, 1\n",
    "        \n",
    "    for i in range(1, len(num_list)):\n",
    "        if num_list[idx] == num_list[i]:\n",
    "            ctr += 1\n",
    "        else:\n",
    "            ctr -= 1\n",
    "            if ctr == 0:\n",
    "                idx = i\n",
    "                ctr = 1\n",
    "        \n",
    "    return num_list[idx]\n",
    "\n",
    "def make_prediction(pred):\n",
    "    predicted = []\n",
    "    for i in range(len(pred[0])):\n",
    "        lst2 = [item[i] for item in pred]\n",
    "        predicted.append(majority_element(lst2))\n",
    "    return predicted\n",
    "\n",
    "def get_estimators_predictions(x, y, classifier, test, y_test, num_of_f, original_N_F=27, n_estimators = None, selective = None):\n",
    "    estimators = []\n",
    "    predictions = []\n",
    "    accuracies = []\n",
    "    max_acc = 0\n",
    "    best_X_test = None\n",
    "    selective_flag = False\n",
    "    if selective is not None:\n",
    "        X_train_features = []\n",
    "        selective_flag = True\n",
    "    features = x.columns.values\n",
    "    if n_estimators is None:\n",
    "        n_estimators = len(test)\n",
    "    for i in range(n_estimators):\n",
    "        f = []\n",
    "        myset = set()\n",
    "        for j in range(original_N_F-num_of_f):\n",
    "            f_num = randint(0,len(features)-num_of_f)\n",
    "            while myset.issuperset([f_num]):\n",
    "                f_num = f_num + 1\n",
    "                if f_num > original_N_F-num_of_f:\n",
    "                    f_num = 0\n",
    "            myset.add(f_num)\n",
    "            f.append(features[f_num])\n",
    "        x_copy = deepcopy(x)\n",
    "        test_copy = deepcopy(test)\n",
    "        for fi in f:\n",
    "            x_copy = x_copy.drop(fi, axis=1)\n",
    "            test_copy = test_copy.drop(fi, axis=1)\n",
    "        clf = classifier\n",
    "        clf = clf.fit(x_copy, y.values.ravel())\n",
    "        estimators.append(deepcopy(clf))\n",
    "        clf_predictions = clf.predict(test_copy)\n",
    "        predictions.append(clf_predictions)\n",
    "        acc_score = accuracy_score(clf_predictions, y_test)\n",
    "        accuracies.append(acc_score)\n",
    "        if selective_flag :\n",
    "            if acc_score > selective :\n",
    "                X_train_features.append(x_copy.columns.values)\n",
    "        if acc_score > max_acc:\n",
    "            max_acc = acc_score\n",
    "            best_X_test = x_copy\n",
    "            best_estimator = deepcopy(clf)\n",
    "    if selective_flag :\n",
    "        return predictions, accuracies, max_acc, estimators, best_estimator, best_X_test, X_train_features\n",
    "    return predictions, accuracies, max_acc, estimators, best_estimator, best_X_test\n",
    "\n",
    "def estimate_on_portions(x, y, classifier, n, x_test, y_test):\n",
    "    best_est = None\n",
    "    estimators = []\n",
    "    acc = []\n",
    "    max_acc = 0\n",
    "    pred = []\n",
    "    interval = int(len(x)/n)\n",
    "    lim1 = 0\n",
    "    lim2 = interval\n",
    "    for i in range(n):\n",
    "        portion_x = x[lim1:lim2]\n",
    "        portion_y = y[lim1:lim2]\n",
    "        clf = classifier.fit(portion_x, portion_y.values.ravel())\n",
    "        predicted = clf.predict(x_test)\n",
    "        pred.append(predicted)\n",
    "        current_acc = accuracy_score(y_test, predicted)\n",
    "        if current_acc > max_acc:\n",
    "            max_acc = current_acc\n",
    "            best_est = clf  \n",
    "        acc.append(current_acc)\n",
    "        estimators.append(clf)\n",
    "        lim1 = lim1 + interval\n",
    "        lim2 = lim2 + interval\n",
    "    return max_acc, acc, best_est, estimators, pred\n",
    "\n",
    "def discretization(x, feature, ranges):\n",
    "    data = deepcopy(x)\n",
    "    for i in range(len(ranges)):\n",
    "        for j in range(len(data)):\n",
    "            if ranges[i][0] <= data[feature][j] < ranges[i][1]:\n",
    "                data[feature][j] = ranges[i][2]\n",
    "    return data\n",
    "\n",
    "\n",
    "def discretization_HGB(x, male_ranges, female_ranges):\n",
    "    data = deepcopy(x)\n",
    "    for i in range(len(male_ranges)):\n",
    "        for j in range(len(data)):\n",
    "            if data['Gender'][j] == 1:\n",
    "                if male_ranges[i][0] <= data['HGB'][j] < male_ranges[i][1]:\n",
    "                    data['HGB'][j] = male_ranges[i][2]\n",
    "            elif data['Gender'][j] == 2:\n",
    "                if female_ranges[i][0] <= data['HGB'][j] < female_ranges[i][1]:\n",
    "                    data['HGB'][j] = female_ranges[i][2]\n",
    "    return data\n",
    "\n",
    "def drop_class(x,y, c):\n",
    "    result = deepcopy(y)\n",
    "    data = deepcopy(x)\n",
    "    for i in range(len(data)):\n",
    "        if y[0][i] == c:\n",
    "            data = data.drop(i, axis = 0)\n",
    "            result = result.drop(i, axis=0)\n",
    "    return data.reset_index(), result.reset_index()"
   ]
  },
  {
   "cell_type": "markdown",
   "metadata": {},
   "source": [
    "# Reading the data"
   ]
  },
  {
   "cell_type": "code",
   "execution_count": 11,
   "metadata": {},
   "outputs": [],
   "source": [
    "data = pd.read_csv(\"D:\\Bachelor's final year\\Second Semester\\ML\\project\\HCV-Egy-Data.csv\")\n",
    "y_classes = pd.DataFrame(np.asarray(data['Baselinehistological staging']))\n",
    "data = data.drop('Baselinehistological staging', axis=1)"
   ]
  },
  {
   "cell_type": "markdown",
   "metadata": {},
   "source": [
    "# Experiments"
   ]
  },
  {
   "cell_type": "markdown",
   "metadata": {},
   "source": [
    "## Droping features"
   ]
  },
  {
   "cell_type": "code",
   "execution_count": 12,
   "metadata": {},
   "outputs": [],
   "source": [
    "data = data.drop('Age', axis = 1)\n",
    "data = data.drop('Gender', axis = 1)\n",
    "data = data.drop('BMI', axis = 1)\n",
    "data = data.drop('Headache ', axis = 1)\n",
    "data = data.drop('Diarrhea ', axis = 1)\n",
    "data = data.drop('Fatigue & generalized bone ache ', axis = 1)\n",
    "data = data.drop('Jaundice ', axis = 1)\n",
    "data = data.drop('WBC', axis = 1)\n",
    "data = data.drop('RBC', axis = 1)\n",
    "data = data.drop('HGB', axis = 1)\n",
    "data = data.drop('AST 1', axis = 1)\n",
    "data = data.drop('ALT 1', axis = 1)\n",
    "data = data.drop('ALT4', axis = 1)\n",
    "#data = data.drop('ALT 12', axis = 1)\n",
    "data = data.drop('ALT 24', axis = 1)\n",
    "data = data.drop('ALT 36', axis = 1)\n",
    "data = data.drop('ALT 48', axis = 1)\n",
    "data = data.drop('ALT after 24 w', axis = 1)\n",
    "data = data.drop('RNA Base', axis = 1)\n",
    "data = data.drop('RNA 4', axis = 1)\n",
    "#data = data.drop('RNA 12', axis = 1)\n",
    "#data = data.drop('RNA EOT', axis = 1)\n",
    "#data = data.drop('RNA EF', axis = 1)\n",
    "data = data.drop('Fever', axis = 1)\n",
    "data = data.drop('Nausea/Vomting', axis = 1)\n",
    "data = data.drop('Epigastric pain ', axis = 1)\n",
    "data = data.drop('Plat', axis = 1)\n",
    "#data = data.drop('Baseline histological Grading', axis = 1)"
   ]
  },
  {
   "cell_type": "markdown",
   "metadata": {},
   "source": [
    "## Polynomial features"
   ]
  },
  {
   "cell_type": "code",
   "execution_count": 13,
   "metadata": {},
   "outputs": [
    {
     "name": "stdout",
     "output_type": "stream",
     "text": [
      "classes length = 1385  data length = 1385\n"
     ]
    },
    {
     "data": {
      "text/html": [
       "<div>\n",
       "<style scoped>\n",
       "    .dataframe tbody tr th:only-of-type {\n",
       "        vertical-align: middle;\n",
       "    }\n",
       "\n",
       "    .dataframe tbody tr th {\n",
       "        vertical-align: top;\n",
       "    }\n",
       "\n",
       "    .dataframe thead th {\n",
       "        text-align: right;\n",
       "    }\n",
       "</style>\n",
       "<table border=\"1\" class=\"dataframe\">\n",
       "  <thead>\n",
       "    <tr style=\"text-align: right;\">\n",
       "      <th></th>\n",
       "      <th>1</th>\n",
       "      <th>2</th>\n",
       "      <th>3</th>\n",
       "      <th>4</th>\n",
       "      <th>5</th>\n",
       "      <th>6</th>\n",
       "      <th>7</th>\n",
       "      <th>8</th>\n",
       "      <th>9</th>\n",
       "      <th>10</th>\n",
       "      <th>...</th>\n",
       "      <th>242</th>\n",
       "      <th>243</th>\n",
       "      <th>244</th>\n",
       "      <th>245</th>\n",
       "      <th>246</th>\n",
       "      <th>247</th>\n",
       "      <th>248</th>\n",
       "      <th>249</th>\n",
       "      <th>250</th>\n",
       "      <th>251</th>\n",
       "    </tr>\n",
       "  </thead>\n",
       "  <tbody>\n",
       "    <tr>\n",
       "      <th>0</th>\n",
       "      <td>109.0</td>\n",
       "      <td>288194.0</td>\n",
       "      <td>5.0</td>\n",
       "      <td>5.0</td>\n",
       "      <td>13.0</td>\n",
       "      <td>11881.0</td>\n",
       "      <td>31413146.0</td>\n",
       "      <td>545.0</td>\n",
       "      <td>545.0</td>\n",
       "      <td>1417.0</td>\n",
       "      <td>...</td>\n",
       "      <td>8.125000e+03</td>\n",
       "      <td>2.112500e+04</td>\n",
       "      <td>5.492500e+04</td>\n",
       "      <td>1.428050e+05</td>\n",
       "      <td>3.125000e+03</td>\n",
       "      <td>8.125000e+03</td>\n",
       "      <td>2.112500e+04</td>\n",
       "      <td>5.492500e+04</td>\n",
       "      <td>1.428050e+05</td>\n",
       "      <td>371293.0</td>\n",
       "    </tr>\n",
       "    <tr>\n",
       "      <th>1</th>\n",
       "      <td>75.0</td>\n",
       "      <td>637056.0</td>\n",
       "      <td>336804.0</td>\n",
       "      <td>31085.0</td>\n",
       "      <td>4.0</td>\n",
       "      <td>5625.0</td>\n",
       "      <td>47779200.0</td>\n",
       "      <td>25260300.0</td>\n",
       "      <td>2331375.0</td>\n",
       "      <td>300.0</td>\n",
       "      <td>...</td>\n",
       "      <td>4.046596e+19</td>\n",
       "      <td>5.207137e+15</td>\n",
       "      <td>6.700513e+11</td>\n",
       "      <td>8.622182e+07</td>\n",
       "      <td>2.902381e+22</td>\n",
       "      <td>3.734767e+18</td>\n",
       "      <td>4.805876e+14</td>\n",
       "      <td>6.184174e+10</td>\n",
       "      <td>7.957760e+06</td>\n",
       "      <td>1024.0</td>\n",
       "    </tr>\n",
       "    <tr>\n",
       "      <th>2</th>\n",
       "      <td>107.0</td>\n",
       "      <td>5.0</td>\n",
       "      <td>735945.0</td>\n",
       "      <td>558829.0</td>\n",
       "      <td>4.0</td>\n",
       "      <td>11449.0</td>\n",
       "      <td>535.0</td>\n",
       "      <td>78746115.0</td>\n",
       "      <td>59794703.0</td>\n",
       "      <td>428.0</td>\n",
       "      <td>...</td>\n",
       "      <td>5.137386e+23</td>\n",
       "      <td>3.677250e+18</td>\n",
       "      <td>2.632111e+13</td>\n",
       "      <td>1.884019e+08</td>\n",
       "      <td>5.449977e+28</td>\n",
       "      <td>3.900998e+23</td>\n",
       "      <td>2.792266e+18</td>\n",
       "      <td>1.998655e+13</td>\n",
       "      <td>1.430602e+08</td>\n",
       "      <td>1024.0</td>\n",
       "    </tr>\n",
       "    <tr>\n",
       "      <th>3</th>\n",
       "      <td>80.0</td>\n",
       "      <td>585688.0</td>\n",
       "      <td>744463.0</td>\n",
       "      <td>582301.0</td>\n",
       "      <td>10.0</td>\n",
       "      <td>6400.0</td>\n",
       "      <td>46855040.0</td>\n",
       "      <td>59557040.0</td>\n",
       "      <td>46584080.0</td>\n",
       "      <td>800.0</td>\n",
       "      <td>...</td>\n",
       "      <td>1.469893e+24</td>\n",
       "      <td>2.524284e+19</td>\n",
       "      <td>4.335015e+14</td>\n",
       "      <td>7.444630e+09</td>\n",
       "      <td>6.694801e+28</td>\n",
       "      <td>1.149715e+24</td>\n",
       "      <td>1.974434e+19</td>\n",
       "      <td>3.390745e+14</td>\n",
       "      <td>5.823010e+09</td>\n",
       "      <td>100000.0</td>\n",
       "    </tr>\n",
       "    <tr>\n",
       "      <th>4</th>\n",
       "      <td>48.0</td>\n",
       "      <td>3731527.0</td>\n",
       "      <td>338946.0</td>\n",
       "      <td>242861.0</td>\n",
       "      <td>11.0</td>\n",
       "      <td>2304.0</td>\n",
       "      <td>179113296.0</td>\n",
       "      <td>16269408.0</td>\n",
       "      <td>11657328.0</td>\n",
       "      <td>528.0</td>\n",
       "      <td>...</td>\n",
       "      <td>5.340680e+22</td>\n",
       "      <td>2.418975e+18</td>\n",
       "      <td>1.095636e+14</td>\n",
       "      <td>4.962508e+09</td>\n",
       "      <td>8.448681e+26</td>\n",
       "      <td>3.826695e+22</td>\n",
       "      <td>1.733240e+18</td>\n",
       "      <td>7.850433e+13</td>\n",
       "      <td>3.555728e+09</td>\n",
       "      <td>161051.0</td>\n",
       "    </tr>\n",
       "  </tbody>\n",
       "</table>\n",
       "<p>5 rows × 251 columns</p>\n",
       "</div>"
      ],
      "text/plain": [
       "     1          2         3         4     5        6            7    \\\n",
       "0  109.0   288194.0       5.0       5.0  13.0  11881.0   31413146.0   \n",
       "1   75.0   637056.0  336804.0   31085.0   4.0   5625.0   47779200.0   \n",
       "2  107.0        5.0  735945.0  558829.0   4.0  11449.0        535.0   \n",
       "3   80.0   585688.0  744463.0  582301.0  10.0   6400.0   46855040.0   \n",
       "4   48.0  3731527.0  338946.0  242861.0  11.0   2304.0  179113296.0   \n",
       "\n",
       "          8           9       10   ...           242           243  \\\n",
       "0       545.0       545.0  1417.0  ...  8.125000e+03  2.112500e+04   \n",
       "1  25260300.0   2331375.0   300.0  ...  4.046596e+19  5.207137e+15   \n",
       "2  78746115.0  59794703.0   428.0  ...  5.137386e+23  3.677250e+18   \n",
       "3  59557040.0  46584080.0   800.0  ...  1.469893e+24  2.524284e+19   \n",
       "4  16269408.0  11657328.0   528.0  ...  5.340680e+22  2.418975e+18   \n",
       "\n",
       "            244           245           246           247           248  \\\n",
       "0  5.492500e+04  1.428050e+05  3.125000e+03  8.125000e+03  2.112500e+04   \n",
       "1  6.700513e+11  8.622182e+07  2.902381e+22  3.734767e+18  4.805876e+14   \n",
       "2  2.632111e+13  1.884019e+08  5.449977e+28  3.900998e+23  2.792266e+18   \n",
       "3  4.335015e+14  7.444630e+09  6.694801e+28  1.149715e+24  1.974434e+19   \n",
       "4  1.095636e+14  4.962508e+09  8.448681e+26  3.826695e+22  1.733240e+18   \n",
       "\n",
       "            249           250       251  \n",
       "0  5.492500e+04  1.428050e+05  371293.0  \n",
       "1  6.184174e+10  7.957760e+06    1024.0  \n",
       "2  1.998655e+13  1.430602e+08    1024.0  \n",
       "3  3.390745e+14  5.823010e+09  100000.0  \n",
       "4  7.850433e+13  3.555728e+09  161051.0  \n",
       "\n",
       "[5 rows x 251 columns]"
      ]
     },
     "execution_count": 13,
     "metadata": {},
     "output_type": "execute_result"
    }
   ],
   "source": [
    "data = PolynomialFeatures(5).fit_transform(data)\n",
    "data = pd.DataFrame(data)\n",
    "data = data.drop(0, axis = 1)\n",
    "print('classes length = ' + str(len(y_classes)) +'  data length = ' + str(len(data)))\n",
    "data.head()"
   ]
  },
  {
   "cell_type": "code",
   "execution_count": 8,
   "metadata": {},
   "outputs": [],
   "source": [
    "data = new_data"
   ]
  },
  {
   "cell_type": "markdown",
   "metadata": {},
   "source": [
    "# Train-Test split"
   ]
  },
  {
   "cell_type": "code",
   "execution_count": 14,
   "metadata": {},
   "outputs": [],
   "source": [
    "sss = StratifiedShuffleSplit(n_splits=5, test_size=0.2, random_state=0)\n",
    "sss.get_n_splits(data, y_classes)\n",
    "for train_index, test_index in sss.split(data, y_classes):\n",
    "    X_train, X_test = data.iloc[train_index], data.iloc[test_index]\n",
    "    y_train, y_test = y_classes.iloc[train_index], y_classes.iloc[test_index]"
   ]
  },
  {
   "cell_type": "markdown",
   "metadata": {},
   "source": [
    "# FItting and Getting results"
   ]
  },
  {
   "cell_type": "code",
   "execution_count": 15,
   "metadata": {},
   "outputs": [
    {
     "data": {
      "text/plain": [
       "array([ 13, 251], dtype=int64)"
      ]
     },
     "execution_count": 15,
     "metadata": {},
     "output_type": "execute_result"
    }
   ],
   "source": [
    "pred, acc, max_acc, estimators, best_est, best_X_test = get_estimators_predictions(X_train, y_train,\n",
    "                                        #RandomForestClassifier(n_estimators=100, max_depth=3, max_samples = 0.3), \n",
    "                                        KNeighborsClassifier(10),  \n",
    "                                        X_test, y_test, 2, 251, n_estimators=100)\n",
    "predicted = make_prediction(pred)\n",
    "best_X_test.columns.values"
   ]
  },
  {
   "cell_type": "code",
   "execution_count": 16,
   "metadata": {},
   "outputs": [
    {
     "name": "stdout",
     "output_type": "stream",
     "text": [
      "max accuracy = 0.33212996389891697\n",
      "majority accuracy = 0.2563176895306859\n"
     ]
    }
   ],
   "source": [
    "print('max accuracy = ' + str(max_acc))\n",
    "print ('majority accuracy = ' + str(accuracy_score(predicted, y_test)))"
   ]
  },
  {
   "cell_type": "code",
   "execution_count": 17,
   "metadata": {},
   "outputs": [
    {
     "name": "stdout",
     "output_type": "stream",
     "text": [
      "best estimator accuracy = 0.33212996389891697\n"
     ]
    }
   ],
   "source": [
    "X_test_new = X_test\n",
    "for i in range(1, len(X_test.columns.values)+1):\n",
    "    if i == 13 or i == 251:\n",
    "        continue\n",
    "    else :\n",
    "        X_test_new = X_test_new.drop(i ,axis=1)\n",
    "new_predicted = best_est.predict(X_test_new)\n",
    "print ('best estimator accuracy = ' + str(accuracy_score(new_predicted, y_test)))"
   ]
  },
  {
   "cell_type": "code",
   "execution_count": null,
   "metadata": {},
   "outputs": [],
   "source": [
    "np.sort(acc)"
   ]
  },
  {
   "cell_type": "code",
   "execution_count": null,
   "metadata": {},
   "outputs": [],
   "source": []
  }
 ],
 "metadata": {
  "kernelspec": {
   "display_name": "Python 3",
   "language": "python",
   "name": "python3"
  },
  "language_info": {
   "codemirror_mode": {
    "name": "ipython",
    "version": 3
   },
   "file_extension": ".py",
   "mimetype": "text/x-python",
   "name": "python",
   "nbconvert_exporter": "python",
   "pygments_lexer": "ipython3",
   "version": "3.8.1"
  }
 },
 "nbformat": 4,
 "nbformat_minor": 4
}
